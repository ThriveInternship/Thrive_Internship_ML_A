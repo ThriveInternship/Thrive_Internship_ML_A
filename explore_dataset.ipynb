{
 "cells": [
  {
   "cell_type": "markdown",
   "id": "70b1c290",
   "metadata": {},
   "source": [
    "\n",
    "# 🧪 Customer Support Classifier — Dataset Exploration (Week 1)\n",
    "\n",
    "**Goal:** Quick, reproducible exploration of the `customer_support_tickets_clean_500.csv` dataset.\n",
    "\n",
    "**What you'll do in this notebook:**\n",
    "1. Load the dataset from `data/`\n",
    "2. Inspect schema & basic stats\n",
    "3. Check class distribution\n",
    "4. Preview random samples per class\n",
    "5. Look at text length distribution\n",
    "6. (Optional) Quick train/test split sanity check\n",
    "\n",
    "> Run this notebook in Google Colab or locally inside the repo.\n"
   ]
  },
  {
   "cell_type": "code",
   "execution_count": 11,
   "id": "24272978",
   "metadata": {},
   "outputs": [],
   "source": [
    "\n",
    "import os\n",
    "import pandas as pd\n",
    "import numpy as np\n",
    "import matplotlib.pyplot as plt\n",
    "from collections import Counter\n",
    "from sklearn.model_selection import train_test_split\n",
    "\n",
    "# Ensure plots show inline\n",
    "%matplotlib inline\n"
   ]
  },
  {
   "cell_type": "code",
   "execution_count": null,
   "id": "8410fdf5",
   "metadata": {},
   "outputs": [],
   "source": []
  },
  {
   "cell_type": "code",
   "execution_count": 12,
   "id": "f909d479",
   "metadata": {},
   "outputs": [],
   "source": [
    "\n",
    "# === Config ===\n",
    "DATA_PATH = \"data/clean/clean_tickets.csv\"  # adjust if needed\n",
    "RANDOM_SEED = 42\n",
    "\n",
    "# Reproducibility\n",
    "np.random.seed(RANDOM_SEED)\n"
   ]
  },
  {
   "cell_type": "code",
   "execution_count": 13,
   "id": "90051d16",
   "metadata": {},
   "outputs": [
    {
     "name": "stdout",
     "output_type": "stream",
     "text": [
      "✅ Loaded dataset.\n",
      "Shape: (472, 4)\n"
     ]
    },
    {
     "data": {
      "application/vnd.microsoft.datawrangler.viewer.v0+json": {
       "columns": [
        {
         "name": "index",
         "rawType": "int64",
         "type": "integer"
        },
        {
         "name": "text",
         "rawType": "object",
         "type": "string"
        },
        {
         "name": "label",
         "rawType": "object",
         "type": "string"
        },
        {
         "name": "ticket_id",
         "rawType": "int64",
         "type": "integer"
        },
        {
         "name": "agent_name",
         "rawType": "object",
         "type": "string"
        }
       ],
       "ref": "6636f8ed-89fc-4c69-8638-240fa52565f3",
       "rows": [
        [
         "0",
         "Where can I find API rate limits documentation?",
         "other",
         "1000",
         "Dana"
        ],
        [
         "1",
         "Can I migrate data from Freshdesk?",
         "other",
         "1001",
         "Bob"
        ],
        [
         "2",
         "Cannot update billing address; page keeps reloading.",
         "billing",
         "1002",
         "Charlie"
        ],
        [
         "3",
         "Looking for a product roadmap or upcoming features.",
         "other",
         "1003",
         "Dana"
        ],
        [
         "4",
         "Dark mode toggled but UI stays light.",
         "technical",
         "1004",
         "Alice"
        ]
       ],
       "shape": {
        "columns": 4,
        "rows": 5
       }
      },
      "text/html": [
       "<div>\n",
       "<style scoped>\n",
       "    .dataframe tbody tr th:only-of-type {\n",
       "        vertical-align: middle;\n",
       "    }\n",
       "\n",
       "    .dataframe tbody tr th {\n",
       "        vertical-align: top;\n",
       "    }\n",
       "\n",
       "    .dataframe thead th {\n",
       "        text-align: right;\n",
       "    }\n",
       "</style>\n",
       "<table border=\"1\" class=\"dataframe\">\n",
       "  <thead>\n",
       "    <tr style=\"text-align: right;\">\n",
       "      <th></th>\n",
       "      <th>text</th>\n",
       "      <th>label</th>\n",
       "      <th>ticket_id</th>\n",
       "      <th>agent_name</th>\n",
       "    </tr>\n",
       "  </thead>\n",
       "  <tbody>\n",
       "    <tr>\n",
       "      <th>0</th>\n",
       "      <td>Where can I find API rate limits documentation?</td>\n",
       "      <td>other</td>\n",
       "      <td>1000</td>\n",
       "      <td>Dana</td>\n",
       "    </tr>\n",
       "    <tr>\n",
       "      <th>1</th>\n",
       "      <td>Can I migrate data from Freshdesk?</td>\n",
       "      <td>other</td>\n",
       "      <td>1001</td>\n",
       "      <td>Bob</td>\n",
       "    </tr>\n",
       "    <tr>\n",
       "      <th>2</th>\n",
       "      <td>Cannot update billing address; page keeps relo...</td>\n",
       "      <td>billing</td>\n",
       "      <td>1002</td>\n",
       "      <td>Charlie</td>\n",
       "    </tr>\n",
       "    <tr>\n",
       "      <th>3</th>\n",
       "      <td>Looking for a product roadmap or upcoming feat...</td>\n",
       "      <td>other</td>\n",
       "      <td>1003</td>\n",
       "      <td>Dana</td>\n",
       "    </tr>\n",
       "    <tr>\n",
       "      <th>4</th>\n",
       "      <td>Dark mode toggled but UI stays light.</td>\n",
       "      <td>technical</td>\n",
       "      <td>1004</td>\n",
       "      <td>Alice</td>\n",
       "    </tr>\n",
       "  </tbody>\n",
       "</table>\n",
       "</div>"
      ],
      "text/plain": [
       "                                                text      label  ticket_id  \\\n",
       "0    Where can I find API rate limits documentation?      other       1000   \n",
       "1                 Can I migrate data from Freshdesk?      other       1001   \n",
       "2  Cannot update billing address; page keeps relo...    billing       1002   \n",
       "3  Looking for a product roadmap or upcoming feat...      other       1003   \n",
       "4              Dark mode toggled but UI stays light.  technical       1004   \n",
       "\n",
       "  agent_name  \n",
       "0       Dana  \n",
       "1        Bob  \n",
       "2    Charlie  \n",
       "3       Dana  \n",
       "4      Alice  "
      ]
     },
     "execution_count": 13,
     "metadata": {},
     "output_type": "execute_result"
    }
   ],
   "source": [
    "\n",
    "assert os.path.exists(DATA_PATH), f\"Could not find file at {DATA_PATH}. Make sure the CSV is in the data/ folder.\"\n",
    "df = pd.read_csv(DATA_PATH)\n",
    "\n",
    "print(\"✅ Loaded dataset.\")\n",
    "print(\"Shape:\", df.shape)\n",
    "df.head()\n"
   ]
  },
  {
   "cell_type": "code",
   "execution_count": 14,
   "id": "2ef2b7b1",
   "metadata": {},
   "outputs": [
    {
     "name": "stdout",
     "output_type": "stream",
     "text": [
      "Columns: ['text', 'label', 'ticket_id', 'agent_name']\n",
      "\n",
      "Info:\n",
      "<class 'pandas.core.frame.DataFrame'>\n",
      "RangeIndex: 472 entries, 0 to 471\n",
      "Data columns (total 4 columns):\n",
      " #   Column      Non-Null Count  Dtype \n",
      "---  ------      --------------  ----- \n",
      " 0   text        472 non-null    object\n",
      " 1   label       472 non-null    object\n",
      " 2   ticket_id   472 non-null    int64 \n",
      " 3   agent_name  472 non-null    object\n",
      "dtypes: int64(1), object(3)\n",
      "memory usage: 14.9+ KB\n",
      "None\n",
      "\n",
      "Missing values per column:\n",
      "text          0\n",
      "label         0\n",
      "ticket_id     0\n",
      "agent_name    0\n",
      "dtype: int64\n"
     ]
    }
   ],
   "source": [
    "\n",
    "print(\"Columns:\", df.columns.tolist())\n",
    "print(\"\\nInfo:\")\n",
    "print(df.info())\n",
    "\n",
    "print(\"\\nMissing values per column:\")\n",
    "print(df.isna().sum())\n"
   ]
  },
  {
   "cell_type": "code",
   "execution_count": 15,
   "id": "f1455d28",
   "metadata": {},
   "outputs": [
    {
     "name": "stdout",
     "output_type": "stream",
     "text": [
      "Using columns: text -> True , label -> True\n"
     ]
    },
    {
     "data": {
      "application/vnd.microsoft.datawrangler.viewer.v0+json": {
       "columns": [
        {
         "name": "index",
         "rawType": "int64",
         "type": "integer"
        },
        {
         "name": "text",
         "rawType": "object",
         "type": "string"
        },
        {
         "name": "label",
         "rawType": "object",
         "type": "string"
        },
        {
         "name": "ticket_id",
         "rawType": "int64",
         "type": "integer"
        },
        {
         "name": "agent_name",
         "rawType": "object",
         "type": "string"
        }
       ],
       "ref": "26e94477-ef9d-468e-bdf5-d7266dbab85f",
       "rows": [
        [
         "0",
         "Where can I find API rate limits documentation?",
         "other",
         "1000",
         "Dana"
        ],
        [
         "1",
         "Can I migrate data from Freshdesk?",
         "other",
         "1001",
         "Bob"
        ],
        [
         "2",
         "Cannot update billing address; page keeps reloading.",
         "billing",
         "1002",
         "Charlie"
        ]
       ],
       "shape": {
        "columns": 4,
        "rows": 3
       }
      },
      "text/html": [
       "<div>\n",
       "<style scoped>\n",
       "    .dataframe tbody tr th:only-of-type {\n",
       "        vertical-align: middle;\n",
       "    }\n",
       "\n",
       "    .dataframe tbody tr th {\n",
       "        vertical-align: top;\n",
       "    }\n",
       "\n",
       "    .dataframe thead th {\n",
       "        text-align: right;\n",
       "    }\n",
       "</style>\n",
       "<table border=\"1\" class=\"dataframe\">\n",
       "  <thead>\n",
       "    <tr style=\"text-align: right;\">\n",
       "      <th></th>\n",
       "      <th>text</th>\n",
       "      <th>label</th>\n",
       "      <th>ticket_id</th>\n",
       "      <th>agent_name</th>\n",
       "    </tr>\n",
       "  </thead>\n",
       "  <tbody>\n",
       "    <tr>\n",
       "      <th>0</th>\n",
       "      <td>Where can I find API rate limits documentation?</td>\n",
       "      <td>other</td>\n",
       "      <td>1000</td>\n",
       "      <td>Dana</td>\n",
       "    </tr>\n",
       "    <tr>\n",
       "      <th>1</th>\n",
       "      <td>Can I migrate data from Freshdesk?</td>\n",
       "      <td>other</td>\n",
       "      <td>1001</td>\n",
       "      <td>Bob</td>\n",
       "    </tr>\n",
       "    <tr>\n",
       "      <th>2</th>\n",
       "      <td>Cannot update billing address; page keeps relo...</td>\n",
       "      <td>billing</td>\n",
       "      <td>1002</td>\n",
       "      <td>Charlie</td>\n",
       "    </tr>\n",
       "  </tbody>\n",
       "</table>\n",
       "</div>"
      ],
      "text/plain": [
       "                                                text    label  ticket_id  \\\n",
       "0    Where can I find API rate limits documentation?    other       1000   \n",
       "1                 Can I migrate data from Freshdesk?    other       1001   \n",
       "2  Cannot update billing address; page keeps relo...  billing       1002   \n",
       "\n",
       "  agent_name  \n",
       "0       Dana  \n",
       "1        Bob  \n",
       "2    Charlie  "
      ]
     },
     "metadata": {},
     "output_type": "display_data"
    }
   ],
   "source": [
    "\n",
    "# Try to normalize expected columns if they exist with different names\n",
    "# Expected: 'text' and 'label'\n",
    "candidate_text_cols = [c for c in df.columns if c.lower() in [\"text\", \"ticket_text\", \"message\", \"body\"]]\n",
    "candidate_label_cols = [c for c in df.columns if c.lower() in [\"label\", \"category\", \"class\"]]\n",
    "\n",
    "if candidate_text_cols and \"text\" not in df.columns:\n",
    "    df = df.rename(columns={candidate_text_cols[0]: \"text\"})\n",
    "if candidate_label_cols and \"label\" not in df.columns:\n",
    "    df = df.rename(columns={candidate_label_cols[0]: \"label\"})\n",
    "\n",
    "print(\"Using columns: text ->\", \"text\" in df.columns, \", label ->\", \"label\" in df.columns)\n",
    "display(df.head(3))\n"
   ]
  },
  {
   "cell_type": "code",
   "execution_count": 16,
   "id": "81dc42c4",
   "metadata": {},
   "outputs": [
    {
     "name": "stdout",
     "output_type": "stream",
     "text": [
      "Class distribution:\n",
      "label\n",
      "account      115\n",
      "billing      113\n",
      "other        125\n",
      "technical    119\n",
      "Name: count, dtype: int64\n"
     ]
    },
    {
     "data": {
      "image/png": "[encoded data removed]",
      "text/plain": [
       "<Figure size 640x480 with 1 Axes>"
      ]
     },
     "metadata": {},
     "output_type": "display_data"
    }
   ],
   "source": [
    "\n",
    "if \"label\" in df.columns:\n",
    "    counts = df[\"label\"].value_counts().sort_index()\n",
    "    print(\"Class distribution:\")\n",
    "    print(counts)\n",
    "\n",
    "    # Plot class distribution\n",
    "    plt.figure()\n",
    "    counts.plot(kind=\"bar\")\n",
    "    plt.title(\"Class Distribution\")\n",
    "    plt.xlabel(\"Label\")\n",
    "    plt.ylabel(\"Count\")\n",
    "    plt.show()\n",
    "else:\n",
    "    print(\"No 'label' column found; please ensure your CSV has a label/category column.\")\n"
   ]
  },
  {
   "cell_type": "code",
   "execution_count": 17,
   "id": "62d1687c",
   "metadata": {},
   "outputs": [
    {
     "name": "stdout",
     "output_type": "stream",
     "text": [
      "Text length (words) — summary stats:\n",
      "count    472.000000\n",
      "mean       7.381356\n",
      "std        1.081946\n",
      "min        5.000000\n",
      "25%        7.000000\n",
      "50%        7.000000\n",
      "75%        8.000000\n",
      "max       10.000000\n",
      "Name: text, dtype: float64\n"
     ]
    },
    {
     "data": {
      "image/png": "[encoded data removed]",
      "text/plain": [
       "<Figure size 640x480 with 1 Axes>"
      ]
     },
     "metadata": {},
     "output_type": "display_data"
    }
   ],
   "source": [
    "\n",
    "if \"text\" in df.columns:\n",
    "    text_lengths = df[\"text\"].astype(str).apply(lambda x: len(x.split()))\n",
    "    print(\"Text length (words) — summary stats:\")\n",
    "    print(text_lengths.describe())\n",
    "\n",
    "    plt.figure()\n",
    "    text_lengths.hist(bins=30)\n",
    "    plt.title(\"Text Length Distribution (by words)\")\n",
    "    plt.xlabel(\"Words per ticket\")\n",
    "    plt.ylabel(\"Frequency\")\n",
    "    plt.show()\n",
    "else:\n",
    "    print(\"No 'text' column found; please ensure your CSV has a text column.\")\n"
   ]
  },
  {
   "cell_type": "code",
   "execution_count": 18,
   "id": "df413ca4",
   "metadata": {},
   "outputs": [
    {
     "data": {
      "application/vnd.microsoft.datawrangler.viewer.v0+json": {
       "columns": [
        {
         "name": "index",
         "rawType": "int64",
         "type": "integer"
        },
        {
         "name": "sample_of",
         "rawType": "object",
         "type": "string"
        },
        {
         "name": "text",
         "rawType": "object",
         "type": "string"
        },
        {
         "name": "label",
         "rawType": "object",
         "type": "string"
        }
       ],
       "ref": "bc2a0430-2064-46e8-b3fd-381da038c446",
       "rows": [
        [
         "0",
         "account",
         "Profile picture upload fails with unknown error. ",
         "account"
        ],
        [
         "1",
         "account",
         "How do I delete my account and all data?",
         "account"
        ],
        [
         "2",
         "account",
         "Profile picture upload fails with unknown error.",
         "account"
        ],
        [
         "3",
         "billing",
         "Subscription renewal charged incorrectly this month.",
         "billing"
        ],
        [
         "4",
         "billing",
         "Promo code SAVE20 not applied at checkout.",
         "billing"
        ],
        [
         "5",
         "billing",
         "Currency converted incorrectly; expected GBP.",
         "billing"
        ],
        [
         "6",
         "other",
         "Do you offer discounts for students or NGOs?",
         "other"
        ],
        [
         "7",
         "other",
         "Please provide onboarding training for my team.",
         "other"
        ],
        [
         "8",
         "other",
         "Requesting invoice to be sent monthly instead of weekly.",
         "other"
        ],
        [
         "9",
         "technical",
         "File export to CSV generates corrupted file.",
         "technical"
        ],
        [
         "10",
         "technical",
         "Upload stuck at 37% for more than 10 minutes.",
         "technical"
        ],
        [
         "11",
         "technical",
         "App crashes when I tap Submit on Android.",
         "technical"
        ]
       ],
       "shape": {
        "columns": 3,
        "rows": 12
       }
      },
      "text/html": [
       "<div>\n",
       "<style scoped>\n",
       "    .dataframe tbody tr th:only-of-type {\n",
       "        vertical-align: middle;\n",
       "    }\n",
       "\n",
       "    .dataframe tbody tr th {\n",
       "        vertical-align: top;\n",
       "    }\n",
       "\n",
       "    .dataframe thead th {\n",
       "        text-align: right;\n",
       "    }\n",
       "</style>\n",
       "<table border=\"1\" class=\"dataframe\">\n",
       "  <thead>\n",
       "    <tr style=\"text-align: right;\">\n",
       "      <th></th>\n",
       "      <th>sample_of</th>\n",
       "      <th>text</th>\n",
       "      <th>label</th>\n",
       "    </tr>\n",
       "  </thead>\n",
       "  <tbody>\n",
       "    <tr>\n",
       "      <th>0</th>\n",
       "      <td>account</td>\n",
       "      <td>Profile picture upload fails with unknown error.</td>\n",
       "      <td>account</td>\n",
       "    </tr>\n",
       "    <tr>\n",
       "      <th>1</th>\n",
       "      <td>account</td>\n",
       "      <td>How do I delete my account and all data?</td>\n",
       "      <td>account</td>\n",
       "    </tr>\n",
       "    <tr>\n",
       "      <th>2</th>\n",
       "      <td>account</td>\n",
       "      <td>Profile picture upload fails with unknown error.</td>\n",
       "      <td>account</td>\n",
       "    </tr>\n",
       "    <tr>\n",
       "      <th>3</th>\n",
       "      <td>billing</td>\n",
       "      <td>Subscription renewal charged incorrectly this ...</td>\n",
       "      <td>billing</td>\n",
       "    </tr>\n",
       "    <tr>\n",
       "      <th>4</th>\n",
       "      <td>billing</td>\n",
       "      <td>Promo code SAVE20 not applied at checkout.</td>\n",
       "      <td>billing</td>\n",
       "    </tr>\n",
       "    <tr>\n",
       "      <th>5</th>\n",
       "      <td>billing</td>\n",
       "      <td>Currency converted incorrectly; expected GBP.</td>\n",
       "      <td>billing</td>\n",
       "    </tr>\n",
       "    <tr>\n",
       "      <th>6</th>\n",
       "      <td>other</td>\n",
       "      <td>Do you offer discounts for students or NGOs?</td>\n",
       "      <td>other</td>\n",
       "    </tr>\n",
       "    <tr>\n",
       "      <th>7</th>\n",
       "      <td>other</td>\n",
       "      <td>Please provide onboarding training for my team.</td>\n",
       "      <td>other</td>\n",
       "    </tr>\n",
       "    <tr>\n",
       "      <th>8</th>\n",
       "      <td>other</td>\n",
       "      <td>Requesting invoice to be sent monthly instead ...</td>\n",
       "      <td>other</td>\n",
       "    </tr>\n",
       "    <tr>\n",
       "      <th>9</th>\n",
       "      <td>technical</td>\n",
       "      <td>File export to CSV generates corrupted file.</td>\n",
       "      <td>technical</td>\n",
       "    </tr>\n",
       "    <tr>\n",
       "      <th>10</th>\n",
       "      <td>technical</td>\n",
       "      <td>Upload stuck at 37% for more than 10 minutes.</td>\n",
       "      <td>technical</td>\n",
       "    </tr>\n",
       "    <tr>\n",
       "      <th>11</th>\n",
       "      <td>technical</td>\n",
       "      <td>App crashes when I tap Submit on Android.</td>\n",
       "      <td>technical</td>\n",
       "    </tr>\n",
       "  </tbody>\n",
       "</table>\n",
       "</div>"
      ],
      "text/plain": [
       "    sample_of                                               text      label\n",
       "0     account  Profile picture upload fails with unknown error.     account\n",
       "1     account           How do I delete my account and all data?    account\n",
       "2     account   Profile picture upload fails with unknown error.    account\n",
       "3     billing  Subscription renewal charged incorrectly this ...    billing\n",
       "4     billing         Promo code SAVE20 not applied at checkout.    billing\n",
       "5     billing      Currency converted incorrectly; expected GBP.    billing\n",
       "6       other       Do you offer discounts for students or NGOs?      other\n",
       "7       other    Please provide onboarding training for my team.      other\n",
       "8       other  Requesting invoice to be sent monthly instead ...      other\n",
       "9   technical       File export to CSV generates corrupted file.  technical\n",
       "10  technical      Upload stuck at 37% for more than 10 minutes.  technical\n",
       "11  technical          App crashes when I tap Submit on Android.  technical"
      ]
     },
     "metadata": {},
     "output_type": "display_data"
    }
   ],
   "source": [
    "\n",
    "if set([\"text\",\"label\"]).issubset(df.columns):\n",
    "    def sample_per_class(dataframe, col_label=\"label\", n=3):\n",
    "        samples = []\n",
    "        for cls, group in dataframe.groupby(col_label):\n",
    "            s = group.sample(min(n, len(group)), random_state=RANDOM_SEED)[[\"text\", col_label]]\n",
    "            s.insert(0, \"sample_of\", cls)\n",
    "            samples.append(s)\n",
    "        return pd.concat(samples, ignore_index=True)\n",
    "\n",
    "    samples_df = sample_per_class(df, \"label\", n=3)\n",
    "    display(samples_df)\n",
    "else:\n",
    "    print(\"Skipping samples per class — missing 'text' or 'label'.\")\n"
   ]
  },
  {
   "cell_type": "code",
   "execution_count": 19,
   "id": "c8ea70cc",
   "metadata": {},
   "outputs": [
    {
     "name": "stdout",
     "output_type": "stream",
     "text": [
      "Train shape: (377, 4) Test shape: (95, 4)\n",
      "\n",
      "Train class distribution:\n",
      "label\n",
      "account      0.244032\n",
      "billing      0.238727\n",
      "other        0.265252\n",
      "technical    0.251989\n",
      "Name: proportion, dtype: float64\n",
      "\n",
      "Test class distribution:\n",
      "label\n",
      "account      0.242105\n",
      "billing      0.242105\n",
      "other        0.263158\n",
      "technical    0.252632\n",
      "Name: proportion, dtype: float64\n"
     ]
    }
   ],
   "source": [
    "\n",
    "if set([\"text\",\"label\"]).issubset(df.columns):\n",
    "    train_df, test_df = train_test_split(df, test_size=0.2, stratify=df[\"label\"], random_state=RANDOM_SEED)\n",
    "    print(\"Train shape:\", train_df.shape, \"Test shape:\", test_df.shape)\n",
    "\n",
    "    # Verify stratification\n",
    "    print(\"\\nTrain class distribution:\")\n",
    "    print(train_df[\"label\"].value_counts(normalize=True).sort_index())\n",
    "\n",
    "    print(\"\\nTest class distribution:\")\n",
    "    print(test_df[\"label\"].value_counts(normalize=True).sort_index())\n",
    "else:\n",
    "    print(\"Skipping split — missing 'text' or 'label'.\")\n"
   ]
  },
  {
   "cell_type": "code",
   "execution_count": 20,
   "id": "f9b49c80",
   "metadata": {},
   "outputs": [
    {
     "name": "stdout",
     "output_type": "stream",
     "text": [
      "Saved artifacts/sample_preview.csv\n"
     ]
    }
   ],
   "source": [
    "\n",
    "# Save processed artifacts (optional)\n",
    "import os\n",
    "os.makedirs(\"artifacts\", exist_ok=True)\n",
    "df.head(50).to_csv(\"artifacts/sample_preview.csv\", index=False)\n",
    "print(\"Saved artifacts/sample_preview.csv\")\n"
   ]
  },
  {
   "cell_type": "markdown",
   "id": "6f7d9db9",
   "metadata": {},
   "source": [
    "\n",
    "---\n",
    "\n",
    "**Notes for interns:**  \n",
    "- If your CSV uses different column names, adjust the rename cell accordingly.  \n",
    "- Keep your environment consistent (Python 3.9+).  \n",
    "- Push your findings as a short markdown summary in the repo (`reports/week1_summary_yourname.md`).\n",
    "\n",
    "_Last updated: 2025-10-03 15:23 UTC_\n"
   ]
  }
 ],
 "metadata": {
  "kernelspec": {
   "display_name": ".venv",
   "language": "python",
   "name": "python3"
  },
  "language_info": {
   "codemirror_mode": {
    "name": "ipython",
    "version": 3
   },
   "file_extension": ".py",
   "mimetype": "text/x-python",
   "name": "python",
   "nbconvert_exporter": "python",
   "pygments_lexer": "ipython3",
   "version": "3.11.0"
  }
 },
 "nbformat": 4,
 "nbformat_minor": 5
}
