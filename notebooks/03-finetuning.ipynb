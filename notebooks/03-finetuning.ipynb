{
 "cells": [
  {
   "cell_type": "code",
   "execution_count": 26,
   "id": "60e8907b",
   "metadata": {},
   "outputs": [
    {
     "data": {
      "text/plain": [
       "<Experiment: artifact_location=('file:///c:/Users/HUMAIDU/Desktop/groub '\n",
       " 'B/Thrive_Internship_ML_A/notebooks/mlruns/867608244561598634'), creation_time=1761930430291, experiment_id='867608244561598634', last_update_time=1761930430291, lifecycle_stage='active', name='transformer_finetuning_experiment', tags={}>"
      ]
     },
     "execution_count": 26,
     "metadata": {},
     "output_type": "execute_result"
    }
   ],
   "source": [
    "import mlflow\n",
    "import mlflow.sklearn\n",
    "from datetime import datetime\n",
    "\n",
    "# Set MLflow tracking URI (local folder)\n",
    "mlflow.set_tracking_uri(\"file:./mlruns\")\n",
    "\n",
    "# Set experiment name\n",
    "mlflow.set_experiment(\"transformer_finetuning_experiment\")"
   ]
  },
  {
   "cell_type": "code",
   "execution_count": 27,
   "id": "3ba23c6d-4648-4361-ab62-15127ef94353",
   "metadata": {},
   "outputs": [
    {
     "data": {
      "text/html": [
       "<div>\n",
       "<style scoped>\n",
       "    .dataframe tbody tr th:only-of-type {\n",
       "        vertical-align: middle;\n",
       "    }\n",
       "\n",
       "    .dataframe tbody tr th {\n",
       "        vertical-align: top;\n",
       "    }\n",
       "\n",
       "    .dataframe thead th {\n",
       "        text-align: right;\n",
       "    }\n",
       "</style>\n",
       "<table border=\"1\" class=\"dataframe\">\n",
       "  <thead>\n",
       "    <tr style=\"text-align: right;\">\n",
       "      <th></th>\n",
       "      <th>text</th>\n",
       "      <th>label</th>\n",
       "      <th>ticket_id</th>\n",
       "      <th>agent_name</th>\n",
       "      <th>text_length</th>\n",
       "    </tr>\n",
       "  </thead>\n",
       "  <tbody>\n",
       "    <tr>\n",
       "      <th>0</th>\n",
       "      <td>Where can I find API rate limits documentation?</td>\n",
       "      <td>other</td>\n",
       "      <td>1000</td>\n",
       "      <td>Dana</td>\n",
       "      <td>47</td>\n",
       "    </tr>\n",
       "    <tr>\n",
       "      <th>1</th>\n",
       "      <td>Can I migrate data from Freshdesk?</td>\n",
       "      <td>other</td>\n",
       "      <td>1001</td>\n",
       "      <td>Bob</td>\n",
       "      <td>34</td>\n",
       "    </tr>\n",
       "    <tr>\n",
       "      <th>2</th>\n",
       "      <td>Cannot update billing address; page keeps relo...</td>\n",
       "      <td>billing</td>\n",
       "      <td>1002</td>\n",
       "      <td>Charlie</td>\n",
       "      <td>52</td>\n",
       "    </tr>\n",
       "    <tr>\n",
       "      <th>3</th>\n",
       "      <td>Looking for a product roadmap or upcoming feat...</td>\n",
       "      <td>other</td>\n",
       "      <td>1003</td>\n",
       "      <td>Dana</td>\n",
       "      <td>51</td>\n",
       "    </tr>\n",
       "    <tr>\n",
       "      <th>4</th>\n",
       "      <td>Dark mode toggled but UI stays light.</td>\n",
       "      <td>tech_support</td>\n",
       "      <td>1004</td>\n",
       "      <td>Alice</td>\n",
       "      <td>37</td>\n",
       "    </tr>\n",
       "  </tbody>\n",
       "</table>\n",
       "</div>"
      ],
      "text/plain": [
       "                                                text         label  ticket_id  \\\n",
       "0    Where can I find API rate limits documentation?         other       1000   \n",
       "1                 Can I migrate data from Freshdesk?         other       1001   \n",
       "2  Cannot update billing address; page keeps relo...       billing       1002   \n",
       "3  Looking for a product roadmap or upcoming feat...         other       1003   \n",
       "4              Dark mode toggled but UI stays light.  tech_support       1004   \n",
       "\n",
       "  agent_name  text_length  \n",
       "0       Dana           47  \n",
       "1        Bob           34  \n",
       "2    Charlie           52  \n",
       "3       Dana           51  \n",
       "4      Alice           37  "
      ]
     },
     "execution_count": 27,
     "metadata": {},
     "output_type": "execute_result"
    }
   ],
   "source": [
    "import pandas as pd\n",
    "df = pd.read_csv('../file-for-fineTuning.csv')\n",
    "df.head()"
   ]
  },
  {
   "cell_type": "code",
   "execution_count": 28,
   "id": "c28febc0",
   "metadata": {},
   "outputs": [],
   "source": [
    "texts = df[\"text\"].tolist()\n",
    "labels = df[\"label\"].astype(\"category\").cat.codes.tolist()"
   ]
  },
  {
   "cell_type": "markdown",
   "id": "18af57e1",
   "metadata": {},
   "source": [
    "Tokenize the Text Data"
   ]
  },
  {
   "cell_type": "code",
   "execution_count": 29,
   "id": "751cc612",
   "metadata": {},
   "outputs": [
    {
     "name": "stderr",
     "output_type": "stream",
     "text": [
      "c:\\Users\\HUMAIDU\\Desktop\\groub B\\Thrive_Internship_ML_A\\venv\\lib\\site-packages\\huggingface_hub\\file_download.py:942: FutureWarning: `resume_download` is deprecated and will be removed in version 1.0.0. Downloads always resume when possible. If you want to force a new download, use `force_download=True`.\n",
      "  warnings.warn(\n"
     ]
    }
   ],
   "source": [
    "### Using the DistilBERT tokenizer:\n",
    "from transformers import DistilBertTokenizerFast\n",
    "tokenizer = DistilBertTokenizerFast.from_pretrained('distilbert-base-uncased')\n",
    "encodings = tokenizer(texts, truncation = True, padding = True, max_length = 128)"
   ]
  },
  {
   "cell_type": "markdown",
   "id": "31693c3c",
   "metadata": {},
   "source": [
    "Creating Dataset for Training"
   ]
  },
  {
   "cell_type": "code",
   "execution_count": 30,
   "id": "deb0da70",
   "metadata": {},
   "outputs": [],
   "source": [
    "from torch.utils.data import Dataset\n",
    "import torch\n",
    "\n",
    "class TicketDataset(Dataset):\n",
    "    def __init__(self, encodings, labels):\n",
    "        self.encodings = encodings\n",
    "        self.labels = labels\n",
    "\n",
    "    def __getitem__(self, idx):\n",
    "        item = {\n",
    "            key: torch.tensor(val[idx]) \n",
    "            for key, val in self.encodings.items()\n",
    "        }\n",
    "        item['labels'] = torch.tensor(self.labels[idx], dtype=torch.long)  \n",
    "        return item\n",
    "\n",
    "    def __len__(self):\n",
    "        return len(self.labels)\n",
    "\n"
   ]
  },
  {
   "cell_type": "code",
   "execution_count": 31,
   "id": "5dc1d1fe",
   "metadata": {},
   "outputs": [],
   "source": [
    "from sklearn.model_selection import train_test_split\n",
    "\n",
    "train_texts, val_texts, train_labels, val_labes = train_test_split(texts, labels, test_size=0.2, random_state=42)\n",
    "train_encodings = tokenizer(train_texts, truncation=True, padding=True, max_length=128)\n",
    "val_encodings = tokenizer(val_texts, truncation=True, padding=True, max_length=128)\n",
    "\n",
    "train_dataset = TicketDataset(train_encodings, train_labels)\n",
    "val_dataset = TicketDataset(val_encodings, val_labes)"
   ]
  },
  {
   "cell_type": "markdown",
   "id": "af29e57d",
   "metadata": {},
   "source": [
    "Load Pre-Trained DistilBERT and Fine-Tune"
   ]
  },
  {
   "cell_type": "code",
   "execution_count": 32,
   "id": "5cedbba6",
   "metadata": {},
   "outputs": [
    {
     "name": "stdout",
     "output_type": "stream",
     "text": [
      "PyTorch version: 2.9.0+cpu\n",
      "Transformers version: 4.30.2\n",
      "Accelerate version: 1.11.0\n",
      "GPU available: False\n"
     ]
    }
   ],
   "source": [
    "# Running this to check if all packages are installed correctly\n",
    "import torch\n",
    "import transformers\n",
    "import accelerate\n",
    "\n",
    "print(f\"PyTorch version: {torch.__version__}\")\n",
    "print(f\"Transformers version: {transformers.__version__}\")\n",
    "print(f\"Accelerate version: {accelerate.__version__}\")\n",
    "\n",
    "# Checking if GPU is available\n",
    "print(f\"GPU available: {torch.cuda.is_available()}\")"
   ]
  },
  {
   "cell_type": "code",
   "execution_count": 33,
   "id": "34f12e03",
   "metadata": {},
   "outputs": [
    {
     "name": "stdout",
     "output_type": "stream",
     "text": [
      "Accelerate version: 1.11.0\n",
      "✅ Trainer imported successfully!\n"
     ]
    }
   ],
   "source": [
    "# Running this after restarting kernel\n",
    "import accelerate\n",
    "print(f\"Accelerate version: {accelerate.__version__}\")\n",
    "\n",
    "from transformers import Trainer, TrainingArguments\n",
    "print(\"✅ Trainer imported successfully!\")"
   ]
  },
  {
   "cell_type": "code",
   "execution_count": 34,
   "id": "edf4c299",
   "metadata": {},
   "outputs": [
    {
     "name": "stderr",
     "output_type": "stream",
     "text": [
      "Some weights of the model checkpoint at distilbert-base-uncased were not used when initializing DistilBertForSequenceClassification: ['vocab_layer_norm.bias', 'vocab_layer_norm.weight', 'vocab_transform.weight', 'vocab_projector.bias', 'vocab_transform.bias']\n",
      "- This IS expected if you are initializing DistilBertForSequenceClassification from the checkpoint of a model trained on another task or with another architecture (e.g. initializing a BertForSequenceClassification model from a BertForPreTraining model).\n",
      "- This IS NOT expected if you are initializing DistilBertForSequenceClassification from the checkpoint of a model that you expect to be exactly identical (initializing a BertForSequenceClassification model from a BertForSequenceClassification model).\n",
      "Some weights of DistilBertForSequenceClassification were not initialized from the model checkpoint at distilbert-base-uncased and are newly initialized: ['classifier.weight', 'pre_classifier.weight', 'classifier.bias', 'pre_classifier.bias']\n",
      "You should probably TRAIN this model on a down-stream task to be able to use it for predictions and inference.\n",
      "c:\\Users\\HUMAIDU\\Desktop\\groub B\\Thrive_Internship_ML_A\\venv\\lib\\site-packages\\transformers\\optimization.py:411: FutureWarning: This implementation of AdamW is deprecated and will be removed in a future version. Use the PyTorch implementation torch.optim.AdamW instead, or set `no_deprecation_warning=True` to disable this warning\n",
      "  warnings.warn(\n",
      "  0%|          | 0/75 [00:00<?, ?it/s]c:\\Users\\HUMAIDU\\Desktop\\groub B\\Thrive_Internship_ML_A\\venv\\lib\\site-packages\\torch\\utils\\data\\dataloader.py:668: UserWarning: 'pin_memory' argument is set as true but no accelerator is found, then device pinned memory won't be used.\n",
      "  warnings.warn(warn_msg)\n",
      "You're using a DistilBertTokenizerFast tokenizer. Please note that with a fast tokenizer, using the `__call__` method is faster than using a method to encode the text followed by a call to the `pad` method to get a padded encoding.\n",
      " 13%|█▎        | 10/75 [00:10<01:02,  1.04it/s]"
     ]
    },
    {
     "name": "stdout",
     "output_type": "stream",
     "text": [
      "{'loss': 1.3211, 'learning_rate': 4.3333333333333334e-05, 'epoch': 0.4}\n"
     ]
    },
    {
     "name": "stderr",
     "output_type": "stream",
     "text": [
      " 27%|██▋       | 20/75 [00:20<00:53,  1.02it/s]"
     ]
    },
    {
     "name": "stdout",
     "output_type": "stream",
     "text": [
      "{'loss': 0.9756, 'learning_rate': 3.6666666666666666e-05, 'epoch': 0.8}\n"
     ]
    },
    {
     "name": "stderr",
     "output_type": "stream",
     "text": [
      " 33%|███▎      | 25/75 [00:24<00:46,  1.07it/s]\n",
      " 33%|███▎      | 25/75 [00:25<00:46,  1.07it/s]"
     ]
    },
    {
     "name": "stdout",
     "output_type": "stream",
     "text": [
      "{'eval_loss': 0.5605160593986511, 'eval_runtime': 1.0746, 'eval_samples_per_second': 92.126, 'eval_steps_per_second': 6.514, 'epoch': 1.0}\n"
     ]
    },
    {
     "name": "stderr",
     "output_type": "stream",
     "text": [
      "c:\\Users\\HUMAIDU\\Desktop\\groub B\\Thrive_Internship_ML_A\\venv\\lib\\site-packages\\torch\\utils\\data\\dataloader.py:668: UserWarning: 'pin_memory' argument is set as true but no accelerator is found, then device pinned memory won't be used.\n",
      "  warnings.warn(warn_msg)\n",
      " 40%|████      | 30/75 [00:32<00:50,  1.12s/it]"
     ]
    },
    {
     "name": "stdout",
     "output_type": "stream",
     "text": [
      "{'loss': 0.6312, 'learning_rate': 3e-05, 'epoch': 1.2}\n"
     ]
    },
    {
     "name": "stderr",
     "output_type": "stream",
     "text": [
      " 53%|█████▎    | 40/75 [00:41<00:33,  1.05it/s]"
     ]
    },
    {
     "name": "stdout",
     "output_type": "stream",
     "text": [
      "{'loss': 0.4467, 'learning_rate': 2.3333333333333336e-05, 'epoch': 1.6}\n"
     ]
    },
    {
     "name": "stderr",
     "output_type": "stream",
     "text": [
      " 67%|██████▋   | 50/75 [00:50<00:21,  1.14it/s]"
     ]
    },
    {
     "name": "stdout",
     "output_type": "stream",
     "text": [
      "{'loss': 0.3424, 'learning_rate': 1.6666666666666667e-05, 'epoch': 2.0}\n"
     ]
    },
    {
     "name": "stderr",
     "output_type": "stream",
     "text": [
      "\n",
      " 67%|██████▋   | 50/75 [00:51<00:21,  1.14it/s]"
     ]
    },
    {
     "name": "stdout",
     "output_type": "stream",
     "text": [
      "{'eval_loss': 0.2856930196285248, 'eval_runtime': 1.0314, 'eval_samples_per_second': 95.984, 'eval_steps_per_second': 6.787, 'epoch': 2.0}\n"
     ]
    },
    {
     "name": "stderr",
     "output_type": "stream",
     "text": [
      "c:\\Users\\HUMAIDU\\Desktop\\groub B\\Thrive_Internship_ML_A\\venv\\lib\\site-packages\\torch\\utils\\data\\dataloader.py:668: UserWarning: 'pin_memory' argument is set as true but no accelerator is found, then device pinned memory won't be used.\n",
      "  warnings.warn(warn_msg)\n",
      " 80%|████████  | 60/75 [01:02<00:14,  1.05it/s]"
     ]
    },
    {
     "name": "stdout",
     "output_type": "stream",
     "text": [
      "{'loss': 0.273, 'learning_rate': 1e-05, 'epoch': 2.4}\n"
     ]
    },
    {
     "name": "stderr",
     "output_type": "stream",
     "text": [
      " 93%|█████████▎| 70/75 [01:11<00:04,  1.02it/s]"
     ]
    },
    {
     "name": "stdout",
     "output_type": "stream",
     "text": [
      "{'loss': 0.3206, 'learning_rate': 3.3333333333333333e-06, 'epoch': 2.8}\n"
     ]
    },
    {
     "name": "stderr",
     "output_type": "stream",
     "text": [
      "                                               \n",
      "100%|██████████| 75/75 [01:19<00:00,  1.11s/it]"
     ]
    },
    {
     "name": "stdout",
     "output_type": "stream",
     "text": [
      "{'eval_loss': 0.26141756772994995, 'eval_runtime': 1.2868, 'eval_samples_per_second': 76.935, 'eval_steps_per_second': 5.44, 'epoch': 3.0}\n"
     ]
    },
    {
     "name": "stderr",
     "output_type": "stream",
     "text": [
      "100%|██████████| 75/75 [01:20<00:00,  1.08s/it]"
     ]
    },
    {
     "name": "stdout",
     "output_type": "stream",
     "text": [
      "{'train_runtime': 81.1512, 'train_samples_per_second': 14.639, 'train_steps_per_second': 0.924, 'train_loss': 0.5942623805999756, 'epoch': 3.0}\n"
     ]
    },
    {
     "name": "stderr",
     "output_type": "stream",
     "text": [
      "\n"
     ]
    },
    {
     "data": {
      "text/plain": [
       "TrainOutput(global_step=75, training_loss=0.5942623805999756, metrics={'train_runtime': 81.1512, 'train_samples_per_second': 14.639, 'train_steps_per_second': 0.924, 'train_loss': 0.5942623805999756, 'epoch': 3.0})"
      ]
     },
     "execution_count": 34,
     "metadata": {},
     "output_type": "execute_result"
    }
   ],
   "source": [
    "from transformers import DistilBertForSequenceClassification, Trainer, TrainingArguments\n",
    "import torch\n",
    "\n",
    "# Making sure the number of labels matches the dataset\n",
    "num_labels = len(set(labels))  # Should be 4 for our dataset\n",
    "\n",
    "model = DistilBertForSequenceClassification.from_pretrained(\n",
    "    'distilbert-base-uncased', \n",
    "    num_labels=num_labels\n",
    ")\n",
    "\n",
    "training_args = TrainingArguments(\n",
    "    output_dir='./results',\n",
    "    num_train_epochs=3,\n",
    "    per_device_train_batch_size=16,\n",
    "    per_device_eval_batch_size=16,\n",
    "    logging_dir='./logs',\n",
    "    logging_steps=10,\n",
    "    evaluation_strategy=\"epoch\",\n",
    "    save_strategy=\"epoch\",\n",
    "    load_best_model_at_end=True,  # Added for better training\n",
    "    metric_for_best_model=\"eval_loss\",  # Added for better training\n",
    ")\n",
    "\n",
    "trainer = Trainer(\n",
    "    model=model,\n",
    "    args=training_args,\n",
    "    train_dataset=train_dataset,\n",
    "    eval_dataset=val_dataset,\n",
    "    tokenizer=tokenizer,\n",
    ")\n",
    "\n",
    "# Now training the model\n",
    "trainer.train()"
   ]
  },
  {
   "cell_type": "code",
   "execution_count": null,
   "id": "c7daeaac",
   "metadata": {},
   "outputs": [
    {
     "name": "stderr",
     "output_type": "stream",
     "text": [
      "c:\\Users\\HUMAIDU\\Desktop\\groub B\\Thrive_Internship_ML_A\\venv\\lib\\site-packages\\torch\\utils\\data\\dataloader.py:668: UserWarning: 'pin_memory' argument is set as true but no accelerator is found, then device pinned memory won't be used.\n",
      "  warnings.warn(warn_msg)\n",
      "100%|██████████| 7/7 [00:01<00:00,  6.01it/s]\n"
     ]
    }
   ],
   "source": [
    "# Get predictions on validation set\n",
    "predictions = trainer.predict(val_dataset)\n",
    "\n",
    "# The model outputs logits, so we take argmax\n",
    "import numpy as np\n",
    "y_pred = np.argmax(predictions.predictions, axis=1)\n",
    "y_true = np.array(val_labes)  # validation labels\n"
   ]
  },
  {
   "cell_type": "code",
   "execution_count": 36,
   "id": "35231f20",
   "metadata": {},
   "outputs": [
    {
     "name": "stdout",
     "output_type": "stream",
     "text": [
      "{'accuracy': 0.898989898989899, 'f1_weighted': 0.8979887090940543, 'precision_weighted': 0.8973905723905724, 'recall_weighted': 0.898989898989899}\n"
     ]
    }
   ],
   "source": [
    "from sklearn.metrics import accuracy_score, f1_score, precision_score, recall_score\n",
    "\n",
    "accuracy = accuracy_score(y_true, y_pred)\n",
    "f1 = f1_score(y_true, y_pred, average=\"weighted\")\n",
    "precision = precision_score(y_true, y_pred, average=\"weighted\")\n",
    "recall = recall_score(y_true, y_pred, average=\"weighted\")\n",
    "\n",
    "metrics = {\n",
    "    \"accuracy\": accuracy,\n",
    "    \"f1_weighted\": f1,\n",
    "    \"precision_weighted\": precision,\n",
    "    \"recall_weighted\": recall\n",
    "}\n",
    "\n",
    "print(metrics)\n"
   ]
  },
  {
   "cell_type": "code",
   "execution_count": 37,
   "id": "b1327130",
   "metadata": {},
   "outputs": [
    {
     "name": "stderr",
     "output_type": "stream",
     "text": [
      "c:\\Users\\HUMAIDU\\Desktop\\groub B\\Thrive_Internship_ML_A\\venv\\lib\\site-packages\\torch\\utils\\data\\dataloader.py:668: UserWarning: 'pin_memory' argument is set as true but no accelerator is found, then device pinned memory won't be used.\n",
      "  warnings.warn(warn_msg)\n"
     ]
    },
    {
     "name": "stderr",
     "output_type": "stream",
     "text": [
      "100%|██████████| 7/7 [00:01<00:00,  6.07it/s]"
     ]
    },
    {
     "name": "stdout",
     "output_type": "stream",
     "text": [
      "{'eval_loss': 0.26141756772994995, 'eval_runtime': 1.2435, 'eval_samples_per_second': 79.615, 'eval_steps_per_second': 5.629, 'epoch': 3.0}\n"
     ]
    },
    {
     "name": "stderr",
     "output_type": "stream",
     "text": [
      "\n"
     ]
    }
   ],
   "source": [
    "metrics = trainer.evaluate()\n",
    "print(metrics)"
   ]
  },
  {
   "cell_type": "code",
   "execution_count": 38,
   "id": "6d633bd5",
   "metadata": {},
   "outputs": [
    {
     "data": {
      "text/plain": [
       "('models/distilbert-ticket-classifier\\\\tokenizer_config.json',\n",
       " 'models/distilbert-ticket-classifier\\\\special_tokens_map.json',\n",
       " 'models/distilbert-ticket-classifier\\\\vocab.txt',\n",
       " 'models/distilbert-ticket-classifier\\\\added_tokens.json',\n",
       " 'models/distilbert-ticket-classifier\\\\tokenizer.json')"
      ]
     },
     "execution_count": 38,
     "metadata": {},
     "output_type": "execute_result"
    }
   ],
   "source": [
    "model.save_pretrained(\"models/distilbert-ticket-classifier\")\n",
    "tokenizer.save_pretrained(\"models/distilbert-ticket-classifier\")"
   ]
  },
  {
   "cell_type": "code",
   "execution_count": null,
   "id": "cec4f380",
   "metadata": {},
   "outputs": [
    {
     "name": "stdout",
     "output_type": "stream",
     "text": [
      "✅ Model and tokenizer saved to: models/distilbert-ticket-classifier\n",
      "✅ Metrics saved to: artifacts/transformer_metrics.json\n",
      "✅ Evaluation report saved to: results/transformer_evaluation_report.txt\n"
     ]
    }
   ],
   "source": [
    "import os\n",
    "import json\n",
    "\n",
    "# Define directories\n",
    "model_dir = \"models/distilbert-ticket-classifier\"\n",
    "artifacts_dir = \"artifacts\"\n",
    "results_dir = \"results\"\n",
    "\n",
    "# Create them if they don’t exist\n",
    "os.makedirs(model_dir, exist_ok=True)\n",
    "os.makedirs(artifacts_dir, exist_ok=True)\n",
    "os.makedirs(results_dir, exist_ok=True)\n",
    "\n",
    "# -----------------------------\n",
    "# Save model & tokenizer\n",
    "# -----------------------------\n",
    "model.save_pretrained(model_dir)\n",
    "tokenizer.save_pretrained(model_dir)\n",
    "print(f\"✅ Model and tokenizer saved to: {model_dir}\")\n",
    "\n",
    "# -----------------------------\n",
    "# Save metrics\n",
    "# -----------------------------\n",
    "metrics = {\n",
    "    \"accuracy\": accuracy_score(y_true, y_pred),\n",
    "    \"f1_weighted\": f1_score(y_true, y_pred, average=\"weighted\"),\n",
    "    \"precision_weighted\": precision_score(y_true, y_pred, average=\"weighted\"),\n",
    "    \"recall_weighted\": recall_score(y_true, y_pred, average=\"weighted\"),\n",
    "}\n",
    "\n",
    "with open(os.path.join(artifacts_dir, \"transformer_metrics.json\"), \"w\") as f:\n",
    "    json.dump(metrics, f, indent=4)\n",
    "\n",
    "print(f\"✅ Metrics saved to: {artifacts_dir}/transformer_metrics.json\")\n",
    "\n",
    "# -----------------------------\n",
    "# Save evaluation summary\n",
    "# -----------------------------\n",
    "summary_text = (\n",
    "    f\"Transformer Evaluation Report\\n\"\n",
    "    f\"--------------------------------\\n\"\n",
    "    f\"Accuracy: {metrics['accuracy']:.4f}\\n\"\n",
    "    f\"F1 Score (weighted): {metrics['f1_weighted']:.4f}\\n\"\n",
    "    f\"Precision (weighted): {metrics['precision_weighted']:.4f}\\n\"\n",
    "    f\"Recall (weighted): {metrics['recall_weighted']:.4f}\\n\"\n",
    ")\n",
    "\n",
    "with open(os.path.join(results_dir, \"transformer_evaluation_report.txt\"), \"w\") as f:\n",
    "    f.write(summary_text)\n",
    "\n",
    "print(f\"✅ Evaluation report saved to: {results_dir}/transformer_evaluation_report.txt\")\n"
   ]
  },
  {
   "cell_type": "code",
   "execution_count": 40,
   "id": "b2413c74",
   "metadata": {},
   "outputs": [],
   "source": [
    "import os, json\n",
    "\n",
    "os.makedirs(\"artifacts\", exist_ok=True)\n",
    "\n",
    "with open(\"artifacts/transformer_metrics.json\", \"w\") as f:\n",
    "    json.dump(metrics, f, indent=4)\n"
   ]
  },
  {
   "cell_type": "code",
   "execution_count": 41,
   "id": "e35524a7",
   "metadata": {},
   "outputs": [],
   "source": [
    "if mlflow.active_run():\n",
    "    mlflow.end_run()\n"
   ]
  },
  {
   "cell_type": "code",
   "execution_count": null,
   "id": "04bb511c",
   "metadata": {},
   "outputs": [
    {
     "name": "stdout",
     "output_type": "stream",
     "text": [
      "✅ MLflow run completed and all artifacts logged successfully!\n"
     ]
    }
   ],
   "source": [
    "from sklearn.metrics import accuracy_score, f1_score, precision_score, recall_score\n",
    "import os, json\n",
    "\n",
    "# Metrics after model evaluation \n",
    "accuracy = accuracy_score(y_true, y_pred)\n",
    "f1 = f1_score(y_true, y_pred, average=\"weighted\")\n",
    "precision = precision_score(y_true, y_pred, average=\"weighted\")\n",
    "recall = recall_score(y_true, y_pred, average=\"weighted\")\n",
    "\n",
    "# Define directories\n",
    "model_dir = \"models/distilbert-ticket-classifier\"\n",
    "artifacts_dir = \"artifacts\"\n",
    "os.makedirs(model_dir, exist_ok=True)\n",
    "os.makedirs(artifacts_dir, exist_ok=True)\n",
    "\n",
    "# Start MLflow run\n",
    "with mlflow.start_run(run_name=f\"DistilBERT_Run_{datetime.now().strftime('%Y%m%d_%H%M%S')}\"):\n",
    "    \n",
    "    # Log parameters\n",
    "    mlflow.log_param(\"model_name\", \"distilbert-base-uncased\")\n",
    "    mlflow.log_param(\"epochs\", 4)\n",
    "    mlflow.log_param(\"batch_size\", 16)\n",
    "    \n",
    "    # Log metrics\n",
    "    mlflow.log_metric(\"accuracy\", accuracy)\n",
    "    mlflow.log_metric(\"f1_weighted\", f1)\n",
    "    mlflow.log_metric(\"precision_weighted\", precision)\n",
    "    mlflow.log_metric(\"recall_weighted\", recall)\n",
    "    \n",
    "    # Save metrics to file\n",
    "    metrics = {\n",
    "        \"accuracy\": accuracy,\n",
    "        \"f1_weighted\": f1,\n",
    "        \"precision_weighted\": precision,\n",
    "        \"recall_weighted\": recall,\n",
    "    }\n",
    "    with open(os.path.join(artifacts_dir, \"transformer_metrics.json\"), \"w\") as f:\n",
    "        json.dump(metrics, f, indent=4)\n",
    "    \n",
    "    # Save model and tokenizer\n",
    "    model.save_pretrained(model_dir)\n",
    "    tokenizer.save_pretrained(model_dir)\n",
    "    \n",
    "    # Log artifacts to MLflow\n",
    "    mlflow.log_artifacts(artifacts_dir)\n",
    "    mlflow.log_artifacts(model_dir)\n",
    "\n",
    "print(\"✅ MLflow run completed and all artifacts logged successfully!\")\n"
   ]
  },
  {
   "cell_type": "code",
   "execution_count": null,
   "id": "1eff72c4",
   "metadata": {},
   "outputs": [],
   "source": []
  }
 ],
 "metadata": {
  "kernelspec": {
   "display_name": "Python 3",
   "language": "python",
   "name": "python3"
  },
  "language_info": {
   "codemirror_mode": {
    "name": "ipython",
    "version": 3
   },
   "file_extension": ".py",
   "mimetype": "text/x-python",
   "name": "python",
   "nbconvert_exporter": "python",
   "pygments_lexer": "ipython3",
   "version": "3.10.19"
  }
 },
 "nbformat": 4,
 "nbformat_minor": 5
}
