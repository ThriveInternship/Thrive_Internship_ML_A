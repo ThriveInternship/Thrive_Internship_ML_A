{
 "cells": [
  {
   "cell_type": "code",
   "execution_count": 1,
   "id": "3ba23c6d-4648-4361-ab62-15127ef94353",
   "metadata": {},
   "outputs": [
    {
     "data": {
      "text/html": [
       "<div>\n",
       "<style scoped>\n",
       "    .dataframe tbody tr th:only-of-type {\n",
       "        vertical-align: middle;\n",
       "    }\n",
       "\n",
       "    .dataframe tbody tr th {\n",
       "        vertical-align: top;\n",
       "    }\n",
       "\n",
       "    .dataframe thead th {\n",
       "        text-align: right;\n",
       "    }\n",
       "</style>\n",
       "<table border=\"1\" class=\"dataframe\">\n",
       "  <thead>\n",
       "    <tr style=\"text-align: right;\">\n",
       "      <th></th>\n",
       "      <th>text</th>\n",
       "      <th>label</th>\n",
       "      <th>ticket_id</th>\n",
       "      <th>agent_name</th>\n",
       "      <th>text_length</th>\n",
       "    </tr>\n",
       "  </thead>\n",
       "  <tbody>\n",
       "    <tr>\n",
       "      <th>0</th>\n",
       "      <td>Where can I find API rate limits documentation?</td>\n",
       "      <td>other</td>\n",
       "      <td>1000</td>\n",
       "      <td>Dana</td>\n",
       "      <td>47</td>\n",
       "    </tr>\n",
       "    <tr>\n",
       "      <th>1</th>\n",
       "      <td>Can I migrate data from Freshdesk?</td>\n",
       "      <td>other</td>\n",
       "      <td>1001</td>\n",
       "      <td>Bob</td>\n",
       "      <td>34</td>\n",
       "    </tr>\n",
       "    <tr>\n",
       "      <th>2</th>\n",
       "      <td>Cannot update billing address; page keeps relo...</td>\n",
       "      <td>billing</td>\n",
       "      <td>1002</td>\n",
       "      <td>Charlie</td>\n",
       "      <td>52</td>\n",
       "    </tr>\n",
       "    <tr>\n",
       "      <th>3</th>\n",
       "      <td>Looking for a product roadmap or upcoming feat...</td>\n",
       "      <td>other</td>\n",
       "      <td>1003</td>\n",
       "      <td>Dana</td>\n",
       "      <td>51</td>\n",
       "    </tr>\n",
       "    <tr>\n",
       "      <th>4</th>\n",
       "      <td>Dark mode toggled but UI stays light.</td>\n",
       "      <td>tech_support</td>\n",
       "      <td>1004</td>\n",
       "      <td>Alice</td>\n",
       "      <td>37</td>\n",
       "    </tr>\n",
       "  </tbody>\n",
       "</table>\n",
       "</div>"
      ],
      "text/plain": [
       "                                                text         label  ticket_id  \\\n",
       "0    Where can I find API rate limits documentation?         other       1000   \n",
       "1                 Can I migrate data from Freshdesk?         other       1001   \n",
       "2  Cannot update billing address; page keeps relo...       billing       1002   \n",
       "3  Looking for a product roadmap or upcoming feat...         other       1003   \n",
       "4              Dark mode toggled but UI stays light.  tech_support       1004   \n",
       "\n",
       "  agent_name  text_length  \n",
       "0       Dana           47  \n",
       "1        Bob           34  \n",
       "2    Charlie           52  \n",
       "3       Dana           51  \n",
       "4      Alice           37  "
      ]
     },
     "execution_count": 1,
     "metadata": {},
     "output_type": "execute_result"
    }
   ],
   "source": [
    "import pandas as pd\n",
    "df = pd.read_csv('file-for-fineTuning.csv')\n",
    "df.head()"
   ]
  },
  {
   "cell_type": "code",
   "execution_count": 2,
   "id": "c28febc0",
   "metadata": {},
   "outputs": [],
   "source": [
    "texts = df[\"text\"].tolist()\n",
    "labels = df[\"label\"].astype(\"category\").cat.codes.tolist()"
   ]
  },
  {
   "cell_type": "markdown",
   "id": "18af57e1",
   "metadata": {},
   "source": [
    "Tokenize the Text Data"
   ]
  },
  {
   "cell_type": "code",
   "execution_count": 3,
   "id": "751cc612",
   "metadata": {},
   "outputs": [
    {
     "name": "stderr",
     "output_type": "stream",
     "text": [
      "c:\\Users\\HUMAIDU\\Desktop\\groub B\\Thrive_Internship_ML_A\\venv\\lib\\site-packages\\tqdm\\auto.py:21: TqdmWarning: IProgress not found. Please update jupyter and ipywidgets. See https://ipywidgets.readthedocs.io/en/stable/user_install.html\n",
      "  from .autonotebook import tqdm as notebook_tqdm\n",
      "The cache for model files in Transformers v4.22.0 has been updated. Migrating your old cache. This is a one-time only operation. You can interrupt this and resume the migration later on by calling `transformers.utils.move_cache()`.\n",
      "0it [00:00, ?it/s]\n",
      "c:\\Users\\HUMAIDU\\Desktop\\groub B\\Thrive_Internship_ML_A\\venv\\lib\\site-packages\\huggingface_hub\\file_download.py:942: FutureWarning: `resume_download` is deprecated and will be removed in version 1.0.0. Downloads always resume when possible. If you want to force a new download, use `force_download=True`.\n",
      "  warnings.warn(\n"
     ]
    }
   ],
   "source": [
    "### Using the DistilBERT tokenizer:\n",
    "from transformers import DistilBertTokenizerFast\n",
    "tokenizer = DistilBertTokenizerFast.from_pretrained('distilbert-base-uncased')\n",
    "encodings = tokenizer(texts, truncation = True, padding = True, max_length = 128)"
   ]
  },
  {
   "cell_type": "markdown",
   "id": "31693c3c",
   "metadata": {},
   "source": [
    "Creating Dataset for Training"
   ]
  },
  {
   "cell_type": "code",
   "execution_count": 4,
   "id": "deb0da70",
   "metadata": {},
   "outputs": [],
   "source": [
    "from torch.utils.data import Dataset\n",
    "\n",
    "class TicketDataset(Dataset):\n",
    "    def __init__(self, encodings, labels):\n",
    "        self.encodings = encodings\n",
    "        self.labels = labels\n",
    "\n",
    "    def __getitem__(self, idx):\n",
    "        item = {key: torch.tensor(val[idx]) for key, val in self.encodings.items()}\n",
    "        item['labes'] = torch.tensor(self.labels[idx])\n",
    "        return item\n",
    "    \n",
    "    def __len__(self):\n",
    "        return len(self.labels)\n",
    "\n",
    "import torch\n",
    "dataset = TicketDataset(encodings, labels)"
   ]
  },
  {
   "cell_type": "code",
   "execution_count": 5,
   "id": "5dc1d1fe",
   "metadata": {},
   "outputs": [],
   "source": [
    "from sklearn.model_selection import train_test_split\n",
    "\n",
    "train_texts, val_texts, train_labels, val_labes = train_test_split(texts, labels, test_size=0.2, random_state=42)\n",
    "train_encodings = tokenizer(train_texts, truncation=True, padding=True, max_length=128)\n",
    "val_encodings = tokenizer(val_texts, truncation=True, padding=True, max_length=128)\n",
    "\n",
    "train_dataset = TicketDataset(train_encodings, train_labels)\n",
    "val_dataset = TicketDataset(val_encodings, val_labes)"
   ]
  },
  {
   "cell_type": "code",
   "execution_count": null,
   "id": "edf4c299",
   "metadata": {},
   "outputs": [],
   "source": []
  }
 ],
 "metadata": {
  "kernelspec": {
   "display_name": "venv",
   "language": "python",
   "name": "python3"
  },
  "language_info": {
   "codemirror_mode": {
    "name": "ipython",
    "version": 3
   },
   "file_extension": ".py",
   "mimetype": "text/x-python",
   "name": "python",
   "nbconvert_exporter": "python",
   "pygments_lexer": "ipython3",
   "version": "3.10.19"
  }
 },
 "nbformat": 4,
 "nbformat_minor": 5
}
