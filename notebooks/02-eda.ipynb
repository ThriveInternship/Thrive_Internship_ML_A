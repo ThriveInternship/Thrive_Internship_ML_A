{
 "cells": [
  {
   "cell_type": "code",
   "execution_count": 32,
   "id": "f29f1f47",
   "metadata": {},
   "outputs": [],
   "source": [
    "#importing necessary libraries\n",
    "import pandas as pd\n",
    "import numpy as np\n",
    "import seaborn as sns\n",
    "from matplotlib import pyplot as plt"
   ]
  },
  {
   "cell_type": "code",
   "execution_count": 33,
   "id": "ff57e838",
   "metadata": {},
   "outputs": [],
   "source": [
    "#loading dataset\n",
    "df=pd.read_csv(\"../customer_support_tickets_dirty.csv\")"
   ]
  },
  {
   "cell_type": "code",
   "execution_count": 34,
   "id": "9fc1b314",
   "metadata": {},
   "outputs": [
    {
     "data": {
      "text/html": [
       "<div>\n",
       "<style scoped>\n",
       "    .dataframe tbody tr th:only-of-type {\n",
       "        vertical-align: middle;\n",
       "    }\n",
       "\n",
       "    .dataframe tbody tr th {\n",
       "        vertical-align: top;\n",
       "    }\n",
       "\n",
       "    .dataframe thead th {\n",
       "        text-align: right;\n",
       "    }\n",
       "</style>\n",
       "<table border=\"1\" class=\"dataframe\">\n",
       "  <thead>\n",
       "    <tr style=\"text-align: right;\">\n",
       "      <th></th>\n",
       "      <th>text</th>\n",
       "      <th>label</th>\n",
       "      <th>ticket_id</th>\n",
       "      <th>agent_name</th>\n",
       "    </tr>\n",
       "  </thead>\n",
       "  <tbody>\n",
       "    <tr>\n",
       "      <th>0</th>\n",
       "      <td>Where can I find API rate limits documentation?</td>\n",
       "      <td>Othr</td>\n",
       "      <td>1000</td>\n",
       "      <td>Dana</td>\n",
       "    </tr>\n",
       "    <tr>\n",
       "      <th>1</th>\n",
       "      <td>Can I migrate data from Freshdesk?</td>\n",
       "      <td>Othr</td>\n",
       "      <td>1001</td>\n",
       "      <td>Bob</td>\n",
       "    </tr>\n",
       "    <tr>\n",
       "      <th>2</th>\n",
       "      <td>Cannot update billing address; page keeps relo...</td>\n",
       "      <td>billing</td>\n",
       "      <td>1002</td>\n",
       "      <td>Charlie</td>\n",
       "    </tr>\n",
       "    <tr>\n",
       "      <th>3</th>\n",
       "      <td>Looking for a product roadmap or upcoming feat...</td>\n",
       "      <td>other</td>\n",
       "      <td>1003</td>\n",
       "      <td>Dana</td>\n",
       "    </tr>\n",
       "    <tr>\n",
       "      <th>4</th>\n",
       "      <td>Dark mode toggled but UI stays light.</td>\n",
       "      <td>Tech-support</td>\n",
       "      <td>1004</td>\n",
       "      <td>Alice</td>\n",
       "    </tr>\n",
       "    <tr>\n",
       "      <th>5</th>\n",
       "      <td>Promo code SPRING15 not applied at checkout.</td>\n",
       "      <td>billing</td>\n",
       "      <td>1005</td>\n",
       "      <td>Alice</td>\n",
       "    </tr>\n",
       "    <tr>\n",
       "      <th>6</th>\n",
       "      <td>Incorrect role assigned; need admin access for...</td>\n",
       "      <td>account</td>\n",
       "      <td>1006</td>\n",
       "      <td>Dana</td>\n",
       "    </tr>\n",
       "    <tr>\n",
       "      <th>7</th>\n",
       "      <td>File export to CSV generates corrupted file.</td>\n",
       "      <td>technical</td>\n",
       "      <td>1007</td>\n",
       "      <td>Dana</td>\n",
       "    </tr>\n",
       "    <tr>\n",
       "      <th>8</th>\n",
       "      <td>Overcharged by GHS 120 on my last bill. 😡</td>\n",
       "      <td>billing</td>\n",
       "      <td>1008</td>\n",
       "      <td>Dana</td>\n",
       "    </tr>\n",
       "    <tr>\n",
       "      <th>9</th>\n",
       "      <td>NaN</td>\n",
       "      <td>account</td>\n",
       "      <td>1009</td>\n",
       "      <td>Dana</td>\n",
       "    </tr>\n",
       "  </tbody>\n",
       "</table>\n",
       "</div>"
      ],
      "text/plain": [
       "                                                text         label  ticket_id  \\\n",
       "0    Where can I find API rate limits documentation?          Othr       1000   \n",
       "1                 Can I migrate data from Freshdesk?          Othr       1001   \n",
       "2  Cannot update billing address; page keeps relo...       billing       1002   \n",
       "3  Looking for a product roadmap or upcoming feat...         other       1003   \n",
       "4              Dark mode toggled but UI stays light.  Tech-support       1004   \n",
       "5       Promo code SPRING15 not applied at checkout.       billing       1005   \n",
       "6  Incorrect role assigned; need admin access for...       account       1006   \n",
       "7       File export to CSV generates corrupted file.     technical       1007   \n",
       "8          Overcharged by GHS 120 on my last bill. 😡       billing       1008   \n",
       "9                                                NaN       account       1009   \n",
       "\n",
       "  agent_name  \n",
       "0       Dana  \n",
       "1        Bob  \n",
       "2    Charlie  \n",
       "3       Dana  \n",
       "4      Alice  \n",
       "5      Alice  \n",
       "6       Dana  \n",
       "7       Dana  \n",
       "8       Dana  \n",
       "9       Dana  "
      ]
     },
     "execution_count": 34,
     "metadata": {},
     "output_type": "execute_result"
    }
   ],
   "source": [
    "\n",
    "df.head(10)"
   ]
  },
  {
   "cell_type": "code",
   "execution_count": 35,
   "id": "972d8ed8",
   "metadata": {},
   "outputs": [
    {
     "name": "stdout",
     "output_type": "stream",
     "text": [
      "<class 'pandas.core.frame.DataFrame'>\n",
      "RangeIndex: 520 entries, 0 to 519\n",
      "Data columns (total 4 columns):\n",
      " #   Column      Non-Null Count  Dtype \n",
      "---  ------      --------------  ----- \n",
      " 0   text        495 non-null    object\n",
      " 1   label       495 non-null    object\n",
      " 2   ticket_id   520 non-null    int64 \n",
      " 3   agent_name  520 non-null    object\n",
      "dtypes: int64(1), object(3)\n",
      "memory usage: 16.4+ KB\n"
     ]
    }
   ],
   "source": [
    "df.info()"
   ]
  },
  {
   "cell_type": "code",
   "execution_count": 57,
   "id": "31481d64",
   "metadata": {},
   "outputs": [
    {
     "data": {
      "text/html": [
       "<div>\n",
       "<style scoped>\n",
       "    .dataframe tbody tr th:only-of-type {\n",
       "        vertical-align: middle;\n",
       "    }\n",
       "\n",
       "    .dataframe tbody tr th {\n",
       "        vertical-align: top;\n",
       "    }\n",
       "\n",
       "    .dataframe thead th {\n",
       "        text-align: right;\n",
       "    }\n",
       "</style>\n",
       "<table border=\"1\" class=\"dataframe\">\n",
       "  <thead>\n",
       "    <tr style=\"text-align: right;\">\n",
       "      <th></th>\n",
       "      <th>count</th>\n",
       "      <th>mean</th>\n",
       "      <th>std</th>\n",
       "      <th>min</th>\n",
       "      <th>25%</th>\n",
       "      <th>50%</th>\n",
       "      <th>75%</th>\n",
       "      <th>max</th>\n",
       "    </tr>\n",
       "  </thead>\n",
       "  <tbody>\n",
       "    <tr>\n",
       "      <th>ticket_id</th>\n",
       "      <td>495.0</td>\n",
       "      <td>1258.719192</td>\n",
       "      <td>149.68742</td>\n",
       "      <td>1000.0</td>\n",
       "      <td>1131.5</td>\n",
       "      <td>1257.0</td>\n",
       "      <td>1388.0</td>\n",
       "      <td>1519.0</td>\n",
       "    </tr>\n",
       "  </tbody>\n",
       "</table>\n",
       "</div>"
      ],
      "text/plain": [
       "           count         mean        std     min     25%     50%     75%  \\\n",
       "ticket_id  495.0  1258.719192  149.68742  1000.0  1131.5  1257.0  1388.0   \n",
       "\n",
       "              max  \n",
       "ticket_id  1519.0  "
      ]
     },
     "execution_count": 57,
     "metadata": {},
     "output_type": "execute_result"
    }
   ],
   "source": [
    "df.describe().T"
   ]
  },
  {
   "cell_type": "code",
   "execution_count": 37,
   "id": "a577b68c",
   "metadata": {},
   "outputs": [
    {
     "data": {
      "text/plain": [
       "text          25\n",
       "label         25\n",
       "ticket_id      0\n",
       "agent_name     0\n",
       "dtype: int64"
      ]
     },
     "execution_count": 37,
     "metadata": {},
     "output_type": "execute_result"
    }
   ],
   "source": [
    "#checking for null values\n",
    "df.isna().sum()"
   ]
  },
  {
   "cell_type": "code",
   "execution_count": null,
   "id": "4e962137",
   "metadata": {},
   "outputs": [],
   "source": []
  },
  {
   "cell_type": "code",
   "execution_count": 39,
   "id": "bcfa8e3b",
   "metadata": {},
   "outputs": [
    {
     "data": {
      "text/plain": [
       "0"
      ]
     },
     "execution_count": 39,
     "metadata": {},
     "output_type": "execute_result"
    }
   ],
   "source": [
    "#checking for duplicated \n",
    "df.duplicated().sum()\n",
    "\n",
    "#the results show there are no duplicate values"
   ]
  },
  {
   "cell_type": "code",
   "execution_count": 40,
   "id": "1f882342",
   "metadata": {},
   "outputs": [
    {
     "name": "stdout",
     "output_type": "stream",
     "text": [
      "['Othr' 'billing' 'other' 'Tech-support' 'account' 'technical' 'Accnt'\n",
      " 'OTHER' 'TECHNICAL' 'ACCOUNT' 'BILLING' 'Other ' nan 'Billng' 'Billing '\n",
      " ' Account ' ' Tech']\n"
     ]
    }
   ],
   "source": [
    "#checking for unique vales\n",
    "#after checking it is noticed that some values must be corrected\n",
    "print(df['label'].unique())"
   ]
  },
  {
   "cell_type": "code",
   "execution_count": 41,
   "id": "b8cab856",
   "metadata": {},
   "outputs": [
    {
     "name": "stdout",
     "output_type": "stream",
     "text": [
      "['Other' 'Billing' 'Technical Support' 'Accounts' 'Special Case']\n"
     ]
    }
   ],
   "source": [
    "#forging various lables into a common lable value and replacing nan values with 'Special Case'\n",
    "df['label'] = df['label'].replace({'Othr': 'Other', 'other': 'Other', 'OTHER':'Other', 'Other ':'Other'})\n",
    "\n",
    "df['label'] = df['label'].replace({'billing': 'Billing', 'BILLING': 'Billing', 'Billng':'Billing', 'Billing ':'Billing'})\n",
    "\n",
    "df['label'] = df['label'].replace({'account': 'Accounts', 'ACCOUNT': 'Accounts', 'Accnt':'Accounts', ' Account ':'Accounts'})\n",
    "\n",
    "df['label'] = df['label'].replace({' Tech': 'Technical Support', 'Tech-support': 'Technical Support', 'TECHNICAL':'Technical Support', 'technical':'Technical Support'})\n",
    "\n",
    "df['label'] = df['label'].fillna('Special Case')\n",
    "\n",
    "\n",
    "print(df['label'].unique())"
   ]
  },
  {
   "cell_type": "code",
   "execution_count": 44,
   "id": "edd560a2",
   "metadata": {},
   "outputs": [
    {
     "data": {
      "text/plain": [
       "text          25\n",
       "label          0\n",
       "ticket_id      0\n",
       "agent_name     0\n",
       "dtype: int64"
      ]
     },
     "execution_count": 44,
     "metadata": {},
     "output_type": "execute_result"
    }
   ],
   "source": [
    "df.isnull().sum()\n"
   ]
  },
  {
   "cell_type": "code",
   "execution_count": 51,
   "id": "1ba1649c",
   "metadata": {},
   "outputs": [],
   "source": [
    "#dropping nan values in the text column. \n",
    "#we still have null values in the text column. \n",
    "# we cannot know what queries thos tickets have so it will be better to drop them.\n",
    "\n",
    "df = df.dropna()"
   ]
  },
  {
   "cell_type": "code",
   "execution_count": 53,
   "id": "552e7dde",
   "metadata": {},
   "outputs": [
    {
     "data": {
      "text/plain": [
       "text          0\n",
       "label         0\n",
       "ticket_id     0\n",
       "agent_name    0\n",
       "dtype: int64"
      ]
     },
     "execution_count": 53,
     "metadata": {},
     "output_type": "execute_result"
    }
   ],
   "source": [
    "#checking for empty values after dropping nan values\n",
    "df.isna().sum()"
   ]
  },
  {
   "cell_type": "code",
   "execution_count": 54,
   "id": "242bde2a",
   "metadata": {},
   "outputs": [
    {
     "name": "stdout",
     "output_type": "stream",
     "text": [
      "['Dana' 'Bob' 'Charlie' 'Alice']\n"
     ]
    }
   ],
   "source": [
    "#checking for unique values of agent names\n",
    "print(df['agent_name'].unique())"
   ]
  },
  {
   "cell_type": "code",
   "execution_count": null,
   "id": "1f0db9ac",
   "metadata": {},
   "outputs": [
    {
     "data": {
      "image/png": "[encoded data removed]",
      "text/plain": [
       "<Figure size 1000x500 with 1 Axes>"
      ]
     },
     "metadata": {},
     "output_type": "display_data"
    }
   ],
   "source": [
    "plt.figure(figsize=(10, 5))\n",
    "sns.countplot(\n",
    "    y='label',\n",
    "    data=df,\n",
    "    order=df['label'].value_counts().index,\n",
    "    palette='viridis'\n",
    ")\n",
    "plt.title('Ticket Distribution by Label')\n",
    "plt.xlabel('Count')\n",
    "plt.ylabel('Label')\n",
    "plt.tight_layout()\n",
    "plt.show()"
   ]
  },
  {
   "cell_type": "code",
   "execution_count": 56,
   "id": "47b8970d",
   "metadata": {},
   "outputs": [
    {
     "data": {
      "image/png": "[encoded data removed]",
      "text/plain": [
       "<Figure size 800x400 with 1 Axes>"
      ]
     },
     "metadata": {},
     "output_type": "display_data"
    }
   ],
   "source": [
    "plt.figure(figsize=(8, 4))\n",
    "sns.countplot(x='agent_name', data=df, palette='coolwarm')\n",
    "plt.title('Tickets Handled by Each Agent')\n",
    "plt.xlabel('Agent Name')\n",
    "plt.ylabel('Number of Tickets')\n",
    "plt.tight_layout()\n",
    "plt.show()"
   ]
  },
  {
   "cell_type": "code",
   "execution_count": null,
   "id": "f8dad725",
   "metadata": {},
   "outputs": [],
   "source": []
  },
  {
   "cell_type": "code",
   "execution_count": null,
   "id": "6e7f643b",
   "metadata": {},
   "outputs": [],
   "source": []
  },
  {
   "cell_type": "code",
   "execution_count": null,
   "id": "0529627f",
   "metadata": {},
   "outputs": [],
   "source": []
  },
  {
   "cell_type": "code",
   "execution_count": null,
   "id": "4f85882d",
   "metadata": {},
   "outputs": [],
   "source": []
  },
  {
   "cell_type": "code",
   "execution_count": null,
   "id": "2d469711",
   "metadata": {},
   "outputs": [],
   "source": []
  },
  {
   "cell_type": "code",
   "execution_count": null,
   "id": "f7db1069",
   "metadata": {},
   "outputs": [],
   "source": []
  },
  {
   "cell_type": "code",
   "execution_count": null,
   "id": "6f14ecc4",
   "metadata": {},
   "outputs": [],
   "source": []
  }
 ],
 "metadata": {
  "kernelspec": {
   "display_name": "base",
   "language": "python",
   "name": "python3"
  },
  "language_info": {
   "codemirror_mode": {
    "name": "ipython",
    "version": 3
   },
   "file_extension": ".py",
   "mimetype": "text/x-python",
   "name": "python",
   "nbconvert_exporter": "python",
   "pygments_lexer": "ipython3",
   "version": "3.11.7"
  }
 },
 "nbformat": 4,
 "nbformat_minor": 5
}
