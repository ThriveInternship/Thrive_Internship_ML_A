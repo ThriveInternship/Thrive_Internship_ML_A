{
 "cells": [
  {
   "cell_type": "code",
   "execution_count": null,
   "id": "8b180954",
   "metadata": {},
   "outputs": [],
   "source": [
    "%pip install nltk pandas matplotlib seaborn wordcloud  \n",
    "#!/usr/bin/env python3\n",
    "  "
   ]
  },
  {
   "cell_type": "code",
   "execution_count": null,
   "id": "e2d50ca6",
   "metadata": {},
   "outputs": [],
   "source": [
    "# importing relevant Libraries\n",
    "\n",
    "from distutils.command.install import install\n",
    "import pandas as pd\n",
    "import numpy as np \n",
    "import matplotlib.pyplot as plt \n",
    "import pip\n",
    "import seaborn as sns \n",
    "import os \n",
    "import re \n",
    "import nltk\n"
   ]
  },
  {
   "cell_type": "code",
   "execution_count": null,
   "id": "9001db03",
   "metadata": {},
   "outputs": [],
   "source": [
    "# loading the dataset\n",
    "\n",
    "url = \"https://raw.githubusercontent.com/ThriveInternship/Thrive_Internship_ML_A/refs/heads/group-d/customer_support_tickets_dirty.csv\" \n",
    "df = pd.read_csv(url)\n",
    "print(\"Dataset loaded successfully\")\n"
   ]
  },
  {
   "cell_type": "code",
   "execution_count": null,
   "id": "0b6244a7",
   "metadata": {},
   "outputs": [],
   "source": [
    "df.head()   # display first few rows\n"
   ]
  },
  {
   "cell_type": "code",
   "execution_count": null,
   "id": "3af9ebe5",
   "metadata": {},
   "outputs": [],
   "source": [
    "df.tail()   # display last few rows"
   ]
  },
  {
   "cell_type": "code",
   "execution_count": null,
   "id": "ac160be0",
   "metadata": {},
   "outputs": [],
   "source": [
    "# basic dataset exploration\n",
    "\n",
    "print(\"Column info:\")\n",
    "print(df.info())\n",
    "print(\"\\nMissing values per column:\")\n",
    "print(df.isnull().sum())    # count missing values\n",
    "print(\"\\nDuplicate rows:\", df.duplicated().sum) # count duplicate rows"
   ]
  },
  {
   "cell_type": "code",
   "execution_count": null,
   "id": "f2e55837",
   "metadata": {},
   "outputs": [],
   "source": [
    "df['text'] = df['text'].fillna('unknown')     # fill missing text entries\n",
    "df = df.dropna(subset=['label'])              # drop rows without labels\n",
    "\n",
    "print(\"Missing values handled successfully.\")\n",
    "print(df.info())"
   ]
  },
  {
   "cell_type": "code",
   "execution_count": null,
   "id": "fa6f32bc",
   "metadata": {},
   "outputs": [],
   "source": [
    "#text cleaning\n",
    "def clean_text(t):\n",
    "    t = re.sub(r'<.*?>', '', t)           # Remove HTML tags\n",
    "    t = re.sub(r'\\d+', '', t)             # Remove numbers\n",
    "    t = re.sub(r'[!#]+', '', t)           # Remove repeated symbols\n",
    "    t = re.sub(r'[^\\w\\s]', '', t)         # Remove punctuation\n",
    "    return t.strip().lower()\n",
    "\n",
    "df['text'] = df['text'].apply(clean_text)"
   ]
  },
  {
   "cell_type": "code",
   "execution_count": null,
   "id": "82abb7c7",
   "metadata": {},
   "outputs": [],
   "source": [
    "# remove duplicates\n",
    "before = df.shape[0]\n",
    "df = df.drop_duplicates()\n",
    "after = df.shape[0]\n",
    "\n",
    "print(f\"Removed {before - after } duplicate rows.\")"
   ]
  },
  {
   "cell_type": "code",
   "execution_count": null,
   "id": "d0390299",
   "metadata": {},
   "outputs": [],
   "source": [
    "df['agent_name'] = df['agent_name'].str.capitalize().str.strip()  # standardize agent names"
   ]
  },
  {
   "cell_type": "code",
   "execution_count": null,
   "id": "859ec2b2",
   "metadata": {},
   "outputs": [],
   "source": [
    "df.describe(include='all')  # get summary statistics"
   ]
  },
  {
   "cell_type": "code",
   "execution_count": null,
   "id": "fd83bb41",
   "metadata": {},
   "outputs": [],
   "source": [
    "# visualize class distribution\n",
    "plt.figure(figsize=(8,5))\n",
    "sns.countplot(data=df, x='label', order=df['label'].value_counts().index)\n",
    "plt.title(\"Class Distribution\")\n",
    "plt.xticks(rotation=45)\n",
    "plt.show()"
   ]
  },
  {
   "cell_type": "code",
   "execution_count": null,
   "id": "a71ca495",
   "metadata": {},
   "outputs": [],
   "source": [
    "df['label'].value_counts()  # display class counts"
   ]
  },
  {
   "cell_type": "code",
   "execution_count": null,
   "id": "f6b6e3f8",
   "metadata": {},
   "outputs": [],
   "source": [
    "# standardizing categorical labels\n",
    "df['label'] = df['label'].str.lower().str.strip()\n",
    "\n",
    "df['label'] = df['label'].replace({\n",
    "    'accnt': 'account',\n",
    "    'account': 'account',\n",
    "    ' account': 'account',\n",
    "    'billing': 'billing',\n",
    "    'billng': 'billing',\n",
    "    'tech': 'technical',\n",
    "    'tech-support': 'technical',\n",
    "    'technical': 'technical',\n",
    "    'other': 'other',\n",
    "    'othr': 'other'\n",
    "}) \n",
    "\n",
    "print(\"Labels standardized successfully.\") \n",
    "print(df['label'].value_counts())  # display updated class counts\n",
    "\n"
   ]
  },
  {
   "cell_type": "code",
   "execution_count": null,
   "id": "6f42b57c",
   "metadata": {},
   "outputs": [],
   "source": [
    "plt.figure(figsize=(8,5))\n",
    "sns.countplot(data=df, x='label', order=df['label'].value_counts().index)\n",
    "plt.title(\"Cleaned Class Distribution\")\n",
    "plt.xticks(rotation=45)\n",
    "plt.show()"
   ]
  },
  {
   "cell_type": "code",
   "execution_count": null,
   "id": "29ae80be",
   "metadata": {},
   "outputs": [],
   "source": [
    "import nltk\n",
    "from nltk.corpus import stopwords\n",
    "from nltk.stem import WordNetLemmatizer\n",
    "\n",
    "stop = set(stopwords.words('english'))\n",
    "lemma = WordNetLemmatizer()\n",
    "\n",
    "df['text_cleaned'] = df['text'].apply(lambda t: ' '.join(\n",
    "    lemma.lemmatize(w) for w in t.split() if w not in stop\n",
    "))\n",
    "df.head()  # display first few rows with cleaned text"
   ]
  },
  {
   "cell_type": "code",
   "execution_count": null,
   "id": "32aa0390",
   "metadata": {},
   "outputs": [],
   "source": [
    "# save the cleaned data to the data folder as a csv file.\n",
    "output_path = os.path.join('..', 'data', 'customer_support_tickets_cleaned.csv')\n",
    "df.to_csv(output_path, index=False)"
   ]
  },
  {
   "cell_type": "code",
   "execution_count": null,
   "id": "10775408",
   "metadata": {},
   "outputs": [],
   "source": [
    "df.info()  # final dataset info"
   ]
  }
 ],
 "metadata": {
  "kernelspec": {
   "display_name": "venv",
   "language": "python",
   "name": "python3"
  },
  "language_info": {
   "codemirror_mode": {
    "name": "ipython",
    "version": 3
   },
   "file_extension": ".py",
   "mimetype": "text/x-python",
   "name": "python",
   "nbconvert_exporter": "python",
   "pygments_lexer": "ipython3",
   "version": "3.10.6"
  }
 },
 "nbformat": 4,
 "nbformat_minor": 5
}
