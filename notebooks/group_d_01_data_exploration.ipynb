{
 "cells": [
  {
   "cell_type": "code",
<<<<<<< HEAD
   "execution_count": null,
=======
   "execution_count": 62,
>>>>>>> 7fa73dd (rerunned the notebook to include text cleaning step and final dataset info)
   "id": "e2d50ca6",
   "metadata": {},
   "outputs": [],
   "source": [
    "# importing relevant Libraries\n",
    "\n",
    "import pandas as pd\n",
    "import numpy as np \n",
    "import matplotlib.pyplot as plt \n",
    "import seaborn as sns \n",
    "import os "
   ]
  },
  {
   "cell_type": "code",
<<<<<<< HEAD
   "execution_count": null,
=======
   "execution_count": 63,
>>>>>>> 7fa73dd (rerunned the notebook to include text cleaning step and final dataset info)
   "id": "9001db03",
   "metadata": {},
   "outputs": [],
   "source": [
    "# loading the dataset\n",
    "\n",
    "url = \"https://raw.githubusercontent.com/ThriveInternship/Thrive_Internship_ML_A/refs/heads/group-d/customer_support_tickets_dirty.csv\" \n",
    "df = pd.read_csv(url)\n",
    "print(\"Dataset loaded successfully\")\n"
   ]
  },
  {
   "cell_type": "code",
<<<<<<< HEAD
   "execution_count": null,
   "id": "0b6244a7",
   "metadata": {},
   "outputs": [],
=======
   "execution_count": 64,
   "id": "0b6244a7",
   "metadata": {},
   "outputs": [
    {
     "data": {
      "text/html": [
       "<div>\n",
       "<style scoped>\n",
       "    .dataframe tbody tr th:only-of-type {\n",
       "        vertical-align: middle;\n",
       "    }\n",
       "\n",
       "    .dataframe tbody tr th {\n",
       "        vertical-align: top;\n",
       "    }\n",
       "\n",
       "    .dataframe thead th {\n",
       "        text-align: right;\n",
       "    }\n",
       "</style>\n",
       "<table border=\"1\" class=\"dataframe\">\n",
       "  <thead>\n",
       "    <tr style=\"text-align: right;\">\n",
       "      <th></th>\n",
       "      <th>text</th>\n",
       "      <th>label</th>\n",
       "      <th>ticket_id</th>\n",
       "      <th>agent_name</th>\n",
       "    </tr>\n",
       "  </thead>\n",
       "  <tbody>\n",
       "    <tr>\n",
       "      <th>0</th>\n",
       "      <td>Where can I find API rate limits documentation?</td>\n",
       "      <td>Othr</td>\n",
       "      <td>1000</td>\n",
       "      <td>Dana</td>\n",
       "    </tr>\n",
       "    <tr>\n",
       "      <th>1</th>\n",
       "      <td>Can I migrate data from Freshdesk?</td>\n",
       "      <td>Othr</td>\n",
       "      <td>1001</td>\n",
       "      <td>Bob</td>\n",
       "    </tr>\n",
       "    <tr>\n",
       "      <th>2</th>\n",
       "      <td>Cannot update billing address; page keeps relo...</td>\n",
       "      <td>billing</td>\n",
       "      <td>1002</td>\n",
       "      <td>Charlie</td>\n",
       "    </tr>\n",
       "    <tr>\n",
       "      <th>3</th>\n",
       "      <td>Looking for a product roadmap or upcoming feat...</td>\n",
       "      <td>other</td>\n",
       "      <td>1003</td>\n",
       "      <td>Dana</td>\n",
       "    </tr>\n",
       "    <tr>\n",
       "      <th>4</th>\n",
       "      <td>Dark mode toggled but UI stays light.</td>\n",
       "      <td>Tech-support</td>\n",
       "      <td>1004</td>\n",
       "      <td>Alice</td>\n",
       "    </tr>\n",
       "  </tbody>\n",
       "</table>\n",
       "</div>"
      ],
      "text/plain": [
       "                                                text         label  ticket_id  \\\n",
       "0    Where can I find API rate limits documentation?          Othr       1000   \n",
       "1                 Can I migrate data from Freshdesk?          Othr       1001   \n",
       "2  Cannot update billing address; page keeps relo...       billing       1002   \n",
       "3  Looking for a product roadmap or upcoming feat...         other       1003   \n",
       "4              Dark mode toggled but UI stays light.  Tech-support       1004   \n",
       "\n",
       "  agent_name  \n",
       "0       Dana  \n",
       "1        Bob  \n",
       "2    Charlie  \n",
       "3       Dana  \n",
       "4      Alice  "
      ]
     },
     "execution_count": 64,
     "metadata": {},
     "output_type": "execute_result"
    }
   ],
>>>>>>> 7fa73dd (rerunned the notebook to include text cleaning step and final dataset info)
   "source": [
    "df.head()   # display first few rows\n"
   ]
  },
  {
   "cell_type": "code",
<<<<<<< HEAD
   "execution_count": null,
   "id": "3af9ebe5",
   "metadata": {},
   "outputs": [],
=======
   "execution_count": 65,
   "id": "3af9ebe5",
   "metadata": {},
   "outputs": [
    {
     "data": {
      "text/html": [
       "<div>\n",
       "<style scoped>\n",
       "    .dataframe tbody tr th:only-of-type {\n",
       "        vertical-align: middle;\n",
       "    }\n",
       "\n",
       "    .dataframe tbody tr th {\n",
       "        vertical-align: top;\n",
       "    }\n",
       "\n",
       "    .dataframe thead th {\n",
       "        text-align: right;\n",
       "    }\n",
       "</style>\n",
       "<table border=\"1\" class=\"dataframe\">\n",
       "  <thead>\n",
       "    <tr style=\"text-align: right;\">\n",
       "      <th></th>\n",
       "      <th>text</th>\n",
       "      <th>label</th>\n",
       "      <th>ticket_id</th>\n",
       "      <th>agent_name</th>\n",
       "    </tr>\n",
       "  </thead>\n",
       "  <tbody>\n",
       "    <tr>\n",
       "      <th>515</th>\n",
       "      <td>Currency converted incorrectly; expected USD. ...</td>\n",
       "      <td>Billng</td>\n",
       "      <td>1515</td>\n",
       "      <td>Charlie</td>\n",
       "    </tr>\n",
       "    <tr>\n",
       "      <th>516</th>\n",
       "      <td>Can't verify phone number; code not sent.</td>\n",
       "      <td>ACCOUNT</td>\n",
       "      <td>1516</td>\n",
       "      <td>Alice</td>\n",
       "    </tr>\n",
       "    <tr>\n",
       "      <th>517</th>\n",
       "      <td>Dark mode toggled but UI stays light.</td>\n",
       "      <td>Tech</td>\n",
       "      <td>1517</td>\n",
       "      <td>Charlie</td>\n",
       "    </tr>\n",
       "    <tr>\n",
       "      <th>518</th>\n",
       "      <td>Search results page is blank after entering a ...</td>\n",
       "      <td>Tech</td>\n",
       "      <td>1518</td>\n",
       "      <td>Dana</td>\n",
       "    </tr>\n",
       "    <tr>\n",
       "      <th>519</th>\n",
       "      <td>Payment failed during checkout with card endin...</td>\n",
       "      <td>Billng</td>\n",
       "      <td>1519</td>\n",
       "      <td>Alice</td>\n",
       "    </tr>\n",
       "  </tbody>\n",
       "</table>\n",
       "</div>"
      ],
      "text/plain": [
       "                                                  text    label  ticket_id  \\\n",
       "515  Currency converted incorrectly; expected USD. ...   Billng       1515   \n",
       "516          Can't verify phone number; code not sent.  ACCOUNT       1516   \n",
       "517              Dark mode toggled but UI stays light.     Tech       1517   \n",
       "518  Search results page is blank after entering a ...     Tech       1518   \n",
       "519  Payment failed during checkout with card endin...   Billng       1519   \n",
       "\n",
       "    agent_name  \n",
       "515    Charlie  \n",
       "516      Alice  \n",
       "517    Charlie  \n",
       "518       Dana  \n",
       "519      Alice  "
      ]
     },
     "execution_count": 65,
     "metadata": {},
     "output_type": "execute_result"
    }
   ],
>>>>>>> 7fa73dd (rerunned the notebook to include text cleaning step and final dataset info)
   "source": [
    "df.tail()   # display last few rows"
   ]
  },
  {
   "cell_type": "code",
<<<<<<< HEAD
   "execution_count": null,
=======
   "execution_count": 66,
>>>>>>> 7fa73dd (rerunned the notebook to include text cleaning step and final dataset info)
   "id": "ac160be0",
   "metadata": {},
   "outputs": [],
   "source": [
    "# basic dataset exploration\n",
    "\n",
    "print(\"Column info:\")\n",
    "print(df.info())\n",
    "print(\"\\nMissing values per column:\")\n",
    "print(df.isnull().sum())    # count missing values\n",
    "print(\"\\nDuplicate rows:\", df.duplicated().sum) # count duplicate rows"
   ]
  },
  {
   "cell_type": "code",
<<<<<<< HEAD
   "execution_count": null,
=======
   "execution_count": 67,
>>>>>>> 7fa73dd (rerunned the notebook to include text cleaning step and final dataset info)
   "id": "f2e55837",
   "metadata": {},
   "outputs": [],
   "source": [
    "df['text'] = df['text'].fillna('unknown')     # fill missing text entries\n",
    "df = df.dropna(subset=['label'])              # drop rows without labels\n",
    "\n",
    "print(\"Missing values handled successfully.\")\n",
    "print(df.info())"
   ]
  },
  {
   "cell_type": "code",
<<<<<<< HEAD
   "execution_count": null,
=======
   "execution_count": 68,
   "id": "fa6f32bc",
   "metadata": {},
   "outputs": [],
   "source": [
    "#text cleaning\n",
    "def clean_text(t):\n",
    "    t = re.sub(r'<.*?>', '', t)           # Remove HTML tags\n",
    "    t = re.sub(r'\\d+', '', t)             # Remove numbers\n",
    "    t = re.sub(r'[!#]+', '', t)           # Remove repeated symbols\n",
    "    t = re.sub(r'[^\\w\\s]', '', t)         # Remove punctuation\n",
    "    return t.strip().lower()\n",
    "\n",
    "df['text'] = df['text'].apply(clean_text)"
   ]
  },
  {
   "cell_type": "code",
   "execution_count": 69,
>>>>>>> 7fa73dd (rerunned the notebook to include text cleaning step and final dataset info)
   "id": "82abb7c7",
   "metadata": {},
   "outputs": [],
   "source": [
    "# remove duplicates\n",
    "before = df.shape[0]\n",
    "df = df.drop_duplicates()\n",
    "after = df.shape[0]\n",
    "\n",
    "print(f\"Removed {before - after } duplicate rows.\")"
   ]
  },
  {
   "cell_type": "code",
<<<<<<< HEAD
   "execution_count": null,
   "id": "859ec2b2",
   "metadata": {},
   "outputs": [],
=======
   "execution_count": 70,
   "id": "859ec2b2",
   "metadata": {},
   "outputs": [
    {
     "data": {
      "text/html": [
       "<div>\n",
       "<style scoped>\n",
       "    .dataframe tbody tr th:only-of-type {\n",
       "        vertical-align: middle;\n",
       "    }\n",
       "\n",
       "    .dataframe tbody tr th {\n",
       "        vertical-align: top;\n",
       "    }\n",
       "\n",
       "    .dataframe thead th {\n",
       "        text-align: right;\n",
       "    }\n",
       "</style>\n",
       "<table border=\"1\" class=\"dataframe\">\n",
       "  <thead>\n",
       "    <tr style=\"text-align: right;\">\n",
       "      <th></th>\n",
       "      <th>text</th>\n",
       "      <th>label</th>\n",
       "      <th>ticket_id</th>\n",
       "      <th>agent_name</th>\n",
       "    </tr>\n",
       "  </thead>\n",
       "  <tbody>\n",
       "    <tr>\n",
       "      <th>count</th>\n",
       "      <td>495</td>\n",
       "      <td>495</td>\n",
       "      <td>495.000000</td>\n",
       "      <td>495</td>\n",
       "    </tr>\n",
       "    <tr>\n",
       "      <th>unique</th>\n",
       "      <td>70</td>\n",
       "      <td>16</td>\n",
       "      <td>NaN</td>\n",
       "      <td>4</td>\n",
       "    </tr>\n",
       "    <tr>\n",
       "      <th>top</th>\n",
       "      <td>unknown</td>\n",
       "      <td>Accnt</td>\n",
       "      <td>NaN</td>\n",
       "      <td>Alice</td>\n",
       "    </tr>\n",
       "    <tr>\n",
       "      <th>freq</th>\n",
       "      <td>23</td>\n",
       "      <td>42</td>\n",
       "      <td>NaN</td>\n",
       "      <td>135</td>\n",
       "    </tr>\n",
       "    <tr>\n",
       "      <th>mean</th>\n",
       "      <td>NaN</td>\n",
       "      <td>NaN</td>\n",
       "      <td>1259.818182</td>\n",
       "      <td>NaN</td>\n",
       "    </tr>\n",
       "    <tr>\n",
       "      <th>std</th>\n",
       "      <td>NaN</td>\n",
       "      <td>NaN</td>\n",
       "      <td>149.937852</td>\n",
       "      <td>NaN</td>\n",
       "    </tr>\n",
       "    <tr>\n",
       "      <th>min</th>\n",
       "      <td>NaN</td>\n",
       "      <td>NaN</td>\n",
       "      <td>1000.000000</td>\n",
       "      <td>NaN</td>\n",
       "    </tr>\n",
       "    <tr>\n",
       "      <th>25%</th>\n",
       "      <td>NaN</td>\n",
       "      <td>NaN</td>\n",
       "      <td>1131.500000</td>\n",
       "      <td>NaN</td>\n",
       "    </tr>\n",
       "    <tr>\n",
       "      <th>50%</th>\n",
       "      <td>NaN</td>\n",
       "      <td>NaN</td>\n",
       "      <td>1261.000000</td>\n",
       "      <td>NaN</td>\n",
       "    </tr>\n",
       "    <tr>\n",
       "      <th>75%</th>\n",
       "      <td>NaN</td>\n",
       "      <td>NaN</td>\n",
       "      <td>1388.000000</td>\n",
       "      <td>NaN</td>\n",
       "    </tr>\n",
       "    <tr>\n",
       "      <th>max</th>\n",
       "      <td>NaN</td>\n",
       "      <td>NaN</td>\n",
       "      <td>1519.000000</td>\n",
       "      <td>NaN</td>\n",
       "    </tr>\n",
       "  </tbody>\n",
       "</table>\n",
       "</div>"
      ],
      "text/plain": [
       "           text  label    ticket_id agent_name\n",
       "count       495    495   495.000000        495\n",
       "unique       70     16          NaN          4\n",
       "top     unknown  Accnt          NaN      Alice\n",
       "freq         23     42          NaN        135\n",
       "mean        NaN    NaN  1259.818182        NaN\n",
       "std         NaN    NaN   149.937852        NaN\n",
       "min         NaN    NaN  1000.000000        NaN\n",
       "25%         NaN    NaN  1131.500000        NaN\n",
       "50%         NaN    NaN  1261.000000        NaN\n",
       "75%         NaN    NaN  1388.000000        NaN\n",
       "max         NaN    NaN  1519.000000        NaN"
      ]
     },
     "execution_count": 70,
     "metadata": {},
     "output_type": "execute_result"
    }
   ],
>>>>>>> 7fa73dd (rerunned the notebook to include text cleaning step and final dataset info)
   "source": [
    "df.describe(include='all')  # get summary statistics"
   ]
  },
  {
   "cell_type": "code",
<<<<<<< HEAD
   "execution_count": null,
=======
   "execution_count": 71,
>>>>>>> 7fa73dd (rerunned the notebook to include text cleaning step and final dataset info)
   "id": "fd83bb41",
   "metadata": {},
   "outputs": [],
   "source": [
    "# visualize class distribution\n",
    "plt.figure(figsize=(8,5))\n",
    "sns.countplot(data=df, x='label', order=df['label'].value_counts().index)\n",
    "plt.title(\"Class Distribution\")\n",
    "plt.xticks(rotation=45)\n",
    "plt.show()"
   ]
  },
  {
   "cell_type": "code",
<<<<<<< HEAD
   "execution_count": null,
   "id": "a71ca495",
   "metadata": {},
   "outputs": [],
=======
   "execution_count": 72,
   "id": "a71ca495",
   "metadata": {},
   "outputs": [
    {
     "data": {
      "text/plain": [
       "label\n",
       "Accnt           42\n",
       " Tech           41\n",
       "ACCOUNT         37\n",
       "Othr            35\n",
       "Billng          35\n",
       "Billing         34\n",
       "Other           33\n",
       "technical       32\n",
       "other           32\n",
       "TECHNICAL       31\n",
       "OTHER           28\n",
       "billing         26\n",
       "BILLING         25\n",
       " Account        22\n",
       "account         21\n",
       "Tech-support    21\n",
       "Name: count, dtype: int64"
      ]
     },
     "execution_count": 72,
     "metadata": {},
     "output_type": "execute_result"
    }
   ],
>>>>>>> 7fa73dd (rerunned the notebook to include text cleaning step and final dataset info)
   "source": [
    "df['label'].value_counts()  # display class counts"
   ]
  },
  {
   "cell_type": "code",
<<<<<<< HEAD
   "execution_count": null,
=======
   "execution_count": 73,
>>>>>>> 7fa73dd (rerunned the notebook to include text cleaning step and final dataset info)
   "id": "f6b6e3f8",
   "metadata": {},
   "outputs": [],
   "source": [
    "# standardizing categorical labels\n",
    "df['label'] = df['label'].str.lower().str.strip()\n",
    "\n",
    "df['label'] = df['label'].replace({\n",
    "    'accnt': 'account',\n",
    "    'account': 'account',\n",
    "    ' account': 'account',\n",
    "    'billing': 'billing',\n",
    "    'billng': 'billing',\n",
    "    'tech': 'technical',\n",
    "    'tech-support': 'technical',\n",
    "    'technical': 'technical',\n",
    "    'other': 'other',\n",
    "    'othr': 'other'\n",
    "}) \n",
    "\n",
    "print(\"Labels standardized successfully.\") \n",
    "print(df['label'].value_counts())  # display updated class counts\n",
    "\n"
   ]
  },
  {
   "cell_type": "code",
<<<<<<< HEAD
   "execution_count": null,
=======
   "execution_count": 74,
>>>>>>> 7fa73dd (rerunned the notebook to include text cleaning step and final dataset info)
   "id": "6f42b57c",
   "metadata": {},
   "outputs": [],
   "source": [
    "plt.figure(figsize=(8,5))\n",
    "sns.countplot(data=df, x='label', order=df['label'].value_counts().index)\n",
    "plt.title(\"Cleaned Class Distribution\")\n",
    "plt.xticks(rotation=45)\n",
    "plt.show()"
   ]
  },
  {
   "cell_type": "code",
<<<<<<< HEAD
   "execution_count": null,
=======
   "execution_count": 77,
>>>>>>> 7fa73dd (rerunned the notebook to include text cleaning step and final dataset info)
   "id": "32aa0390",
   "metadata": {},
   "outputs": [],
   "source": [
    "#how do i save the cleaned data to the data folder as a csv file?\n",
    "output_path = os.path.join('..', 'data', 'customer_support_tickets_cleaned.csv')\n",
    "df.to_csv(output_path, index=False)"
   ]
<<<<<<< HEAD
=======
  },
  {
   "cell_type": "code",
   "execution_count": 76,
   "id": "10775408",
   "metadata": {},
   "outputs": [
    {
     "name": "stdout",
     "output_type": "stream",
     "text": [
      "<class 'pandas.core.frame.DataFrame'>\n",
      "Index: 495 entries, 0 to 519\n",
      "Data columns (total 4 columns):\n",
      " #   Column      Non-Null Count  Dtype \n",
      "---  ------      --------------  ----- \n",
      " 0   text        495 non-null    object\n",
      " 1   label       495 non-null    object\n",
      " 2   ticket_id   495 non-null    int64 \n",
      " 3   agent_name  495 non-null    object\n",
      "dtypes: int64(1), object(3)\n",
      "memory usage: 19.3+ KB\n"
     ]
    }
   ],
   "source": [
    "df.info()  # final dataset info"
   ]
>>>>>>> 7fa73dd (rerunned the notebook to include text cleaning step and final dataset info)
  }
 ],
 "metadata": {
  "kernelspec": {
   "display_name": "base",
   "language": "python",
   "name": "python3"
  },
  "language_info": {
   "codemirror_mode": {
    "name": "ipython",
    "version": 3
   },
   "file_extension": ".py",
   "mimetype": "text/x-python",
   "name": "python",
   "nbconvert_exporter": "python",
   "pygments_lexer": "ipython3",
   "version": "3.12.7"
  }
 },
 "nbformat": 4,
 "nbformat_minor": 5
}
