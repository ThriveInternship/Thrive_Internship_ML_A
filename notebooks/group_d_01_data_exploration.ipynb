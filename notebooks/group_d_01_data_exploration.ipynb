{
 "cells": [
  {
   "cell_type": "code",
<<<<<<< HEAD
<<<<<<< HEAD
   "execution_count": null,
=======
   "execution_count": 62,
>>>>>>> 7fa73dd (rerunned the notebook to include text cleaning step and final dataset info)
=======
   "execution_count": 17,
   "id": "8b180954",
   "metadata": {},
   "outputs": [
    {
     "name": "stderr",
     "output_type": "stream",
     "text": [
      "ERROR: Invalid requirement: '#!/usr/bin/env': Expected package name at the start of dependency specifier\n",
      "    #!/usr/bin/env\n",
      "    ^\n",
      "[nltk_data] Downloading package punkt to\n",
      "[nltk_data]     C:\\Users\\LENOVO\\AppData\\Roaming\\nltk_data...\n",
      "[nltk_data]   Package punkt is already up-to-date!\n",
      "[nltk_data] Downloading package stopwords to\n",
      "[nltk_data]     C:\\Users\\LENOVO\\AppData\\Roaming\\nltk_data...\n",
      "[nltk_data]   Package stopwords is already up-to-date!\n",
      "[nltk_data] Downloading package wordnet to\n",
      "[nltk_data]     C:\\Users\\LENOVO\\AppData\\Roaming\\nltk_data...\n",
      "[nltk_data] Downloading package omw-1.4 to\n",
      "[nltk_data]     C:\\Users\\LENOVO\\AppData\\Roaming\\nltk_data...\n"
     ]
    },
    {
     "data": {
      "text/plain": [
       "True"
      ]
     },
     "execution_count": 17,
     "metadata": {},
     "output_type": "execute_result"
    }
   ],
   "source": [
    "!pip install nltk pandas matplotlib seaborn wordcloud #!/usr/bin/env python3\n",
    "nltk.download('punkt')\n",
    "nltk.download('stopwords')\n",
    "nltk.download('wordnet')\n",
    "nltk.download('omw-1.4')    "
   ]
  },
  {
   "cell_type": "code",
   "execution_count": 18,
>>>>>>> a385171 (Final EDA)
   "id": "e2d50ca6",
   "metadata": {},
   "outputs": [],
   "source": [
    "# importing relevant Libraries\n",
    "\n",
    "from distutils.command.install import install\n",
    "import pandas as pd\n",
    "import numpy as np \n",
    "import matplotlib.pyplot as plt \n",
    "import pip\n",
    "import seaborn as sns \n",
<<<<<<< HEAD
    "import os "
=======
    "import os \n",
    "import re \n",
    "import nltk\n"
>>>>>>> a385171 (Final EDA)
   ]
  },
  {
   "cell_type": "code",
<<<<<<< HEAD
<<<<<<< HEAD
   "execution_count": null,
=======
   "execution_count": 63,
>>>>>>> 7fa73dd (rerunned the notebook to include text cleaning step and final dataset info)
=======
   "execution_count": 19,
>>>>>>> a385171 (Final EDA)
   "id": "9001db03",
   "metadata": {},
   "outputs": [],
   "source": [
    "# loading the dataset\n",
    "\n",
    "url = \"https://raw.githubusercontent.com/ThriveInternship/Thrive_Internship_ML_A/refs/heads/group-d/customer_support_tickets_dirty.csv\" \n",
    "df = pd.read_csv(url)\n",
    "print(\"Dataset loaded successfully\")\n"
   ]
  },
  {
   "cell_type": "code",
<<<<<<< HEAD
<<<<<<< HEAD
   "execution_count": null,
   "id": "0b6244a7",
   "metadata": {},
   "outputs": [],
=======
   "execution_count": 64,
=======
   "execution_count": 21,
>>>>>>> a385171 (Final EDA)
   "id": "0b6244a7",
   "metadata": {},
   "outputs": [
    {
     "data": {
      "text/html": [
       "<div>\n",
       "<style scoped>\n",
       "    .dataframe tbody tr th:only-of-type {\n",
       "        vertical-align: middle;\n",
       "    }\n",
       "\n",
       "    .dataframe tbody tr th {\n",
       "        vertical-align: top;\n",
       "    }\n",
       "\n",
       "    .dataframe thead th {\n",
       "        text-align: right;\n",
       "    }\n",
       "</style>\n",
       "<table border=\"1\" class=\"dataframe\">\n",
       "  <thead>\n",
       "    <tr style=\"text-align: right;\">\n",
       "      <th></th>\n",
       "      <th>text</th>\n",
       "      <th>label</th>\n",
       "      <th>ticket_id</th>\n",
       "      <th>agent_name</th>\n",
       "    </tr>\n",
       "  </thead>\n",
       "  <tbody>\n",
       "    <tr>\n",
       "      <th>0</th>\n",
       "      <td>Where can I find API rate limits documentation?</td>\n",
       "      <td>Othr</td>\n",
       "      <td>1000</td>\n",
       "      <td>Dana</td>\n",
       "    </tr>\n",
       "    <tr>\n",
       "      <th>1</th>\n",
       "      <td>Can I migrate data from Freshdesk?</td>\n",
       "      <td>Othr</td>\n",
       "      <td>1001</td>\n",
       "      <td>Bob</td>\n",
       "    </tr>\n",
       "    <tr>\n",
       "      <th>2</th>\n",
       "      <td>Cannot update billing address; page keeps relo...</td>\n",
       "      <td>billing</td>\n",
       "      <td>1002</td>\n",
       "      <td>Charlie</td>\n",
       "    </tr>\n",
       "    <tr>\n",
       "      <th>3</th>\n",
       "      <td>Looking for a product roadmap or upcoming feat...</td>\n",
       "      <td>other</td>\n",
       "      <td>1003</td>\n",
       "      <td>Dana</td>\n",
       "    </tr>\n",
       "    <tr>\n",
       "      <th>4</th>\n",
       "      <td>Dark mode toggled but UI stays light.</td>\n",
       "      <td>Tech-support</td>\n",
       "      <td>1004</td>\n",
       "      <td>Alice</td>\n",
       "    </tr>\n",
       "  </tbody>\n",
       "</table>\n",
       "</div>"
      ],
      "text/plain": [
       "                                                text         label  ticket_id  \\\n",
       "0    Where can I find API rate limits documentation?          Othr       1000   \n",
       "1                 Can I migrate data from Freshdesk?          Othr       1001   \n",
       "2  Cannot update billing address; page keeps relo...       billing       1002   \n",
       "3  Looking for a product roadmap or upcoming feat...         other       1003   \n",
       "4              Dark mode toggled but UI stays light.  Tech-support       1004   \n",
       "\n",
       "  agent_name  \n",
       "0       Dana  \n",
       "1        Bob  \n",
       "2    Charlie  \n",
       "3       Dana  \n",
       "4      Alice  "
      ]
     },
     "execution_count": 21,
     "metadata": {},
     "output_type": "execute_result"
    }
   ],
>>>>>>> 7fa73dd (rerunned the notebook to include text cleaning step and final dataset info)
   "source": [
    "df.head()   # display first few rows\n"
   ]
  },
  {
   "cell_type": "code",
<<<<<<< HEAD
<<<<<<< HEAD
   "execution_count": null,
   "id": "3af9ebe5",
   "metadata": {},
   "outputs": [],
=======
   "execution_count": 65,
=======
   "execution_count": 22,
>>>>>>> a385171 (Final EDA)
   "id": "3af9ebe5",
   "metadata": {},
   "outputs": [
    {
     "data": {
      "text/html": [
       "<div>\n",
       "<style scoped>\n",
       "    .dataframe tbody tr th:only-of-type {\n",
       "        vertical-align: middle;\n",
       "    }\n",
       "\n",
       "    .dataframe tbody tr th {\n",
       "        vertical-align: top;\n",
       "    }\n",
       "\n",
       "    .dataframe thead th {\n",
       "        text-align: right;\n",
       "    }\n",
       "</style>\n",
       "<table border=\"1\" class=\"dataframe\">\n",
       "  <thead>\n",
       "    <tr style=\"text-align: right;\">\n",
       "      <th></th>\n",
       "      <th>text</th>\n",
       "      <th>label</th>\n",
       "      <th>ticket_id</th>\n",
       "      <th>agent_name</th>\n",
       "    </tr>\n",
       "  </thead>\n",
       "  <tbody>\n",
       "    <tr>\n",
       "      <th>515</th>\n",
       "      <td>Currency converted incorrectly; expected USD. ...</td>\n",
       "      <td>Billng</td>\n",
       "      <td>1515</td>\n",
       "      <td>Charlie</td>\n",
       "    </tr>\n",
       "    <tr>\n",
       "      <th>516</th>\n",
       "      <td>Can't verify phone number; code not sent.</td>\n",
       "      <td>ACCOUNT</td>\n",
       "      <td>1516</td>\n",
       "      <td>Alice</td>\n",
       "    </tr>\n",
       "    <tr>\n",
       "      <th>517</th>\n",
       "      <td>Dark mode toggled but UI stays light.</td>\n",
       "      <td>Tech</td>\n",
       "      <td>1517</td>\n",
       "      <td>Charlie</td>\n",
       "    </tr>\n",
       "    <tr>\n",
       "      <th>518</th>\n",
       "      <td>Search results page is blank after entering a ...</td>\n",
       "      <td>Tech</td>\n",
       "      <td>1518</td>\n",
       "      <td>Dana</td>\n",
       "    </tr>\n",
       "    <tr>\n",
       "      <th>519</th>\n",
       "      <td>Payment failed during checkout with card endin...</td>\n",
       "      <td>Billng</td>\n",
       "      <td>1519</td>\n",
       "      <td>Alice</td>\n",
       "    </tr>\n",
       "  </tbody>\n",
       "</table>\n",
       "</div>"
      ],
      "text/plain": [
       "                                                  text    label  ticket_id  \\\n",
       "515  Currency converted incorrectly; expected USD. ...   Billng       1515   \n",
       "516          Can't verify phone number; code not sent.  ACCOUNT       1516   \n",
       "517              Dark mode toggled but UI stays light.     Tech       1517   \n",
       "518  Search results page is blank after entering a ...     Tech       1518   \n",
       "519  Payment failed during checkout with card endin...   Billng       1519   \n",
       "\n",
       "    agent_name  \n",
       "515    Charlie  \n",
       "516      Alice  \n",
       "517    Charlie  \n",
       "518       Dana  \n",
       "519      Alice  "
      ]
     },
     "execution_count": 22,
     "metadata": {},
     "output_type": "execute_result"
    }
   ],
>>>>>>> 7fa73dd (rerunned the notebook to include text cleaning step and final dataset info)
   "source": [
    "df.tail()   # display last few rows"
   ]
  },
  {
   "cell_type": "code",
<<<<<<< HEAD
<<<<<<< HEAD
   "execution_count": null,
=======
   "execution_count": 66,
>>>>>>> 7fa73dd (rerunned the notebook to include text cleaning step and final dataset info)
=======
   "execution_count": 23,
>>>>>>> a385171 (Final EDA)
   "id": "ac160be0",
   "metadata": {},
   "outputs": [],
   "source": [
    "# basic dataset exploration\n",
    "\n",
    "print(\"Column info:\")\n",
    "print(df.info())\n",
    "print(\"\\nMissing values per column:\")\n",
    "print(df.isnull().sum())    # count missing values\n",
    "print(\"\\nDuplicate rows:\", df.duplicated().sum) # count duplicate rows"
   ]
  },
  {
   "cell_type": "code",
<<<<<<< HEAD
<<<<<<< HEAD
   "execution_count": null,
=======
   "execution_count": 67,
>>>>>>> 7fa73dd (rerunned the notebook to include text cleaning step and final dataset info)
=======
   "execution_count": 24,
>>>>>>> a385171 (Final EDA)
   "id": "f2e55837",
   "metadata": {},
   "outputs": [],
   "source": [
    "df['text'] = df['text'].fillna('unknown')     # fill missing text entries\n",
    "df = df.dropna(subset=['label'])              # drop rows without labels\n",
    "\n",
    "print(\"Missing values handled successfully.\")\n",
    "print(df.info())"
   ]
  },
  {
   "cell_type": "code",
<<<<<<< HEAD
<<<<<<< HEAD
   "execution_count": null,
=======
   "execution_count": 68,
=======
   "execution_count": 25,
>>>>>>> a385171 (Final EDA)
   "id": "fa6f32bc",
   "metadata": {},
   "outputs": [],
   "source": [
    "#text cleaning\n",
    "def clean_text(t):\n",
    "    t = re.sub(r'<.*?>', '', t)           # Remove HTML tags\n",
    "    t = re.sub(r'\\d+', '', t)             # Remove numbers\n",
    "    t = re.sub(r'[!#]+', '', t)           # Remove repeated symbols\n",
    "    t = re.sub(r'[^\\w\\s]', '', t)         # Remove punctuation\n",
    "    return t.strip().lower()\n",
    "\n",
    "df['text'] = df['text'].apply(clean_text)"
   ]
  },
  {
   "cell_type": "code",
<<<<<<< HEAD
   "execution_count": 69,
>>>>>>> 7fa73dd (rerunned the notebook to include text cleaning step and final dataset info)
=======
   "execution_count": 26,
>>>>>>> a385171 (Final EDA)
   "id": "82abb7c7",
   "metadata": {},
   "outputs": [],
   "source": [
    "# remove duplicates\n",
    "before = df.shape[0]\n",
    "df = df.drop_duplicates()\n",
    "after = df.shape[0]\n",
    "\n",
    "print(f\"Removed {before - after } duplicate rows.\")"
   ]
  },
  {
   "cell_type": "code",
<<<<<<< HEAD
<<<<<<< HEAD
   "execution_count": null,
   "id": "859ec2b2",
   "metadata": {},
   "outputs": [],
=======
   "execution_count": 70,
=======
   "execution_count": 28,
   "id": "d0390299",
   "metadata": {},
   "outputs": [],
   "source": [
    "df['agent_name'] = df['agent_name'].str.capitalize().str.strip()  # standardize agent names"
   ]
  },
  {
   "cell_type": "code",
   "execution_count": 27,
>>>>>>> a385171 (Final EDA)
   "id": "859ec2b2",
   "metadata": {},
   "outputs": [
    {
     "data": {
      "text/html": [
       "<div>\n",
       "<style scoped>\n",
       "    .dataframe tbody tr th:only-of-type {\n",
       "        vertical-align: middle;\n",
       "    }\n",
       "\n",
       "    .dataframe tbody tr th {\n",
       "        vertical-align: top;\n",
       "    }\n",
       "\n",
       "    .dataframe thead th {\n",
       "        text-align: right;\n",
       "    }\n",
       "</style>\n",
       "<table border=\"1\" class=\"dataframe\">\n",
       "  <thead>\n",
       "    <tr style=\"text-align: right;\">\n",
       "      <th></th>\n",
       "      <th>text</th>\n",
       "      <th>label</th>\n",
       "      <th>ticket_id</th>\n",
       "      <th>agent_name</th>\n",
       "    </tr>\n",
       "  </thead>\n",
       "  <tbody>\n",
       "    <tr>\n",
       "      <th>count</th>\n",
       "      <td>495</td>\n",
       "      <td>495</td>\n",
       "      <td>495.000000</td>\n",
       "      <td>495</td>\n",
       "    </tr>\n",
       "    <tr>\n",
       "      <th>unique</th>\n",
       "      <td>70</td>\n",
       "      <td>16</td>\n",
       "      <td>NaN</td>\n",
       "      <td>4</td>\n",
       "    </tr>\n",
       "    <tr>\n",
       "      <th>top</th>\n",
       "      <td>unknown</td>\n",
       "      <td>Accnt</td>\n",
       "      <td>NaN</td>\n",
       "      <td>Alice</td>\n",
       "    </tr>\n",
       "    <tr>\n",
       "      <th>freq</th>\n",
       "      <td>23</td>\n",
       "      <td>42</td>\n",
       "      <td>NaN</td>\n",
       "      <td>135</td>\n",
       "    </tr>\n",
       "    <tr>\n",
       "      <th>mean</th>\n",
       "      <td>NaN</td>\n",
       "      <td>NaN</td>\n",
       "      <td>1259.818182</td>\n",
       "      <td>NaN</td>\n",
       "    </tr>\n",
       "    <tr>\n",
       "      <th>std</th>\n",
       "      <td>NaN</td>\n",
       "      <td>NaN</td>\n",
       "      <td>149.937852</td>\n",
       "      <td>NaN</td>\n",
       "    </tr>\n",
       "    <tr>\n",
       "      <th>min</th>\n",
       "      <td>NaN</td>\n",
       "      <td>NaN</td>\n",
       "      <td>1000.000000</td>\n",
       "      <td>NaN</td>\n",
       "    </tr>\n",
       "    <tr>\n",
       "      <th>25%</th>\n",
       "      <td>NaN</td>\n",
       "      <td>NaN</td>\n",
       "      <td>1131.500000</td>\n",
       "      <td>NaN</td>\n",
       "    </tr>\n",
       "    <tr>\n",
       "      <th>50%</th>\n",
       "      <td>NaN</td>\n",
       "      <td>NaN</td>\n",
       "      <td>1261.000000</td>\n",
       "      <td>NaN</td>\n",
       "    </tr>\n",
       "    <tr>\n",
       "      <th>75%</th>\n",
       "      <td>NaN</td>\n",
       "      <td>NaN</td>\n",
       "      <td>1388.000000</td>\n",
       "      <td>NaN</td>\n",
       "    </tr>\n",
       "    <tr>\n",
       "      <th>max</th>\n",
       "      <td>NaN</td>\n",
       "      <td>NaN</td>\n",
       "      <td>1519.000000</td>\n",
       "      <td>NaN</td>\n",
       "    </tr>\n",
       "  </tbody>\n",
       "</table>\n",
       "</div>"
      ],
      "text/plain": [
       "           text  label    ticket_id agent_name\n",
       "count       495    495   495.000000        495\n",
       "unique       70     16          NaN          4\n",
       "top     unknown  Accnt          NaN      Alice\n",
       "freq         23     42          NaN        135\n",
       "mean        NaN    NaN  1259.818182        NaN\n",
       "std         NaN    NaN   149.937852        NaN\n",
       "min         NaN    NaN  1000.000000        NaN\n",
       "25%         NaN    NaN  1131.500000        NaN\n",
       "50%         NaN    NaN  1261.000000        NaN\n",
       "75%         NaN    NaN  1388.000000        NaN\n",
       "max         NaN    NaN  1519.000000        NaN"
      ]
     },
     "execution_count": 27,
     "metadata": {},
     "output_type": "execute_result"
    }
   ],
>>>>>>> 7fa73dd (rerunned the notebook to include text cleaning step and final dataset info)
   "source": [
    "df.describe(include='all')  # get summary statistics"
   ]
  },
  {
   "cell_type": "code",
<<<<<<< HEAD
<<<<<<< HEAD
   "execution_count": null,
=======
   "execution_count": 71,
>>>>>>> 7fa73dd (rerunned the notebook to include text cleaning step and final dataset info)
   "id": "fd83bb41",
   "metadata": {},
   "outputs": [],
=======
   "execution_count": 29,
   "id": "fd83bb41",
   "metadata": {},
   "outputs": [
    {
     "data": {
      "image/png": "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",
      "text/plain": [
       "<Figure size 800x500 with 1 Axes>"
      ]
     },
     "metadata": {},
     "output_type": "display_data"
    }
   ],
>>>>>>> a385171 (Final EDA)
   "source": [
    "# visualize class distribution\n",
    "plt.figure(figsize=(8,5))\n",
    "sns.countplot(data=df, x='label', order=df['label'].value_counts().index)\n",
    "plt.title(\"Class Distribution\")\n",
    "plt.xticks(rotation=45)\n",
    "plt.show()"
   ]
  },
  {
   "cell_type": "code",
<<<<<<< HEAD
<<<<<<< HEAD
   "execution_count": null,
   "id": "a71ca495",
   "metadata": {},
   "outputs": [],
=======
   "execution_count": 72,
=======
   "execution_count": 30,
>>>>>>> a385171 (Final EDA)
   "id": "a71ca495",
   "metadata": {},
   "outputs": [
    {
     "data": {
      "text/plain": [
       "label\n",
       "Accnt           42\n",
       " Tech           41\n",
       "ACCOUNT         37\n",
       "Othr            35\n",
       "Billng          35\n",
       "Billing         34\n",
       "Other           33\n",
       "other           32\n",
       "technical       32\n",
       "TECHNICAL       31\n",
       "OTHER           28\n",
       "billing         26\n",
       "BILLING         25\n",
       " Account        22\n",
       "Tech-support    21\n",
       "account         21\n",
       "Name: count, dtype: int64"
      ]
     },
     "execution_count": 30,
     "metadata": {},
     "output_type": "execute_result"
    }
   ],
>>>>>>> 7fa73dd (rerunned the notebook to include text cleaning step and final dataset info)
   "source": [
    "df['label'].value_counts()  # display class counts"
   ]
  },
  {
   "cell_type": "code",
<<<<<<< HEAD
<<<<<<< HEAD
   "execution_count": null,
=======
   "execution_count": 73,
>>>>>>> 7fa73dd (rerunned the notebook to include text cleaning step and final dataset info)
=======
   "execution_count": 31,
>>>>>>> a385171 (Final EDA)
   "id": "f6b6e3f8",
   "metadata": {},
   "outputs": [],
   "source": [
    "# standardizing categorical labels\n",
    "df['label'] = df['label'].str.lower().str.strip()\n",
    "\n",
    "df['label'] = df['label'].replace({\n",
    "    'accnt': 'account',\n",
    "    'account': 'account',\n",
    "    ' account': 'account',\n",
    "    'billing': 'billing',\n",
    "    'billng': 'billing',\n",
    "    'tech': 'technical',\n",
    "    'tech-support': 'technical',\n",
    "    'technical': 'technical',\n",
    "    'other': 'other',\n",
    "    'othr': 'other'\n",
    "}) \n",
    "\n",
    "print(\"Labels standardized successfully.\") \n",
    "print(df['label'].value_counts())  # display updated class counts\n",
    "\n"
   ]
  },
  {
   "cell_type": "code",
<<<<<<< HEAD
<<<<<<< HEAD
   "execution_count": null,
=======
   "execution_count": 74,
>>>>>>> 7fa73dd (rerunned the notebook to include text cleaning step and final dataset info)
   "id": "6f42b57c",
   "metadata": {},
   "outputs": [],
=======
   "execution_count": 32,
   "id": "6f42b57c",
   "metadata": {},
   "outputs": [
    {
     "data": {
      "image/png": "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",
      "text/plain": [
       "<Figure size 800x500 with 1 Axes>"
      ]
     },
     "metadata": {},
     "output_type": "display_data"
    }
   ],
>>>>>>> a385171 (Final EDA)
   "source": [
    "plt.figure(figsize=(8,5))\n",
    "sns.countplot(data=df, x='label', order=df['label'].value_counts().index)\n",
    "plt.title(\"Cleaned Class Distribution\")\n",
    "plt.xticks(rotation=45)\n",
    "plt.show()"
   ]
  },
  {
   "cell_type": "code",
<<<<<<< HEAD
<<<<<<< HEAD
   "execution_count": null,
=======
   "execution_count": 77,
>>>>>>> 7fa73dd (rerunned the notebook to include text cleaning step and final dataset info)
=======
   "execution_count": 33,
   "id": "29ae80be",
   "metadata": {},
   "outputs": [
    {
     "data": {
      "text/html": [
       "<div>\n",
       "<style scoped>\n",
       "    .dataframe tbody tr th:only-of-type {\n",
       "        vertical-align: middle;\n",
       "    }\n",
       "\n",
       "    .dataframe tbody tr th {\n",
       "        vertical-align: top;\n",
       "    }\n",
       "\n",
       "    .dataframe thead th {\n",
       "        text-align: right;\n",
       "    }\n",
       "</style>\n",
       "<table border=\"1\" class=\"dataframe\">\n",
       "  <thead>\n",
       "    <tr style=\"text-align: right;\">\n",
       "      <th></th>\n",
       "      <th>text</th>\n",
       "      <th>label</th>\n",
       "      <th>ticket_id</th>\n",
       "      <th>agent_name</th>\n",
       "      <th>text_cleaned</th>\n",
       "    </tr>\n",
       "  </thead>\n",
       "  <tbody>\n",
       "    <tr>\n",
       "      <th>0</th>\n",
       "      <td>where can i find api rate limits documentation</td>\n",
       "      <td>other</td>\n",
       "      <td>1000</td>\n",
       "      <td>Dana</td>\n",
       "      <td>find api rate limit documentation</td>\n",
       "    </tr>\n",
       "    <tr>\n",
       "      <th>1</th>\n",
       "      <td>can i migrate data from freshdesk</td>\n",
       "      <td>other</td>\n",
       "      <td>1001</td>\n",
       "      <td>Bob</td>\n",
       "      <td>migrate data freshdesk</td>\n",
       "    </tr>\n",
       "    <tr>\n",
       "      <th>2</th>\n",
       "      <td>cannot update billing address page keeps reloa...</td>\n",
       "      <td>billing</td>\n",
       "      <td>1002</td>\n",
       "      <td>Charlie</td>\n",
       "      <td>cannot update billing address page keep reloading</td>\n",
       "    </tr>\n",
       "    <tr>\n",
       "      <th>3</th>\n",
       "      <td>looking for a product roadmap or upcoming feat...</td>\n",
       "      <td>other</td>\n",
       "      <td>1003</td>\n",
       "      <td>Dana</td>\n",
       "      <td>looking product roadmap upcoming feature</td>\n",
       "    </tr>\n",
       "    <tr>\n",
       "      <th>4</th>\n",
       "      <td>dark mode toggled but ui stays light</td>\n",
       "      <td>technical</td>\n",
       "      <td>1004</td>\n",
       "      <td>Alice</td>\n",
       "      <td>dark mode toggled ui stay light</td>\n",
       "    </tr>\n",
       "  </tbody>\n",
       "</table>\n",
       "</div>"
      ],
      "text/plain": [
       "                                                text      label  ticket_id  \\\n",
       "0     where can i find api rate limits documentation      other       1000   \n",
       "1                  can i migrate data from freshdesk      other       1001   \n",
       "2  cannot update billing address page keeps reloa...    billing       1002   \n",
       "3  looking for a product roadmap or upcoming feat...      other       1003   \n",
       "4               dark mode toggled but ui stays light  technical       1004   \n",
       "\n",
       "  agent_name                                       text_cleaned  \n",
       "0       Dana                  find api rate limit documentation  \n",
       "1        Bob                             migrate data freshdesk  \n",
       "2    Charlie  cannot update billing address page keep reloading  \n",
       "3       Dana           looking product roadmap upcoming feature  \n",
       "4      Alice                    dark mode toggled ui stay light  "
      ]
     },
     "execution_count": 33,
     "metadata": {},
     "output_type": "execute_result"
    }
   ],
   "source": [
    "import nltk\n",
    "from nltk.corpus import stopwords\n",
    "from nltk.stem import WordNetLemmatizer\n",
    "\n",
    "stop = set(stopwords.words('english'))\n",
    "lemma = WordNetLemmatizer()\n",
    "\n",
    "df['text_cleaned'] = df['text'].apply(lambda t: ' '.join(\n",
    "    lemma.lemmatize(w) for w in t.split() if w not in stop\n",
    "))\n",
    "df.head()  # display first few rows with cleaned text"
   ]
  },
  {
   "cell_type": "code",
   "execution_count": 34,
>>>>>>> a385171 (Final EDA)
   "id": "32aa0390",
   "metadata": {},
   "outputs": [],
   "source": [
    "# save the cleaned data to the data folder as a csv file.\n",
    "output_path = os.path.join('..', 'data', 'customer_support_tickets_cleaned.csv')\n",
    "df.to_csv(output_path, index=False)"
   ]
<<<<<<< HEAD
=======
  },
  {
   "cell_type": "code",
   "execution_count": null,
   "id": "10775408",
   "metadata": {},
   "outputs": [],
   "source": [
    "df.info()  # final dataset info"
   ]
>>>>>>> 7fa73dd (rerunned the notebook to include text cleaning step and final dataset info)
  }
 ],
 "metadata": {
  "kernelspec": {
   "display_name": "base",
   "language": "python",
   "name": "python3"
  },
  "language_info": {
   "codemirror_mode": {
    "name": "ipython",
    "version": 3
   },
   "file_extension": ".py",
   "mimetype": "text/x-python",
   "name": "python",
   "nbconvert_exporter": "python",
   "pygments_lexer": "ipython3",
   "version": "3.12.7"
  }
 },
 "nbformat": 4,
 "nbformat_minor": 5
}
