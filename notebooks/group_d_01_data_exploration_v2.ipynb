{
  "cells": [
    {
      "cell_type": "code",
      "execution_count": null,
      "metadata": {
        "id": "CS9GXuMKwpb1"
      },
      "outputs": [],
      "source": []
    },
    {
      "cell_type": "code",
      "execution_count": 1,
      "metadata": {
        "id": "lZYIGF1dc8Eh"
      },
      "outputs": [
        {
          "name": "stderr",
          "output_type": "stream",
          "text": [
            "Matplotlib is building the font cache; this may take a moment.\n"
          ]
        }
      ],
      "source": [
        "# setting up the development environment\n",
        "import os\n",
        "import pandas as pd\n",
        "import numpy as np\n",
        "import matplotlib.pyplot as plt\n",
        "import seaborn as sns\n",
        "import re\n",
        "from collections import Counter\n",
        "from sklearn.model_selection import train_test_split\n",
        "\n",
        "#Ensure plots show inline\n",
        "%matplotlib inline"
      ]
    },
    {
      "cell_type": "code",
      "execution_count": 2,
      "metadata": {
        "colab": {
          "base_uri": "https://localhost:8080/",
          "height": 206
        },
        "id": "trNxGc5S59FW",
        "outputId": "a4e73969-563c-4f41-a740-56a0cd143ae0"
      },
      "outputs": [
        {
          "data": {
            "text/html": [
              "<div>\n",
              "<style scoped>\n",
              "    .dataframe tbody tr th:only-of-type {\n",
              "        vertical-align: middle;\n",
              "    }\n",
              "\n",
              "    .dataframe tbody tr th {\n",
              "        vertical-align: top;\n",
              "    }\n",
              "\n",
              "    .dataframe thead th {\n",
              "        text-align: right;\n",
              "    }\n",
              "</style>\n",
              "<table border=\"1\" class=\"dataframe\">\n",
              "  <thead>\n",
              "    <tr style=\"text-align: right;\">\n",
              "      <th></th>\n",
              "      <th>text</th>\n",
              "      <th>label</th>\n",
              "      <th>ticket_id</th>\n",
              "      <th>agent_name</th>\n",
              "    </tr>\n",
              "  </thead>\n",
              "  <tbody>\n",
              "    <tr>\n",
              "      <th>0</th>\n",
              "      <td>Where can I find API rate limits documentation?</td>\n",
              "      <td>Othr</td>\n",
              "      <td>1000</td>\n",
              "      <td>Dana</td>\n",
              "    </tr>\n",
              "    <tr>\n",
              "      <th>1</th>\n",
              "      <td>Can I migrate data from Freshdesk?</td>\n",
              "      <td>Othr</td>\n",
              "      <td>1001</td>\n",
              "      <td>Bob</td>\n",
              "    </tr>\n",
              "    <tr>\n",
              "      <th>2</th>\n",
              "      <td>Cannot update billing address; page keeps relo...</td>\n",
              "      <td>billing</td>\n",
              "      <td>1002</td>\n",
              "      <td>Charlie</td>\n",
              "    </tr>\n",
              "    <tr>\n",
              "      <th>3</th>\n",
              "      <td>Looking for a product roadmap or upcoming feat...</td>\n",
              "      <td>other</td>\n",
              "      <td>1003</td>\n",
              "      <td>Dana</td>\n",
              "    </tr>\n",
              "    <tr>\n",
              "      <th>4</th>\n",
              "      <td>Dark mode toggled but UI stays light.</td>\n",
              "      <td>Tech-support</td>\n",
              "      <td>1004</td>\n",
              "      <td>Alice</td>\n",
              "    </tr>\n",
              "  </tbody>\n",
              "</table>\n",
              "</div>"
            ],
            "text/plain": [
              "                                                text         label  ticket_id  \\\n",
              "0    Where can I find API rate limits documentation?          Othr       1000   \n",
              "1                 Can I migrate data from Freshdesk?          Othr       1001   \n",
              "2  Cannot update billing address; page keeps relo...       billing       1002   \n",
              "3  Looking for a product roadmap or upcoming feat...         other       1003   \n",
              "4              Dark mode toggled but UI stays light.  Tech-support       1004   \n",
              "\n",
              "  agent_name  \n",
              "0       Dana  \n",
              "1        Bob  \n",
              "2    Charlie  \n",
              "3       Dana  \n",
              "4      Alice  "
            ]
          },
          "execution_count": 2,
          "metadata": {},
          "output_type": "execute_result"
        }
      ],
      "source": [
        "# Load dataset from github repo\n",
        "url = \"https://raw.githubusercontent.com/Rodney-Jr/Thrive_Internship_ML_A/refs/heads/main/customer_support_tickets_dirty.csv\"\n",
        "df = pd.read_csv(url)\n",
        "\n",
        "df.head() #inspecting first few rows(head()) of the datatset."
      ]
    },
    {
      "cell_type": "code",
      "execution_count": 3,
      "metadata": {
        "colab": {
          "base_uri": "https://localhost:8080/",
          "height": 206
        },
        "id": "F4OUKZBKloM5",
        "outputId": "92a87bbc-c625-41cd-dac7-ef1c2d15eaf1"
      },
      "outputs": [
        {
          "data": {
            "text/html": [
              "<div>\n",
              "<style scoped>\n",
              "    .dataframe tbody tr th:only-of-type {\n",
              "        vertical-align: middle;\n",
              "    }\n",
              "\n",
              "    .dataframe tbody tr th {\n",
              "        vertical-align: top;\n",
              "    }\n",
              "\n",
              "    .dataframe thead th {\n",
              "        text-align: right;\n",
              "    }\n",
              "</style>\n",
              "<table border=\"1\" class=\"dataframe\">\n",
              "  <thead>\n",
              "    <tr style=\"text-align: right;\">\n",
              "      <th></th>\n",
              "      <th>text</th>\n",
              "      <th>label</th>\n",
              "      <th>ticket_id</th>\n",
              "      <th>agent_name</th>\n",
              "    </tr>\n",
              "  </thead>\n",
              "  <tbody>\n",
              "    <tr>\n",
              "      <th>515</th>\n",
              "      <td>Currency converted incorrectly; expected USD. ...</td>\n",
              "      <td>Billng</td>\n",
              "      <td>1515</td>\n",
              "      <td>Charlie</td>\n",
              "    </tr>\n",
              "    <tr>\n",
              "      <th>516</th>\n",
              "      <td>Can't verify phone number; code not sent.</td>\n",
              "      <td>ACCOUNT</td>\n",
              "      <td>1516</td>\n",
              "      <td>Alice</td>\n",
              "    </tr>\n",
              "    <tr>\n",
              "      <th>517</th>\n",
              "      <td>Dark mode toggled but UI stays light.</td>\n",
              "      <td>Tech</td>\n",
              "      <td>1517</td>\n",
              "      <td>Charlie</td>\n",
              "    </tr>\n",
              "    <tr>\n",
              "      <th>518</th>\n",
              "      <td>Search results page is blank after entering a ...</td>\n",
              "      <td>Tech</td>\n",
              "      <td>1518</td>\n",
              "      <td>Dana</td>\n",
              "    </tr>\n",
              "    <tr>\n",
              "      <th>519</th>\n",
              "      <td>Payment failed during checkout with card endin...</td>\n",
              "      <td>Billng</td>\n",
              "      <td>1519</td>\n",
              "      <td>Alice</td>\n",
              "    </tr>\n",
              "  </tbody>\n",
              "</table>\n",
              "</div>"
            ],
            "text/plain": [
              "                                                  text    label  ticket_id  \\\n",
              "515  Currency converted incorrectly; expected USD. ...   Billng       1515   \n",
              "516          Can't verify phone number; code not sent.  ACCOUNT       1516   \n",
              "517              Dark mode toggled but UI stays light.     Tech       1517   \n",
              "518  Search results page is blank after entering a ...     Tech       1518   \n",
              "519  Payment failed during checkout with card endin...   Billng       1519   \n",
              "\n",
              "    agent_name  \n",
              "515    Charlie  \n",
              "516      Alice  \n",
              "517    Charlie  \n",
              "518       Dana  \n",
              "519      Alice  "
            ]
          },
          "execution_count": 3,
          "metadata": {},
          "output_type": "execute_result"
        }
      ],
      "source": [
        "df.tail() # also to check the dataset"
      ]
    },
    {
      "cell_type": "code",
      "execution_count": 4,
      "metadata": {
        "colab": {
          "base_uri": "https://localhost:8080/"
        },
        "id": "XsljbFa88UIx",
        "outputId": "4026c77b-ec3c-4a09-b59b-5bc6588a50b0"
      },
      "outputs": [
        {
          "data": {
            "text/plain": [
              "(520, 4)"
            ]
          },
          "execution_count": 4,
          "metadata": {},
          "output_type": "execute_result"
        }
      ],
      "source": [
        "df.shape #checking the number of rows and columns"
      ]
    },
    {
      "cell_type": "code",
      "execution_count": 5,
      "metadata": {
        "colab": {
          "base_uri": "https://localhost:8080/"
        },
        "id": "hW10eicf-qUX",
        "outputId": "4a46df0f-b40a-4df3-891a-2826b1830f7f"
      },
      "outputs": [
        {
          "name": "stdout",
          "output_type": "stream",
          "text": [
            "<class 'pandas.core.frame.DataFrame'>\n",
            "RangeIndex: 520 entries, 0 to 519\n",
            "Data columns (total 4 columns):\n",
            " #   Column      Non-Null Count  Dtype \n",
            "---  ------      --------------  ----- \n",
            " 0   text        495 non-null    object\n",
            " 1   label       495 non-null    object\n",
            " 2   ticket_id   520 non-null    int64 \n",
            " 3   agent_name  520 non-null    object\n",
            "dtypes: int64(1), object(3)\n",
            "memory usage: 16.4+ KB\n"
          ]
        }
      ],
      "source": [
        "df.info() #getting the basic information of the dataset"
      ]
    },
    {
      "cell_type": "code",
      "execution_count": 6,
      "metadata": {
        "colab": {
          "base_uri": "https://localhost:8080/"
        },
        "id": "1LzQVv8l_mX3",
        "outputId": "dbd17eae-e1fa-4702-fbb0-77d3bc0da8d8"
      },
      "outputs": [
        {
          "data": {
            "text/plain": [
              "0"
            ]
          },
          "execution_count": 6,
          "metadata": {},
          "output_type": "execute_result"
        }
      ],
      "source": [
        "#checking for missing or duplicated data\n",
        "df.isnull().sum() #checking for missing values\n",
        "df.duplicated().sum() #checking for duplicated values"
      ]
    },
    {
      "cell_type": "code",
      "execution_count": 7,
      "metadata": {
        "id": "pRtbFvtp_9-r"
      },
      "outputs": [],
      "source": [
        "df.drop_duplicates(inplace=True) #dropping the duplicated values found\n",
        "df =df.dropna() #dropping the missing values found"
      ]
    },
    {
      "cell_type": "code",
      "execution_count": 8,
      "metadata": {
        "colab": {
          "base_uri": "https://localhost:8080/",
          "height": 300
        },
        "id": "poKNpTNtAXy3",
        "outputId": "cc2589b9-add3-4f9b-b927-6b3111fc5bd2"
      },
      "outputs": [
        {
          "data": {
            "text/html": [
              "<div>\n",
              "<style scoped>\n",
              "    .dataframe tbody tr th:only-of-type {\n",
              "        vertical-align: middle;\n",
              "    }\n",
              "\n",
              "    .dataframe tbody tr th {\n",
              "        vertical-align: top;\n",
              "    }\n",
              "\n",
              "    .dataframe thead th {\n",
              "        text-align: right;\n",
              "    }\n",
              "</style>\n",
              "<table border=\"1\" class=\"dataframe\">\n",
              "  <thead>\n",
              "    <tr style=\"text-align: right;\">\n",
              "      <th></th>\n",
              "      <th>ticket_id</th>\n",
              "    </tr>\n",
              "  </thead>\n",
              "  <tbody>\n",
              "    <tr>\n",
              "      <th>count</th>\n",
              "      <td>472.000000</td>\n",
              "    </tr>\n",
              "    <tr>\n",
              "      <th>mean</th>\n",
              "      <td>1259.786017</td>\n",
              "    </tr>\n",
              "    <tr>\n",
              "      <th>std</th>\n",
              "      <td>149.518061</td>\n",
              "    </tr>\n",
              "    <tr>\n",
              "      <th>min</th>\n",
              "      <td>1000.000000</td>\n",
              "    </tr>\n",
              "    <tr>\n",
              "      <th>25%</th>\n",
              "      <td>1133.750000</td>\n",
              "    </tr>\n",
              "    <tr>\n",
              "      <th>50%</th>\n",
              "      <td>1259.500000</td>\n",
              "    </tr>\n",
              "    <tr>\n",
              "      <th>75%</th>\n",
              "      <td>1387.500000</td>\n",
              "    </tr>\n",
              "    <tr>\n",
              "      <th>max</th>\n",
              "      <td>1519.000000</td>\n",
              "    </tr>\n",
              "  </tbody>\n",
              "</table>\n",
              "</div>"
            ],
            "text/plain": [
              "         ticket_id\n",
              "count   472.000000\n",
              "mean   1259.786017\n",
              "std     149.518061\n",
              "min    1000.000000\n",
              "25%    1133.750000\n",
              "50%    1259.500000\n",
              "75%    1387.500000\n",
              "max    1519.000000"
            ]
          },
          "execution_count": 8,
          "metadata": {},
          "output_type": "execute_result"
        }
      ],
      "source": [
        "df.describe() #generates descriptive statistics of the dataframe"
      ]
    },
    {
      "cell_type": "code",
      "execution_count": 9,
      "metadata": {
        "colab": {
          "base_uri": "https://localhost:8080/",
          "height": 175
        },
        "id": "fBR-Mg8xBJZf",
        "outputId": "d60cf741-d81a-495c-8b33-9381bb435ebc"
      },
      "outputs": [
        {
          "data": {
            "text/html": [
              "<div>\n",
              "<style scoped>\n",
              "    .dataframe tbody tr th:only-of-type {\n",
              "        vertical-align: middle;\n",
              "    }\n",
              "\n",
              "    .dataframe tbody tr th {\n",
              "        vertical-align: top;\n",
              "    }\n",
              "\n",
              "    .dataframe thead th {\n",
              "        text-align: right;\n",
              "    }\n",
              "</style>\n",
              "<table border=\"1\" class=\"dataframe\">\n",
              "  <thead>\n",
              "    <tr style=\"text-align: right;\">\n",
              "      <th></th>\n",
              "      <th>text</th>\n",
              "      <th>label</th>\n",
              "      <th>agent_name</th>\n",
              "    </tr>\n",
              "  </thead>\n",
              "  <tbody>\n",
              "    <tr>\n",
              "      <th>count</th>\n",
              "      <td>472</td>\n",
              "      <td>472</td>\n",
              "      <td>472</td>\n",
              "    </tr>\n",
              "    <tr>\n",
              "      <th>unique</th>\n",
              "      <td>173</td>\n",
              "      <td>16</td>\n",
              "      <td>4</td>\n",
              "    </tr>\n",
              "    <tr>\n",
              "      <th>top</th>\n",
              "      <td>Do you offer discounts for students or NGOs?</td>\n",
              "      <td>Accnt</td>\n",
              "      <td>Alice</td>\n",
              "    </tr>\n",
              "    <tr>\n",
              "      <th>freq</th>\n",
              "      <td>16</td>\n",
              "      <td>41</td>\n",
              "      <td>132</td>\n",
              "    </tr>\n",
              "  </tbody>\n",
              "</table>\n",
              "</div>"
            ],
            "text/plain": [
              "                                                text  label agent_name\n",
              "count                                            472    472        472\n",
              "unique                                           173     16          4\n",
              "top     Do you offer discounts for students or NGOs?  Accnt      Alice\n",
              "freq                                              16     41        132"
            ]
          },
          "execution_count": 9,
          "metadata": {},
          "output_type": "execute_result"
        }
      ],
      "source": [
        "df.describe(include='object') #generates descriptive statistics of the dataframe"
      ]
    },
    {
      "cell_type": "code",
      "execution_count": 10,
      "metadata": {
        "colab": {
          "base_uri": "https://localhost:8080/",
          "height": 241
        },
        "id": "biHqN0fqkxDe",
        "outputId": "2819a95d-513a-4e92-b073-0b29f42cdd94"
      },
      "outputs": [
        {
          "data": {
            "text/plain": [
              "agent_name\n",
              "Alice      132\n",
              "Bob        120\n",
              "Charlie    115\n",
              "Dana       105\n",
              "Name: count, dtype: int64"
            ]
          },
          "execution_count": 10,
          "metadata": {},
          "output_type": "execute_result"
        }
      ],
      "source": [
        "df['label'].value_counts() #checking the distribution of the target variable\n",
        "df['agent_name'].value_counts() #checking the distribution of the agent_name"
      ]
    },
    {
      "cell_type": "code",
      "execution_count": 11,
      "metadata": {
        "id": "JEhaLYPv_pDi"
      },
      "outputs": [],
      "source": [
        "#df['label'] = df['label'].str.lower().replace({'othr': 'other'}) #fix inconsistent labels replace\"othr\" with \"other\"\n",
        "#df['label'] = df['label'].str.lower().replace({'OTHER': 'other'}) #fix inconsistent labels replace\"OTHER\" with \"other\""
      ]
    },
    {
      "cell_type": "code",
      "execution_count": 12,
      "metadata": {
        "colab": {
          "base_uri": "https://localhost:8080/"
        },
        "id": "xVxdkIUTlcxd",
        "outputId": "2c044a67-fe71-45d0-c662-a281ccf8e257"
      },
      "outputs": [
        {
          "data": {
            "text/plain": [
              "array(['Othr', 'billing', 'other', 'Tech-support', 'account', 'technical',\n",
              "       'Accnt', 'OTHER', 'TECHNICAL', 'ACCOUNT', 'BILLING', 'Other ',\n",
              "       'Billng', 'Billing ', ' Account ', ' Tech'], dtype=object)"
            ]
          },
          "execution_count": 12,
          "metadata": {},
          "output_type": "execute_result"
        }
      ],
      "source": [
        "# alternative to fix corrections --> determine the unique valueso of the column 'label'\n",
        "\n",
        "df['label'].unique()\n"
      ]
    },
    {
      "cell_type": "code",
      "execution_count": 13,
      "metadata": {
        "colab": {
          "base_uri": "https://localhost:8080/"
        },
        "id": "yd0gIKF3vFfY",
        "outputId": "c619767c-cd00-4526-86ef-f6d3cd13572b"
      },
      "outputs": [
        {
          "data": {
            "text/plain": [
              "16"
            ]
          },
          "execution_count": 13,
          "metadata": {},
          "output_type": "execute_result"
        }
      ],
      "source": [
        "df['label'].nunique() # no if items in the column 'label'"
      ]
    },
    {
      "cell_type": "code",
      "execution_count": 14,
      "metadata": {
        "colab": {
          "base_uri": "https://localhost:8080/",
          "height": 617
        },
        "id": "12N_EPTWtwN5",
        "outputId": "e55076cd-c86c-46e1-f181-0a0b423bcc0f"
      },
      "outputs": [
        {
          "data": {
            "text/plain": [
              "label\n",
              "Accnt           41\n",
              " Tech           38\n",
              "ACCOUNT         36\n",
              "Othr            35\n",
              "Billng          34\n",
              "Other           33\n",
              "other           32\n",
              "technical       31\n",
              "Billing         31\n",
              "TECHNICAL       30\n",
              "billing         25\n",
              "OTHER           25\n",
              "BILLING         23\n",
              "Tech-support    20\n",
              " Account        20\n",
              "account         18\n",
              "Name: count, dtype: int64"
            ]
          },
          "execution_count": 14,
          "metadata": {},
          "output_type": "execute_result"
        }
      ],
      "source": [
        "df['label'].value_counts() # see items in the column 'label'"
      ]
    },
    {
      "cell_type": "code",
      "execution_count": null,
      "metadata": {
        "colab": {
          "base_uri": "https://localhost:8080/"
        },
        "id": "bUgdJrF4qD5C",
        "outputId": "a7ef47d8-f328-4031-88ca-88b848c5d013"
      },
      "outputs": [
        {
          "name": "stdout",
          "output_type": "stream",
          "text": [
            "                                                  text         label  \\\n",
            "0      Where can I find API rate limits documentation?         Other   \n",
            "1                   Can I migrate data from Freshdesk?         Other   \n",
            "2    Cannot update billing address; page keeps relo...       Billing   \n",
            "3    Looking for a product roadmap or upcoming feat...         Other   \n",
            "4                Dark mode toggled but UI stays light.  Tech-support   \n",
            "..                                                 ...           ...   \n",
            "515  Currency converted incorrectly; expected USD. ...       Billing   \n",
            "516          Can't verify phone number; code not sent.       Account   \n",
            "517              Dark mode toggled but UI stays light.          Tech   \n",
            "518  Search results page is blank after entering a ...          Tech   \n",
            "519  Payment failed during checkout with card endin...       Billing   \n",
            "\n",
            "     ticket_id agent_name  \n",
            "0         1000       Dana  \n",
            "1         1001        Bob  \n",
            "2         1002    Charlie  \n",
            "3         1003       Dana  \n",
            "4         1004      Alice  \n",
            "..         ...        ...  \n",
            "515       1515    Charlie  \n",
            "516       1516      Alice  \n",
            "517       1517    Charlie  \n",
            "518       1518       Dana  \n",
            "519       1519      Alice  \n",
            "\n",
            "[472 rows x 4 columns]\n"
          ]
        }
      ],
      "source": [
        "# create a dictionary for corrections\n",
        "\n",
        "Fixings = {\n",
        "           'Billng' : 'Billing',\n",
        "           'billing' : 'Billing',\n",
        "           'BILLING' : 'Billing',\n",
        "           'technical' : 'Tech-support',\n",
        "           'Technical' : 'Tech-support',\n",
        "           'Tech' : 'Tech-support',\n",
        "           'TECHNICAL' : 'Tech-support',\n",
        "           'other' : 'Other',\n",
        "           'Othr' : 'Other',\n",
        "           'ACCOUNT' : 'Account',\n",
        "           'Accnt'   : 'Account',\n",
        "           'account' :'Account',\n",
        "\n",
        "\n",
        "           }\n",
        "df['label'] = df['label'].replace(Fixings)\n",
        "print(df)"
      ]
    },
    {
      "cell_type": "code",
      "execution_count": null,
      "metadata": {
        "id": "ZKurbnNylVNy"
      },
      "outputs": [],
      "source": [
        "df['text'] = df['text'].str.strip() #trim text and remove whitespaces"
      ]
    },
    {
      "cell_type": "code",
      "execution_count": null,
      "metadata": {
        "id": "YNlRdCZHC7iV"
      },
      "outputs": [],
      "source": [
        "df['label'] = df['label'].str.strip() #trim label and remove white spaces"
      ]
    },
    {
      "cell_type": "code",
      "execution_count": null,
      "metadata": {
        "colab": {
          "base_uri": "https://localhost:8080/",
          "height": 474
        },
        "id": "Isq9Wf_h7JIx",
        "outputId": "20075d4b-4779-4e72-9fe1-c14b712d379c"
      },
      "outputs": [
        {
          "data": {
            "image/png": "[encoded data removed]",
            "text/plain": [
              "<Figure size 800x400 with 1 Axes>"
            ]
          },
          "metadata": {},
          "output_type": "display_data"
        }
      ],
      "source": [
        "#plot the distribution of the target variable\n",
        "\n",
        "plt.figure(figsize=(8,4))\n",
        "sns.countplot(x='label', data=df, hue='label', palette='coolwarm', legend=False)\n",
        "plt.title('Class Distribution of Support Tickets', fontsize=14)\n",
        "plt.xlabel('Ticket Category',fontsize=12)\n",
        "plt.ylabel('Number of Tickets', fontsize=12)\n",
        "plt.xticks(rotation=45, ha='right')\n",
        "plt.show()"
      ]
    },
    {
      "cell_type": "code",
      "execution_count": null,
      "metadata": {
        "colab": {
          "base_uri": "https://localhost:8080/",
          "height": 507
        },
        "id": "qsXCQ7qf7jNw",
        "outputId": "bde321f8-6aac-4795-fe30-6112b6328eef"
      },
      "outputs": [
        {
          "data": {
            "image/png": "[encoded data removed]",
            "text/plain": [
              "<Figure size 640x480 with 1 Axes>"
            ]
          },
          "metadata": {},
          "output_type": "display_data"
        }
      ],
      "source": [
        "df['agent_name'].value_counts().head(10).plot(kind='bar') #plot the distribution of the agent_name\n",
        "plt.title(\"Top 10 Agent Names\")\n",
        "plt.show()"
      ]
    },
    {
      "cell_type": "code",
      "execution_count": null,
      "metadata": {
        "colab": {
          "base_uri": "https://localhost:8080/",
          "height": 472
        },
        "id": "z5mqciTO8iO9",
        "outputId": "aa958c9b-0dfb-4e02-f58d-9d710de7e511"
      },
      "outputs": [
        {
          "data": {
            "image/png": "[encoded data removed]",
            "text/plain": [
              "<Figure size 640x480 with 1 Axes>"
            ]
          },
          "metadata": {},
          "output_type": "display_data"
        }
      ],
      "source": [
        "df['text_length'] = df['text'].apply(len) #create a new column with the length of the text\n",
        "sns.histplot(data=df, x='text_length', bins=50) #plot the distribution of the text length\n",
        "plt.title(\"Text Length Distribution\")\n",
        "plt.show()"
      ]
    },
    {
      "cell_type": "code",
      "execution_count": null,
      "metadata": {
        "colab": {
          "base_uri": "https://localhost:8080/",
          "height": 435
        },
        "id": "m887lGFD95NH",
        "outputId": "2980ff44-076f-4d5a-d1e4-c7818a9e671b"
      },
      "outputs": [
        {
          "data": {
            "image/png": "[encoded data removed]",
            "text/plain": [
              "<Figure size 640x480 with 2 Axes>"
            ]
          },
          "metadata": {},
          "output_type": "display_data"
        }
      ],
      "source": [
        "sns.heatmap(df.corr(numeric_only=True), annot=True, cmap='coolwarm') #create a heatmap of the correlation matrix\n",
        "plt.show()"
      ]
    },
    {
      "cell_type": "code",
      "execution_count": null,
      "metadata": {
        "colab": {
          "base_uri": "https://localhost:8080/"
        },
        "id": "LbU67y6--b0Y",
        "outputId": "017bb2d9-5801-48b4-8fe7-b3fa4275c66d"
      },
      "outputs": [
        {
          "name": "stdout",
          "output_type": "stream",
          "text": [
            "Cleaned dataset saved as 'customer_support_tickets_cleaned.csv\n"
          ]
        }
      ],
      "source": [
        "df.to_csv('customer_support_tickets_cleaned.csv', index=False) #save the cleaned dataset to a new csv file\n",
        "print(\"Cleaned dataset saved as 'customer_support_tickets_cleaned.csv\")"
      ]
    },
    {
      "cell_type": "code",
      "execution_count": null,
      "metadata": {
        "id": "yZoZJ6j088F2"
      },
      "outputs": [],
      "source": []
    },
    {
      "cell_type": "code",
      "execution_count": null,
      "metadata": {
        "id": "zUDDuSLh88F2"
      },
      "outputs": [],
      "source": []
    }
  ],
  "metadata": {
    "colab": {
      "provenance": []
    },
    "kernelspec": {
      "display_name": "base",
      "language": "python",
      "name": "python3"
    },
    "language_info": {
      "codemirror_mode": {
        "name": "ipython",
        "version": 3
      },
      "file_extension": ".py",
      "mimetype": "text/x-python",
      "name": "python",
      "nbconvert_exporter": "python",
      "pygments_lexer": "ipython3",
      "version": "3.12.7"
    }
  },
  "nbformat": 4,
  "nbformat_minor": 0
}
