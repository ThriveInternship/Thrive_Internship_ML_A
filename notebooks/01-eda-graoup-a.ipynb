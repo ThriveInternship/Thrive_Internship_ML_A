{
 "cells": [
  {
   "cell_type": "markdown",
   "id": "cb654cf9",
   "metadata": {},
   "source": [
    "Load Data"
   ]
  },
  {
   "cell_type": "code",
   "execution_count": 6,
   "id": "1c253e6b",
   "metadata": {},
   "outputs": [],
   "source": [
    "import pandas as pd\n",
    "import os, json, re\n",
    "import pandas as pd\n",
    "import numpy as np\n",
    "import matplotlib.pyplot as plt\n",
    "from collections import Counter\n",
    "\n",
    "df=pd.read_csv('customer_support_tickets_dirty.csv')"
   ]
  },
  {
   "cell_type": "markdown",
   "id": "c5d736f2",
   "metadata": {},
   "source": [
    "Read data"
   ]
  },
  {
   "cell_type": "code",
   "execution_count": 3,
   "id": "81f314c4",
   "metadata": {},
   "outputs": [
    {
     "name": "stdout",
     "output_type": "stream",
     "text": [
      "columns: ['text', 'label', 'ticket_id', 'agent_name']\n",
      "shape (520, 4)\n"
     ]
    },
    {
     "data": {
      "text/html": [
       "<div>\n",
       "<style scoped>\n",
       "    .dataframe tbody tr th:only-of-type {\n",
       "        vertical-align: middle;\n",
       "    }\n",
       "\n",
       "    .dataframe tbody tr th {\n",
       "        vertical-align: top;\n",
       "    }\n",
       "\n",
       "    .dataframe thead th {\n",
       "        text-align: right;\n",
       "    }\n",
       "</style>\n",
       "<table border=\"1\" class=\"dataframe\">\n",
       "  <thead>\n",
       "    <tr style=\"text-align: right;\">\n",
       "      <th></th>\n",
       "      <th>text</th>\n",
       "      <th>label</th>\n",
       "      <th>ticket_id</th>\n",
       "      <th>agent_name</th>\n",
       "    </tr>\n",
       "  </thead>\n",
       "  <tbody>\n",
       "    <tr>\n",
       "      <th>0</th>\n",
       "      <td>Where can I find API rate limits documentation?</td>\n",
       "      <td>Othr</td>\n",
       "      <td>1000</td>\n",
       "      <td>Dana</td>\n",
       "    </tr>\n",
       "    <tr>\n",
       "      <th>1</th>\n",
       "      <td>Can I migrate data from Freshdesk?</td>\n",
       "      <td>Othr</td>\n",
       "      <td>1001</td>\n",
       "      <td>Bob</td>\n",
       "    </tr>\n",
       "    <tr>\n",
       "      <th>2</th>\n",
       "      <td>Cannot update billing address; page keeps relo...</td>\n",
       "      <td>billing</td>\n",
       "      <td>1002</td>\n",
       "      <td>Charlie</td>\n",
       "    </tr>\n",
       "    <tr>\n",
       "      <th>3</th>\n",
       "      <td>Looking for a product roadmap or upcoming feat...</td>\n",
       "      <td>other</td>\n",
       "      <td>1003</td>\n",
       "      <td>Dana</td>\n",
       "    </tr>\n",
       "    <tr>\n",
       "      <th>4</th>\n",
       "      <td>Dark mode toggled but UI stays light.</td>\n",
       "      <td>Tech-support</td>\n",
       "      <td>1004</td>\n",
       "      <td>Alice</td>\n",
       "    </tr>\n",
       "  </tbody>\n",
       "</table>\n",
       "</div>"
      ],
      "text/plain": [
       "                                                text         label  ticket_id  \\\n",
       "0    Where can I find API rate limits documentation?          Othr       1000   \n",
       "1                 Can I migrate data from Freshdesk?          Othr       1001   \n",
       "2  Cannot update billing address; page keeps relo...       billing       1002   \n",
       "3  Looking for a product roadmap or upcoming feat...         other       1003   \n",
       "4              Dark mode toggled but UI stays light.  Tech-support       1004   \n",
       "\n",
       "  agent_name  \n",
       "0       Dana  \n",
       "1        Bob  \n",
       "2    Charlie  \n",
       "3       Dana  \n",
       "4      Alice  "
      ]
     },
     "execution_count": 3,
     "metadata": {},
     "output_type": "execute_result"
    }
   ],
   "source": [
    "print('columns:', df.columns.tolist())\n",
    "print('shape', df.shape)\n",
    "df.head()"
   ]
  },
  {
   "cell_type": "code",
   "execution_count": 4,
   "id": "fd263099",
   "metadata": {},
   "outputs": [
    {
     "data": {
      "text/html": [
       "<div>\n",
       "<style scoped>\n",
       "    .dataframe tbody tr th:only-of-type {\n",
       "        vertical-align: middle;\n",
       "    }\n",
       "\n",
       "    .dataframe tbody tr th {\n",
       "        vertical-align: top;\n",
       "    }\n",
       "\n",
       "    .dataframe thead th {\n",
       "        text-align: right;\n",
       "    }\n",
       "</style>\n",
       "<table border=\"1\" class=\"dataframe\">\n",
       "  <thead>\n",
       "    <tr style=\"text-align: right;\">\n",
       "      <th></th>\n",
       "      <th>text</th>\n",
       "      <th>label</th>\n",
       "      <th>ticket_id</th>\n",
       "      <th>agent_name</th>\n",
       "    </tr>\n",
       "  </thead>\n",
       "  <tbody>\n",
       "    <tr>\n",
       "      <th>0</th>\n",
       "      <td>Where can I find API rate limits documentation?</td>\n",
       "      <td>Othr</td>\n",
       "      <td>1000</td>\n",
       "      <td>Dana</td>\n",
       "    </tr>\n",
       "    <tr>\n",
       "      <th>1</th>\n",
       "      <td>Can I migrate data from Freshdesk?</td>\n",
       "      <td>Othr</td>\n",
       "      <td>1001</td>\n",
       "      <td>Bob</td>\n",
       "    </tr>\n",
       "    <tr>\n",
       "      <th>2</th>\n",
       "      <td>Cannot update billing address; page keeps relo...</td>\n",
       "      <td>billing</td>\n",
       "      <td>1002</td>\n",
       "      <td>Charlie</td>\n",
       "    </tr>\n",
       "    <tr>\n",
       "      <th>3</th>\n",
       "      <td>Looking for a product roadmap or upcoming feat...</td>\n",
       "      <td>other</td>\n",
       "      <td>1003</td>\n",
       "      <td>Dana</td>\n",
       "    </tr>\n",
       "    <tr>\n",
       "      <th>4</th>\n",
       "      <td>Dark mode toggled but UI stays light.</td>\n",
       "      <td>Tech-support</td>\n",
       "      <td>1004</td>\n",
       "      <td>Alice</td>\n",
       "    </tr>\n",
       "    <tr>\n",
       "      <th>5</th>\n",
       "      <td>Promo code SPRING15 not applied at checkout.</td>\n",
       "      <td>billing</td>\n",
       "      <td>1005</td>\n",
       "      <td>Alice</td>\n",
       "    </tr>\n",
       "    <tr>\n",
       "      <th>6</th>\n",
       "      <td>Incorrect role assigned; need admin access for...</td>\n",
       "      <td>account</td>\n",
       "      <td>1006</td>\n",
       "      <td>Dana</td>\n",
       "    </tr>\n",
       "    <tr>\n",
       "      <th>7</th>\n",
       "      <td>File export to CSV generates corrupted file.</td>\n",
       "      <td>technical</td>\n",
       "      <td>1007</td>\n",
       "      <td>Dana</td>\n",
       "    </tr>\n",
       "    <tr>\n",
       "      <th>8</th>\n",
       "      <td>Overcharged by GHS 120 on my last bill. 😡</td>\n",
       "      <td>billing</td>\n",
       "      <td>1008</td>\n",
       "      <td>Dana</td>\n",
       "    </tr>\n",
       "    <tr>\n",
       "      <th>9</th>\n",
       "      <td>NaN</td>\n",
       "      <td>account</td>\n",
       "      <td>1009</td>\n",
       "      <td>Dana</td>\n",
       "    </tr>\n",
       "  </tbody>\n",
       "</table>\n",
       "</div>"
      ],
      "text/plain": [
       "                                                text         label  ticket_id  \\\n",
       "0    Where can I find API rate limits documentation?          Othr       1000   \n",
       "1                 Can I migrate data from Freshdesk?          Othr       1001   \n",
       "2  Cannot update billing address; page keeps relo...       billing       1002   \n",
       "3  Looking for a product roadmap or upcoming feat...         other       1003   \n",
       "4              Dark mode toggled but UI stays light.  Tech-support       1004   \n",
       "5       Promo code SPRING15 not applied at checkout.       billing       1005   \n",
       "6  Incorrect role assigned; need admin access for...       account       1006   \n",
       "7       File export to CSV generates corrupted file.     technical       1007   \n",
       "8          Overcharged by GHS 120 on my last bill. 😡       billing       1008   \n",
       "9                                                NaN       account       1009   \n",
       "\n",
       "  agent_name  \n",
       "0       Dana  \n",
       "1        Bob  \n",
       "2    Charlie  \n",
       "3       Dana  \n",
       "4      Alice  \n",
       "5      Alice  \n",
       "6       Dana  \n",
       "7       Dana  \n",
       "8       Dana  \n",
       "9       Dana  "
      ]
     },
     "execution_count": 4,
     "metadata": {},
     "output_type": "execute_result"
    }
   ],
   "source": [
    "df.head(10)"
   ]
  },
  {
   "cell_type": "code",
   "execution_count": 5,
   "id": "02cf6020",
   "metadata": {},
   "outputs": [
    {
     "data": {
      "text/html": [
       "<div>\n",
       "<style scoped>\n",
       "    .dataframe tbody tr th:only-of-type {\n",
       "        vertical-align: middle;\n",
       "    }\n",
       "\n",
       "    .dataframe tbody tr th {\n",
       "        vertical-align: top;\n",
       "    }\n",
       "\n",
       "    .dataframe thead th {\n",
       "        text-align: right;\n",
       "    }\n",
       "</style>\n",
       "<table border=\"1\" class=\"dataframe\">\n",
       "  <thead>\n",
       "    <tr style=\"text-align: right;\">\n",
       "      <th></th>\n",
       "      <th>text</th>\n",
       "      <th>label</th>\n",
       "      <th>ticket_id</th>\n",
       "      <th>agent_name</th>\n",
       "    </tr>\n",
       "  </thead>\n",
       "  <tbody>\n",
       "    <tr>\n",
       "      <th>515</th>\n",
       "      <td>Currency converted incorrectly; expected USD. ...</td>\n",
       "      <td>Billng</td>\n",
       "      <td>1515</td>\n",
       "      <td>Charlie</td>\n",
       "    </tr>\n",
       "    <tr>\n",
       "      <th>516</th>\n",
       "      <td>Can't verify phone number; code not sent.</td>\n",
       "      <td>ACCOUNT</td>\n",
       "      <td>1516</td>\n",
       "      <td>Alice</td>\n",
       "    </tr>\n",
       "    <tr>\n",
       "      <th>517</th>\n",
       "      <td>Dark mode toggled but UI stays light.</td>\n",
       "      <td>Tech</td>\n",
       "      <td>1517</td>\n",
       "      <td>Charlie</td>\n",
       "    </tr>\n",
       "    <tr>\n",
       "      <th>518</th>\n",
       "      <td>Search results page is blank after entering a ...</td>\n",
       "      <td>Tech</td>\n",
       "      <td>1518</td>\n",
       "      <td>Dana</td>\n",
       "    </tr>\n",
       "    <tr>\n",
       "      <th>519</th>\n",
       "      <td>Payment failed during checkout with card endin...</td>\n",
       "      <td>Billng</td>\n",
       "      <td>1519</td>\n",
       "      <td>Alice</td>\n",
       "    </tr>\n",
       "  </tbody>\n",
       "</table>\n",
       "</div>"
      ],
      "text/plain": [
       "                                                  text    label  ticket_id  \\\n",
       "515  Currency converted incorrectly; expected USD. ...   Billng       1515   \n",
       "516          Can't verify phone number; code not sent.  ACCOUNT       1516   \n",
       "517              Dark mode toggled but UI stays light.     Tech       1517   \n",
       "518  Search results page is blank after entering a ...     Tech       1518   \n",
       "519  Payment failed during checkout with card endin...   Billng       1519   \n",
       "\n",
       "    agent_name  \n",
       "515    Charlie  \n",
       "516      Alice  \n",
       "517    Charlie  \n",
       "518       Dana  \n",
       "519      Alice  "
      ]
     },
     "execution_count": 5,
     "metadata": {},
     "output_type": "execute_result"
    }
   ],
   "source": [
    "df.tail()"
   ]
  },
  {
   "cell_type": "markdown",
   "id": "29cb3f30",
   "metadata": {},
   "source": [
    "Data Exploratory"
   ]
  },
  {
   "cell_type": "code",
   "execution_count": 6,
   "id": "d432f9bc",
   "metadata": {},
   "outputs": [
    {
     "name": "stdout",
     "output_type": "stream",
     "text": [
      "Info:\n",
      "<class 'pandas.core.frame.DataFrame'>\n",
      "RangeIndex: 520 entries, 0 to 519\n",
      "Data columns (total 4 columns):\n",
      " #   Column      Non-Null Count  Dtype \n",
      "---  ------      --------------  ----- \n",
      " 0   text        495 non-null    object\n",
      " 1   label       495 non-null    object\n",
      " 2   ticket_id   520 non-null    int64 \n",
      " 3   agent_name  520 non-null    object\n",
      "dtypes: int64(1), object(3)\n",
      "memory usage: 16.4+ KB\n",
      "None\n",
      "Missing values per column:\n",
      "text          25\n",
      "label         25\n",
      "ticket_id      0\n",
      "agent_name     0\n",
      "dtype: int64\n"
     ]
    }
   ],
   "source": [
    "print('Info:')\n",
    "print(df.info())\n",
    "\n",
    "\n",
    "print('Missing values per column:')\n",
    "print(df.isnull().sum())"
   ]
  },
  {
   "cell_type": "code",
   "execution_count": 7,
   "id": "48fc4397",
   "metadata": {},
   "outputs": [
    {
     "name": "stdout",
     "output_type": "stream",
     "text": [
      "                                                text  label    ticket_id  \\\n",
      "count                                            495    495   520.000000   \n",
      "unique                                           180     16          NaN   \n",
      "top     Do you offer discounts for students or NGOs?  Accnt          NaN   \n",
      "freq                                              16     42          NaN   \n",
      "mean                                             NaN    NaN  1259.500000   \n",
      "std                                              NaN    NaN   150.255338   \n",
      "min                                              NaN    NaN  1000.000000   \n",
      "25%                                              NaN    NaN  1129.750000   \n",
      "50%                                              NaN    NaN  1259.500000   \n",
      "75%                                              NaN    NaN  1389.250000   \n",
      "max                                              NaN    NaN  1519.000000   \n",
      "\n",
      "       agent_name  \n",
      "count         520  \n",
      "unique          4  \n",
      "top         Alice  \n",
      "freq          140  \n",
      "mean          NaN  \n",
      "std           NaN  \n",
      "min           NaN  \n",
      "25%           NaN  \n",
      "50%           NaN  \n",
      "75%           NaN  \n",
      "max           NaN  \n"
     ]
    }
   ],
   "source": [
    "print(df.describe(include=\"all\"))"
   ]
  },
  {
   "cell_type": "code",
   "execution_count": 8,
   "id": "d5a49887",
   "metadata": {},
   "outputs": [
    {
     "name": "stdout",
     "output_type": "stream",
     "text": [
      "label\n",
      "Accnt           42\n",
      " Tech           41\n",
      "ACCOUNT         37\n",
      "Othr            35\n",
      "Billng          35\n",
      "Billing         34\n",
      "Other           33\n",
      "technical       32\n",
      "other           32\n",
      "TECHNICAL       31\n",
      "OTHER           28\n",
      "billing         26\n",
      "BILLING         25\n",
      " Account        22\n",
      "account         21\n",
      "Tech-support    21\n",
      "Name: count, dtype: int64\n"
     ]
    }
   ],
   "source": [
    "print(df['label'].value_counts())"
   ]
  },
  {
   "cell_type": "markdown",
   "id": "e02aaa66",
   "metadata": {},
   "source": [
    "    Data Cleaning"
   ]
  },
  {
   "cell_type": "code",
   "execution_count": 18,
   "id": "087cae18",
   "metadata": {},
   "outputs": [],
   "source": [
    "import re \n",
    "df=df.drop_duplicates()\n",
    "\n",
    "# Handle missing values — fill with \"unknown\"\n",
    "df = df.fillna(\"unknown\")\n",
    "\n"
   ]
  },
  {
   "cell_type": "code",
   "execution_count": 11,
   "id": "4b7c6ad9",
   "metadata": {},
   "outputs": [],
   "source": [
    "#  Clean noise from text fields\n",
    "def clean_text(text):\n",
    "    if isinstance(text, str):\n",
    "        # Convert to lowercase\n",
    "        text = text.lower()\n",
    "        # Remove special characters (keep letters, digits, and spaces)\n",
    "        text = re.sub(r'[^a-z0-9\\s]', '', text)\n",
    "        # Remove extra spaces\n",
    "        text = re.sub(r'\\s+', ' ', text).strip()\n",
    "        return text\n",
    "    else:\n",
    "        return text"
   ]
  },
  {
   "cell_type": "code",
   "execution_count": 12,
   "id": "4ef3f045",
   "metadata": {},
   "outputs": [],
   "source": [
    "text_columns = ['text', 'label', 'agent_name']\n",
    "for col in text_columns:\n",
    "    df[col] = df[col].apply(clean_text)"
   ]
  },
  {
   "cell_type": "code",
   "execution_count": 13,
   "id": "a6c66376",
   "metadata": {},
   "outputs": [
    {
     "name": "stdout",
     "output_type": "stream",
     "text": [
      "✅ Corrected spellings and normalized synonyms in the 'label' column.\n",
      "\n",
      "Value counts after correction:\n",
      "label\n",
      "other        128\n",
      "technical    125\n",
      "account      122\n",
      "billing      120\n",
      "Name: count, dtype: int64\n"
     ]
    }
   ],
   "source": [
    "# Correct mismatched spellings and normalize synonyms in the 'label' column\n",
    "label_corrections = {\n",
    "                            'othr':'other',\n",
    "                            'techsupport':'technical',\n",
    "                             'accnt': 'account',\n",
    "                              'other':'other',\n",
    "                              ' Account ':'account',\n",
    "                             'tech':'technical',\n",
    "                             'billng':'billing' # Added this correction\n",
    "}\n",
    "\n",
    "df['label'] = df['label'].replace(label_corrections)\n",
    "\n",
    "print(\"✅ Corrected spellings and normalized synonyms in the 'label' column.\")\n",
    "print(\"\\nValue counts after correction:\")\n",
    "print(df['label'].value_counts())"
   ]
  },
  {
   "cell_type": "code",
   "execution_count": 14,
   "id": "2792e769",
   "metadata": {},
   "outputs": [
    {
     "name": "stdout",
     "output_type": "stream",
     "text": [
      "Cleaned shape: (520, 4)\n"
     ]
    },
    {
     "data": {
      "text/html": [
       "<div>\n",
       "<style scoped>\n",
       "    .dataframe tbody tr th:only-of-type {\n",
       "        vertical-align: middle;\n",
       "    }\n",
       "\n",
       "    .dataframe tbody tr th {\n",
       "        vertical-align: top;\n",
       "    }\n",
       "\n",
       "    .dataframe thead th {\n",
       "        text-align: right;\n",
       "    }\n",
       "</style>\n",
       "<table border=\"1\" class=\"dataframe\">\n",
       "  <thead>\n",
       "    <tr style=\"text-align: right;\">\n",
       "      <th></th>\n",
       "      <th>text</th>\n",
       "      <th>label</th>\n",
       "      <th>ticket_id</th>\n",
       "      <th>agent_name</th>\n",
       "    </tr>\n",
       "  </thead>\n",
       "  <tbody>\n",
       "    <tr>\n",
       "      <th>0</th>\n",
       "      <td>where can i find api rate limits documentation</td>\n",
       "      <td>other</td>\n",
       "      <td>1000</td>\n",
       "      <td>dana</td>\n",
       "    </tr>\n",
       "    <tr>\n",
       "      <th>1</th>\n",
       "      <td>can i migrate data from freshdesk</td>\n",
       "      <td>other</td>\n",
       "      <td>1001</td>\n",
       "      <td>bob</td>\n",
       "    </tr>\n",
       "    <tr>\n",
       "      <th>2</th>\n",
       "      <td>cannot update billing address page keeps reloa...</td>\n",
       "      <td>billing</td>\n",
       "      <td>1002</td>\n",
       "      <td>charlie</td>\n",
       "    </tr>\n",
       "    <tr>\n",
       "      <th>3</th>\n",
       "      <td>looking for a product roadmap or upcoming feat...</td>\n",
       "      <td>other</td>\n",
       "      <td>1003</td>\n",
       "      <td>dana</td>\n",
       "    </tr>\n",
       "    <tr>\n",
       "      <th>4</th>\n",
       "      <td>dark mode toggled but ui stays light</td>\n",
       "      <td>technical</td>\n",
       "      <td>1004</td>\n",
       "      <td>alice</td>\n",
       "    </tr>\n",
       "  </tbody>\n",
       "</table>\n",
       "</div>"
      ],
      "text/plain": [
       "                                                text      label  ticket_id  \\\n",
       "0     where can i find api rate limits documentation      other       1000   \n",
       "1                  can i migrate data from freshdesk      other       1001   \n",
       "2  cannot update billing address page keeps reloa...    billing       1002   \n",
       "3  looking for a product roadmap or upcoming feat...      other       1003   \n",
       "4               dark mode toggled but ui stays light  technical       1004   \n",
       "\n",
       "  agent_name  \n",
       "0       dana  \n",
       "1        bob  \n",
       "2    charlie  \n",
       "3       dana  \n",
       "4      alice  "
      ]
     },
     "execution_count": 14,
     "metadata": {},
     "output_type": "execute_result"
    }
   ],
   "source": [
    "print(\"Cleaned shape:\", df.shape)\n",
    "df.head()"
   ]
  },
  {
   "cell_type": "markdown",
   "id": "ed8668c2",
   "metadata": {},
   "source": [
    "VISUALISATION "
   ]
  },
  {
   "cell_type": "code",
   "execution_count": 24,
   "id": "f35c6e79",
   "metadata": {},
   "outputs": [
    {
     "data": {
      "image/png": "[encoded data removed]",
      "text/plain": [
       "<Figure size 800x500 with 1 Axes>"
      ]
     },
     "metadata": {},
     "output_type": "display_data"
    },
    {
     "name": "stdout",
     "output_type": "stream",
     "text": [
      "value counts after cleaning:\n",
      "label\n",
      "other        128\n",
      "technical    125\n",
      "account      122\n",
      "billing      120\n",
      "unknown       25\n",
      "Name: count, dtype: int64\n"
     ]
    }
   ],
   "source": [
    "#Visualise class distribution \n",
    "plt.figure(figsize=(8,5))\n",
    "df['label'].value_counts().plot(kind='bar', color=['blue', 'orange', 'green', 'red', 'purple'])\n",
    "plt.title('Class Distribution')\n",
    "plt.xlabel('Class')\n",
    "plt.ylabel('count') \n",
    "plt.xticks(rotation=45)\n",
    "plt.show()\n",
    "\n",
    "print('value counts after cleaning:')\n",
    "print(df['label'].value_counts())"
   ]
  },
  {
   "cell_type": "code",
   "execution_count": 25,
   "id": "06448edd",
   "metadata": {},
   "outputs": [],
   "source": [
    "# Save cleaned data\n",
    "df.to_csv('customer_support_tickets_cleaned.csv', index=False)"
   ]
  },
  {
   "cell_type": "code",
   "execution_count": 27,
   "id": "f7cf7c9b",
   "metadata": {},
   "outputs": [
    {
     "name": "stdout",
     "output_type": "stream",
     "text": [
      "Missing values per column:\n",
      "text          0\n",
      "label         0\n",
      "ticket_id     0\n",
      "agent_name    0\n",
      "dtype: int64\n",
      "\n",
      " columns: ['text', 'label', 'ticket_id', 'agent_name']\n",
      "\n",
      " info:\n",
      "<class 'pandas.core.frame.DataFrame'>\n",
      "RangeIndex: 520 entries, 0 to 519\n",
      "Data columns (total 4 columns):\n",
      " #   Column      Non-Null Count  Dtype \n",
      "---  ------      --------------  ----- \n",
      " 0   text        520 non-null    object\n",
      " 1   label       520 non-null    object\n",
      " 2   ticket_id   520 non-null    int64 \n",
      " 3   agent_name  520 non-null    object\n",
      "dtypes: int64(1), object(3)\n",
      "memory usage: 16.4+ KB\n",
      "None\n"
     ]
    }
   ],
   "source": [
    "#Recheck for missing values\n",
    "print('Missing values per column:')\n",
    "print(df.isnull().sum())\n",
    "\n",
    "print('\\n columns:', df.columns.tolist())\n",
    "print('\\n info:')\n",
    "print(df.info())\n",
    "\n"
   ]
  },
  {
   "cell_type": "markdown",
   "id": "847202d9",
   "metadata": {},
   "source": [
    "Distribution Analysis"
   ]
  },
  {
   "cell_type": "code",
   "execution_count": 28,
   "id": "0d6c6272",
   "metadata": {},
   "outputs": [
    {
     "data": {
      "image/png": "[encoded data removed]",
      "text/plain": [
       "<Figure size 1000x600 with 1 Axes>"
      ]
     },
     "metadata": {},
     "output_type": "display_data"
    },
    {
     "name": "stdout",
     "output_type": "stream",
     "text": [
      "\n",
      " Value counts of agent names:\n",
      "agent_name\n",
      "alice      140\n",
      "charlie    132\n",
      "bob        130\n",
      "dana       118\n",
      "Name: count, dtype: int64\n"
     ]
    }
   ],
   "source": [
    "# Visualise the Distribution of 'agent_name'\n",
    "agent_counts = df['agent_name'].value_counts()\n",
    "\n",
    "plt.figure(figsize=(10,6))  \n",
    "agent_counts.plot(kind='bar', color='cyan')\n",
    "plt.title('Distribution of Agent Names')\n",
    "plt.xlabel('Agent Name')\n",
    "plt.ylabel('Count')\n",
    "plt.xticks(rotation=50)\n",
    "plt.show()\n",
    "\n",
    "print('\\n Value counts of agent names:')\n",
    "print(agent_counts)"
   ]
  },
  {
   "cell_type": "markdown",
   "id": "5be7a240",
   "metadata": {},
   "source": [
    "Distribution of Text Length"
   ]
  },
  {
   "cell_type": "code",
   "execution_count": 31,
   "id": "0a7f68de",
   "metadata": {},
   "outputs": [
    {
     "data": {
      "image/png": "[encoded data removed]",
      "text/plain": [
       "<Figure size 1000x600 with 1 Axes>"
      ]
     },
     "metadata": {},
     "output_type": "display_data"
    },
    {
     "name": "stdout",
     "output_type": "stream",
     "text": [
      "\n",
      " Text Length Statistics:\n",
      "count    520.000000\n",
      "mean      41.728846\n",
      "std       10.424217\n",
      "min        7.000000\n",
      "25%       37.000000\n",
      "50%       43.000000\n",
      "75%       50.000000\n",
      "max       61.000000\n",
      "Name: text_length, dtype: float64\n"
     ]
    }
   ],
   "source": [
    "# Explore the distribution of text lengths\n",
    "df['text_length'] = df['text'].apply(len)\n",
    "\n",
    "plt.figure(figsize=(10,6))\n",
    "df['text_length'].hist(bins=50)\n",
    "plt.title('Distribution of Text Lengths')\n",
    "plt.xlabel('Text Length')\n",
    "plt.ylabel('Frequency')\n",
    "plt.show()\n",
    "\n",
    "#Statistics for text length\n",
    "print('\\n Text Length Statistics:')\n",
    "print(df['text_length'].describe())\n"
   ]
  },
  {
   "cell_type": "markdown",
   "id": "8bdfbe78",
   "metadata": {},
   "source": [
    "Most Frequent Word Analysis"
   ]
  },
  {
   "cell_type": "code",
   "execution_count": 7,
   "id": "06c97a46",
   "metadata": {},
   "outputs": [
    {
     "name": "stdout",
     "output_type": "stream",
     "text": [
      "\n",
      " Most frequent words:\n",
      "fails: 41\n",
      "need: 41\n",
      "data: 40\n",
      "code: 35\n",
      "charged: 32\n",
      "checkout: 32\n",
      "error: 31\n",
      "incorrectly: 29\n",
      "team: 29\n",
      "sent: 27\n",
      "file: 26\n",
      "nan: 25\n",
      "page: 25\n",
      "upload: 25\n",
      "account: 24\n",
      "update: 24\n",
      "mode: 23\n",
      "12345: 22\n",
      "order: 22\n",
      "dark: 20\n"
     ]
    }
   ],
   "source": [
    "from sklearn.feature_extraction.text import CountVectorizer\n",
    "\n",
    "df['text']=df['text'].astype(str)\n",
    "\n",
    "vectorizer = CountVectorizer(stop_words='english')\n",
    "X = vectorizer.fit_transform(df['text'])\n",
    "\n",
    "word_counts = X.sum(axis=0).flatten()\n",
    "\n",
    "words=vectorizer.get_feature_names_out()\n",
    "word_freq = dict(zip(words, word_counts.tolist()[0]))\n",
    "\n",
    "most_common_words=Counter(word_freq).most_common(20)\n",
    "\n",
    "print('\\n Most frequent words:')\n",
    "for word, freq in most_common_words:\n",
    "    print(f'{word}: {freq}')"
   ]
  },
  {
   "cell_type": "code",
   "execution_count": 15,
   "id": "40a21861",
   "metadata": {},
   "outputs": [
    {
     "name": "stdout",
     "output_type": "stream",
     "text": [
      "\n",
      " Cross-tabulation of agent_name and label:\n"
     ]
    },
    {
     "data": {
      "text/html": [
       "<div>\n",
       "<style scoped>\n",
       "    .dataframe tbody tr th:only-of-type {\n",
       "        vertical-align: middle;\n",
       "    }\n",
       "\n",
       "    .dataframe tbody tr th {\n",
       "        vertical-align: top;\n",
       "    }\n",
       "\n",
       "    .dataframe thead th {\n",
       "        text-align: right;\n",
       "    }\n",
       "</style>\n",
       "<table border=\"1\" class=\"dataframe\">\n",
       "  <thead>\n",
       "    <tr style=\"text-align: right;\">\n",
       "      <th>label</th>\n",
       "      <th>account</th>\n",
       "      <th>billing</th>\n",
       "      <th>other</th>\n",
       "      <th>technical</th>\n",
       "    </tr>\n",
       "    <tr>\n",
       "      <th>agent_name</th>\n",
       "      <th></th>\n",
       "      <th></th>\n",
       "      <th></th>\n",
       "      <th></th>\n",
       "    </tr>\n",
       "  </thead>\n",
       "  <tbody>\n",
       "    <tr>\n",
       "      <th>alice</th>\n",
       "      <td>37</td>\n",
       "      <td>25</td>\n",
       "      <td>37</td>\n",
       "      <td>36</td>\n",
       "    </tr>\n",
       "    <tr>\n",
       "      <th>bob</th>\n",
       "      <td>31</td>\n",
       "      <td>29</td>\n",
       "      <td>38</td>\n",
       "      <td>25</td>\n",
       "    </tr>\n",
       "    <tr>\n",
       "      <th>charlie</th>\n",
       "      <td>29</td>\n",
       "      <td>37</td>\n",
       "      <td>26</td>\n",
       "      <td>34</td>\n",
       "    </tr>\n",
       "    <tr>\n",
       "      <th>dana</th>\n",
       "      <td>25</td>\n",
       "      <td>29</td>\n",
       "      <td>27</td>\n",
       "      <td>30</td>\n",
       "    </tr>\n",
       "  </tbody>\n",
       "</table>\n",
       "</div>"
      ],
      "text/plain": [
       "label       account  billing  other  technical\n",
       "agent_name                                    \n",
       "alice            37       25     37         36\n",
       "bob              31       29     38         25\n",
       "charlie          29       37     26         34\n",
       "dana             25       29     27         30"
      ]
     },
     "metadata": {},
     "output_type": "display_data"
    }
   ],
   "source": [
    "# Calculate the cross-tabulation of 'agent_name' and 'label'\n",
    "crosstab = pd.crosstab(df['agent_name'], df['label'])\n",
    "print('\\n Cross-tabulation of agent_name and label:')\n",
    "display(crosstab)"
   ]
  },
  {
   "cell_type": "code",
   "execution_count": 18,
   "id": "d0bd3498",
   "metadata": {},
   "outputs": [
    {
     "name": "stdout",
     "output_type": "stream",
     "text": [
      "\n",
      " Average text length for each label:\n",
      "label\n",
      "account      42.614754\n",
      "billing      40.933333\n",
      "other        42.328125\n",
      "technical    40.408000\n",
      "Name: text_length, dtype: float64\n",
      "\n",
      " Average text length by Agent name:\n",
      "agent_name\n",
      "alice      43.064286\n",
      "bob        42.015385\n",
      "charlie    39.643939\n",
      "dana       41.313559\n",
      "Name: text_length, dtype: float64\n"
     ]
    }
   ],
   "source": [
    "# Ensure the 'text_length' column exists (create it if missing)\n",
    "if 'text_length' not in df.columns:\n",
    "\tdf['text_length'] = df['text'].astype(str).str.len()\n",
    "\n",
    "# Calculate the average text length for each label\n",
    "avg_text_length_by_label = df.groupby('label')['text_length'].mean()\n",
    "print('\\n Average text length for each label:')\n",
    "print(avg_text_length_by_label)\n",
    "\n",
    "# Calculate the average text length for each agent\n",
    "avg_text_length_by_agent = df.groupby('agent_name')['text_length'].mean()\n",
    "print('\\n Average text length by Agent name:')\n",
    "print(avg_text_length_by_agent)"
   ]
  }
 ],
 "metadata": {
  "kernelspec": {
   "display_name": "myvenv",
   "language": "python",
   "name": "python3"
  },
  "language_info": {
   "codemirror_mode": {
    "name": "ipython",
    "version": 3
   },
   "file_extension": ".py",
   "mimetype": "text/x-python",
   "name": "python",
   "nbconvert_exporter": "python",
   "pygments_lexer": "ipython3",
   "version": "3.13.2"
  }
 },
 "nbformat": 4,
 "nbformat_minor": 5
}
