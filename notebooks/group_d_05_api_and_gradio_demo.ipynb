{
 "cells": [
  {
   "cell_type": "code",
   "execution_count": null,
   "id": "b275ebde",
   "metadata": {},
   "outputs": [],
   "source": [
    "# API and Gradio Demo for Text Summarization    "
   ]
  },
  {
   "cell_type": "code",
   "execution_count": null,
   "id": "668e8812",
   "metadata": {},
   "outputs": [],
   "source": [
    "#importing the required libraries\n",
    "import gradio as gr\n",
    "import requests\n",
    "import json\n",
    "import joblib\n",
    "import numpy as np\n",
    "import pandas as pd\n",
    "from transformers import pipeline\n",
    "from fastapi import FastAPI\n",
    "from pydantic import BaseModel  \n"
   ]
  },
  {
   "cell_type": "code",
   "execution_count": null,
   "id": "63e6a505",
   "metadata": {},
   "outputs": [],
   "source": [
    "model = joblib.load('text_summarization_model.pkl')"
   ]
  }
 ],
 "metadata": {
  "language_info": {
   "name": "python"
  }
 },
 "nbformat": 4,
 "nbformat_minor": 5
}
