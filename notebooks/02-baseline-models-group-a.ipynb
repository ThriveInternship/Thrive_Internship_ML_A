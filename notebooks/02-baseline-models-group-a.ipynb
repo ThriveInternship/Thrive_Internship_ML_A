{
 "cells": [
  {
   "cell_type": "markdown",
   "id": "b938f9ce",
   "metadata": {},
   "source": [
    "Importing Required Libraries"
   ]
  },
  {
   "cell_type": "code",
   "execution_count": 1,
   "id": "86b04270",
   "metadata": {},
   "outputs": [],
   "source": [
    "import os, json\n",
    "import pandas as pd\n",
    "import numpy as np\n",
    "import matplotlib.pyplot as plt\n",
    "from sklearn.model_selection import train_test_split\n",
    "from sklearn.metrics import (accuracy_score, classification_report,f1_score, confusion_matrix, ConfusionMatrixDisplay,classification_report)\n",
    "from sklearn.dummy import DummyClassifier \n",
    "from sklearn.feature_extraction.text import TfidfVectorizer,CountVectorizer\n",
    "from sklearn.linear_model import LogisticRegression\n",
    "from sklearn.naive_bayes import MultinomialNB\n",
    "from sklearn.svm import SVC\n",
    "import joblib\n",
    "\n",
    "#Creating Folders for Saving Resiults\n",
    "os.makedirs('artifacts', exist_ok=True)\n",
    "os.makedirs('models', exist_ok=True)\n"
   ]
  },
  {
   "cell_type": "markdown",
   "id": "dc2f4eab",
   "metadata": {},
   "source": [
    "Loading the Cleaned Dataset "
   ]
  },
  {
   "cell_type": "code",
   "execution_count": 9,
   "id": "ffa84fa2",
   "metadata": {},
   "outputs": [
    {
     "name": "stdout",
     "output_type": "stream",
     "text": [
      "Dataset Loaded Successfully\n",
      "Dataset Shape: (520, 4)\n"
     ]
    },
    {
     "data": {
      "text/html": [
       "<div>\n",
       "<style scoped>\n",
       "    .dataframe tbody tr th:only-of-type {\n",
       "        vertical-align: middle;\n",
       "    }\n",
       "\n",
       "    .dataframe tbody tr th {\n",
       "        vertical-align: top;\n",
       "    }\n",
       "\n",
       "    .dataframe thead th {\n",
       "        text-align: right;\n",
       "    }\n",
       "</style>\n",
       "<table border=\"1\" class=\"dataframe\">\n",
       "  <thead>\n",
       "    <tr style=\"text-align: right;\">\n",
       "      <th></th>\n",
       "      <th>text</th>\n",
       "      <th>label</th>\n",
       "      <th>ticket_id</th>\n",
       "      <th>agent_name</th>\n",
       "    </tr>\n",
       "  </thead>\n",
       "  <tbody>\n",
       "    <tr>\n",
       "      <th>0</th>\n",
       "      <td>Where can I find API rate limits documentation?</td>\n",
       "      <td>Other</td>\n",
       "      <td>1000</td>\n",
       "      <td>Dana</td>\n",
       "    </tr>\n",
       "    <tr>\n",
       "      <th>1</th>\n",
       "      <td>Can I migrate data from Freshdesk?</td>\n",
       "      <td>Other</td>\n",
       "      <td>1001</td>\n",
       "      <td>Bob</td>\n",
       "    </tr>\n",
       "    <tr>\n",
       "      <th>2</th>\n",
       "      <td>Cannot update billing address page keeps reloa...</td>\n",
       "      <td>Billing</td>\n",
       "      <td>1002</td>\n",
       "      <td>Charlie</td>\n",
       "    </tr>\n",
       "    <tr>\n",
       "      <th>3</th>\n",
       "      <td>Looking for a product roadmap or upcoming feat...</td>\n",
       "      <td>Other</td>\n",
       "      <td>1003</td>\n",
       "      <td>Dana</td>\n",
       "    </tr>\n",
       "    <tr>\n",
       "      <th>4</th>\n",
       "      <td>Dark mode toggled but UI stays light.</td>\n",
       "      <td>Technical</td>\n",
       "      <td>1004</td>\n",
       "      <td>Alice</td>\n",
       "    </tr>\n",
       "  </tbody>\n",
       "</table>\n",
       "</div>"
      ],
      "text/plain": [
       "                                                text      label  ticket_id  \\\n",
       "0    Where can I find API rate limits documentation?      Other       1000   \n",
       "1                 Can I migrate data from Freshdesk?      Other       1001   \n",
       "2  Cannot update billing address page keeps reloa...    Billing       1002   \n",
       "3  Looking for a product roadmap or upcoming feat...      Other       1003   \n",
       "4              Dark mode toggled but UI stays light.  Technical       1004   \n",
       "\n",
       "  agent_name  \n",
       "0       Dana  \n",
       "1        Bob  \n",
       "2    Charlie  \n",
       "3       Dana  \n",
       "4      Alice  "
      ]
     },
     "execution_count": 9,
     "metadata": {},
     "output_type": "execute_result"
    }
   ],
   "source": [
    "df=pd.read_csv(r'C:\\Users\\CKB ENT\\Desktop\\Machine Learning and AI\\Internship\\Thrive_Internship_ML_A\\customer_support_tickets_clean_500 (3).csv')\n",
    "print(\"Dataset Loaded Successfully\")\n",
    "print(f\"Dataset Shape: {df.shape}\")\n",
    "df.head()"
   ]
  },
  {
   "cell_type": "markdown",
   "id": "ace8919f",
   "metadata": {},
   "source": [
    "Splitting the Data Set"
   ]
  },
  {
   "cell_type": "code",
   "execution_count": 10,
   "id": "df5f6e13",
   "metadata": {},
   "outputs": [
    {
     "name": "stdout",
     "output_type": "stream",
     "text": [
      "Train/test sizes: 416 104\n"
     ]
    }
   ],
   "source": [
    "X = df[\"text\"]; y = df[\"label\"]\n",
    "X_train, X_test, y_train, y_test = train_test_split(X, y, test_size=0.2, stratify=y, random_state=42)\n",
    "print(\"Train/test sizes:\", len(X_train), len(X_test))\n",
    "\n"
   ]
  },
  {
   "cell_type": "markdown",
   "id": "a6ee895c",
   "metadata": {},
   "source": [
    "Model Training"
   ]
  },
  {
   "cell_type": "code",
   "execution_count": 15,
   "id": "12e9f035",
   "metadata": {},
   "outputs": [
    {
     "name": "stdout",
     "output_type": "stream",
     "text": [
      "Training Majority ...\n",
      "Majority: Accuracy=0.250, Weighted F1=0.100\n",
      "Training Log_Reg ...\n",
      "Log_Reg: Accuracy=0.827, Weighted F1=0.861\n",
      "Training TFIDF_LogReg ...\n",
      "TFIDF_LogReg: Accuracy=0.779, Weighted F1=0.831\n",
      "Training TFIDF_NB ...\n",
      "TFIDF_NB: Accuracy=0.904, Weighted F1=0.881\n",
      "Training BOW_NB ...\n",
      "BOW_NB: Accuracy=0.923, Weighted F1=0.909\n",
      "Training TFIDF_LinearSVC ...\n",
      "TFIDF_LinearSVC: Accuracy=0.885, Weighted F1=0.871\n",
      "\n",
      "Comparison:\n"
     ]
    },
    {
     "data": {
      "text/html": [
       "<div>\n",
       "<style scoped>\n",
       "    .dataframe tbody tr th:only-of-type {\n",
       "        vertical-align: middle;\n",
       "    }\n",
       "\n",
       "    .dataframe tbody tr th {\n",
       "        vertical-align: top;\n",
       "    }\n",
       "\n",
       "    .dataframe thead th {\n",
       "        text-align: right;\n",
       "    }\n",
       "</style>\n",
       "<table border=\"1\" class=\"dataframe\">\n",
       "  <thead>\n",
       "    <tr style=\"text-align: right;\">\n",
       "      <th></th>\n",
       "      <th>Model</th>\n",
       "      <th>Accuracy</th>\n",
       "      <th>Weighted_F1</th>\n",
       "      <th>Note</th>\n",
       "    </tr>\n",
       "  </thead>\n",
       "  <tbody>\n",
       "    <tr>\n",
       "      <th>4</th>\n",
       "      <td>BOW_NB</td>\n",
       "      <td>0.923077</td>\n",
       "      <td>0.909462</td>\n",
       "      <td>CountVectorizer + MultinomialNB</td>\n",
       "    </tr>\n",
       "    <tr>\n",
       "      <th>3</th>\n",
       "      <td>TFIDF_NB</td>\n",
       "      <td>0.903846</td>\n",
       "      <td>0.881177</td>\n",
       "      <td>TF-IDF + MultinomialNB</td>\n",
       "    </tr>\n",
       "    <tr>\n",
       "      <th>5</th>\n",
       "      <td>TFIDF_LinearSVC</td>\n",
       "      <td>0.884615</td>\n",
       "      <td>0.871219</td>\n",
       "      <td>TF-IDF + LinearSVC</td>\n",
       "    </tr>\n",
       "    <tr>\n",
       "      <th>1</th>\n",
       "      <td>Log_Reg</td>\n",
       "      <td>0.826923</td>\n",
       "      <td>0.861209</td>\n",
       "      <td>Logistic Regression on raw text (no vectorizat...</td>\n",
       "    </tr>\n",
       "    <tr>\n",
       "      <th>2</th>\n",
       "      <td>TFIDF_LogReg</td>\n",
       "      <td>0.778846</td>\n",
       "      <td>0.830881</td>\n",
       "      <td>TF-IDF + Logistic Regression</td>\n",
       "    </tr>\n",
       "    <tr>\n",
       "      <th>0</th>\n",
       "      <td>Majority</td>\n",
       "      <td>0.250000</td>\n",
       "      <td>0.100000</td>\n",
       "      <td>Predicts the most frequent label.</td>\n",
       "    </tr>\n",
       "  </tbody>\n",
       "</table>\n",
       "</div>"
      ],
      "text/plain": [
       "             Model  Accuracy  Weighted_F1  \\\n",
       "4           BOW_NB  0.923077     0.909462   \n",
       "3         TFIDF_NB  0.903846     0.881177   \n",
       "5  TFIDF_LinearSVC  0.884615     0.871219   \n",
       "1          Log_Reg  0.826923     0.861209   \n",
       "2     TFIDF_LogReg  0.778846     0.830881   \n",
       "0         Majority  0.250000     0.100000   \n",
       "\n",
       "                                                Note  \n",
       "4                    CountVectorizer + MultinomialNB  \n",
       "3                             TF-IDF + MultinomialNB  \n",
       "5                                 TF-IDF + LinearSVC  \n",
       "1  Logistic Regression on raw text (no vectorizat...  \n",
       "2                       TF-IDF + Logistic Regression  \n",
       "0                  Predicts the most frequent label.  "
      ]
     },
     "metadata": {},
     "output_type": "display_data"
    },
    {
     "name": "stdout",
     "output_type": "stream",
     "text": [
      "\n",
      "Best model: BOW_NB\n",
      "\n",
      "Detailed eval for best model (BOW_NB):\n",
      "              precision    recall  f1-score   support\n",
      "\n",
      "     Account       0.89      1.00      0.94        24\n",
      "     Billing       1.00      0.96      0.98        24\n",
      "       Other       0.93      1.00      0.96        26\n",
      "   Technical       0.96      0.92      0.94        25\n",
      "     unknown       0.00      0.00      0.00         5\n",
      "\n",
      "    accuracy                           0.92       104\n",
      "   macro avg       0.76      0.78      0.76       104\n",
      "weighted avg       0.90      0.92      0.91       104\n",
      "\n"
     ]
    },
    {
     "data": {
      "image/png": "[encoded data removed]",
      "text/plain": [
       "<Figure size 640x480 with 2 Axes>"
      ]
     },
     "metadata": {},
     "output_type": "display_data"
    },
    {
     "name": "stdout",
     "output_type": "stream",
     "text": [
      "\n",
      "Artifacts saved to: artifacts\n",
      "Models saved to: models\n"
     ]
    }
   ],
   "source": [
    "# Model definitions\n",
    "from sklearn.svm import LinearSVC\n",
    "from sklearn.pipeline import make_pipeline\n",
    "\n",
    "# Ensure path variables exist (folders already created in an earlier cell)\n",
    "artifacts_dir = 'artifacts'\n",
    "models_dir = 'models'\n",
    "# legacy name used elsewhere in the notebook\n",
    "artifacts = artifacts_dir\n",
    "\n",
    "models = {\n",
    "    'Majority': DummyClassifier(strategy=\"most_frequent\"),\n",
    "    # Wrap logistic regression in a vectorizer pipeline so text is converted to numeric features\n",
    "    'Log_Reg': make_pipeline(CountVectorizer(ngram_range=(1,2), max_features=20000, stop_words='english'), LogisticRegression(max_iter=1000, class_weight='balanced', random_state=42)),\n",
    "    'TFIDF_LogReg': make_pipeline(TfidfVectorizer(ngram_range=(1,2), max_features=20000, stop_words='english'), LogisticRegression(max_iter=1000, class_weight='balanced', random_state=42)),\n",
    "    'TFIDF_NB': make_pipeline(TfidfVectorizer(ngram_range=(1,2), max_features=20000, stop_words='english'), MultinomialNB()),\n",
    "    'BOW_NB': make_pipeline(CountVectorizer(ngram_range=(1,2), max_features=15000, stop_words='english'), MultinomialNB()),\n",
    "    'TFIDF_LinearSVC': make_pipeline(TfidfVectorizer(ngram_range=(1,2), max_features=20000, stop_words='english'), LinearSVC(max_iter=10000, class_weight='balanced', random_state=42))\n",
    "}\n",
    "\n",
    "notes = {\n",
    "    'Majority': \"Predicts the most frequent label.\",\n",
    "    'Log_Reg': \"Logistic Regression on raw text (no vectorization).\",\n",
    "    'TFIDF_LogReg': \"TF-IDF + Logistic Regression\",\n",
    "    'TFIDF_NB': \"TF-IDF + MultinomialNB\",\n",
    "    'BOW_NB': \"CountVectorizer + MultinomialNB\",\n",
    "    'TFIDF_LinearSVC': \"TF-IDF + LinearSVC\"\n",
    "}\n",
    "\n",
    "results = {}\n",
    "fitted = {}\n",
    "\n",
    "for name, model in models.items():\n",
    "    print(f\"Training {name} ...\")\n",
    "    if name == 'Majority':\n",
    "        model.fit(np.zeros((len(y_train),1)), y_train)\n",
    "        y_pred = model.predict(np.zeros((len(y_test),1)))\n",
    "    else:\n",
    "        model.fit(X_train, y_train)\n",
    "        y_pred = model.predict(X_test)\n",
    "    acc = accuracy_score(y_test, y_pred)\n",
    "    f1w = f1_score(y_test, y_pred, average='weighted')\n",
    "    results[name] = {'accuracy': float(acc), 'weighted_f1': float(f1w), 'note': notes[name]}\n",
    "    fitted[name] = model\n",
    "    print(f\"{name}: Accuracy={acc:.3f}, Weighted F1={f1w:.3f}\")\n",
    "\n",
    "# Save metrics and comparison\n",
    "metrics_file = os.path.join(artifacts_dir, \"baseline_metrics.json\")\n",
    "with open(metrics_file, \"w\") as f:\n",
    "    json.dump(results, f, indent=2)\n",
    "\n",
    "comp = pd.DataFrame([{'Model':k, 'Accuracy':v['accuracy'], 'Weighted_F1':v['weighted_f1'], 'Note':v['note']} for k,v in results.items()]).sort_values('Weighted_F1', ascending=False)\n",
    "comp.to_csv(os.path.join(artifacts_dir, \"baseline_comparison.csv\"), index=False)\n",
    "\n",
    "# Save models\n",
    "for name, obj in fitted.items():\n",
    "    joblib.dump(obj, os.path.join(models_dir, f\"{name}.joblib\"))\n",
    "\n",
    "print(\"\\nComparison:\")\n",
    "display(comp)\n",
    "\n",
    "best = comp.iloc[0]['Model']\n",
    "print(\"\\nBest model:\", best)\n",
    "\n",
    "# Show classification report and confusion matrix for best\n",
    "print(f\"\\nDetailed eval for best model ({best}):\")\n",
    "if best == 'Majority':\n",
    "    y_pred_best = fitted[best].predict(np.zeros((len(y_test),1)))\n",
    "else:\n",
    "    y_pred_best = fitted[best].predict(X_test)\n",
    "\n",
    "print(classification_report(y_test, y_pred_best, zero_division=0))\n",
    "ConfusionMatrixDisplay.from_predictions(y_test, y_pred_best)\n",
    "plt.title(f\"Confusion Matrix - {best}\")\n",
    "plt.show()\n",
    "\n",
    "print(\"\\nArtifacts saved to:\", artifacts_dir)\n",
    "print(\"Models saved to:\", models_dir)"
   ]
  },
  {
   "cell_type": "markdown",
   "metadata": {},
   "source": []
  }
 ],
 "metadata": {
  "kernelspec": {
   "display_name": "Python 3",
   "language": "python",
   "name": "python3"
  },
  "language_info": {
   "codemirror_mode": {
    "name": "ipython",
    "version": 3
   },
   "file_extension": ".py",
   "mimetype": "text/x-python",
   "name": "python",
   "nbconvert_exporter": "python",
   "pygments_lexer": "ipython3",
   "version": "3.13.2"
  }
 },
 "nbformat": 4,
 "nbformat_minor": 5
}
