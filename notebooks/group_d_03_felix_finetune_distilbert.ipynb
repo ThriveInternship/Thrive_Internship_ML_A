{
 "cells": [
  {
   "cell_type": "markdown",
   "id": "60fa3ba4",
   "metadata": {},
   "source": [
    "# Fine-tuning DistilBERT for Customer Support Ticket Classification\n",
    "\n",
    "In this notebook, we'll fine-tune the DistilBERT model on our cleaned customer support tickets dataset. We'll:\n",
    "1. Load and preprocess the data\n",
    "2. Set up DistilBERT model and tokenizer\n",
    "3. Train for 3-5 epochs\n",
    "4. Evaluate model performance\n",
    "5. Save the fine-tuned model"
   ]
  },
  {
   "cell_type": "code",
   "execution_count": 23,
   "id": "0100b1ac",
   "metadata": {},
   "outputs": [],
   "source": [
    "# Import required libraries\n",
    "import pandas as pd\n",
    "import numpy as np\n",
    "from sklearn.model_selection import train_test_split\n",
    "from sklearn.preprocessing import LabelEncoder\n",
    "from transformers import DistilBertTokenizer, DistilBertForSequenceClassification, Trainer, TrainingArguments\n",
    "from datasets import Dataset\n",
    "import torch\n",
    "import evaluate\n",
    "import os\n",
    "\n",
    "# Set random seed for reproducibility\n",
    "torch.manual_seed(42)\n",
    "np.random.seed(42)"
   ]
  },
  {
   "cell_type": "code",
   "execution_count": 24,
   "id": "aca1cb84",
   "metadata": {},
   "outputs": [
    {
     "name": "stdout",
     "output_type": "stream",
     "text": [
      "Training samples: 377\n",
      "Validation samples: 95\n",
      "\n",
      "Label mapping:\n",
      "Technical: 0\n",
      "account: 1\n",
      "billing: 2\n",
      "other: 3\n"
     ]
    }
   ],
   "source": [
    "# Load the dataset\n",
    "df = pd.read_csv('../data/customer_support_tickets_clean_500.csv')\n",
    "label_mapping = {\n",
    "    'Billing ': 'billing',\n",
    "    'Billng': 'billing',\n",
    "    'billing': 'billing',\n",
    "    'BILLING': 'billing',\n",
    "    \n",
    "    'ACCOUNT': 'account',\n",
    "    'Accnt': 'account',\n",
    "    'account': 'account',\n",
    "    'Account ': 'account',\n",
    "    \n",
    "    ' Account ': 'account',  # Add this line\n",
    "    \n",
    "    'Other': 'other',\n",
    "    'other': 'other',\n",
    "    'Othr': 'other',\n",
    "    'Other ': 'other',\n",
    "    'OTHER': 'other',\n",
    "    \n",
    "    'TECHNICAL': 'Technical',\n",
    "    'Tech': 'Technical',\n",
    "    'technical': 'Technical',\n",
    "    'Tech-support': 'Technical',\n",
    "    ' Tech': 'Technical'  # Add this line\n",
    "}\n",
    "\n",
    "df['label'] = df['label'].map(label_mapping).fillna(df['label'])\n",
    "\n",
    "# Encode labels\n",
    "label_encoder = LabelEncoder()\n",
    "df['label_encoded'] = label_encoder.fit_transform(df['label'])\n",
    "\n",
    "# Split the data\n",
    "train_df, val_df = train_test_split(df, test_size=0.2, random_state=42, stratify=df['label_encoded'])\n",
    "\n",
    "# Create Dataset objects\n",
    "train_dataset = Dataset.from_pandas(train_df)\n",
    "val_dataset = Dataset.from_pandas(val_df)\n",
    "\n",
    "print(f\"Training samples: {len(train_dataset)}\")\n",
    "print(f\"Validation samples: {len(val_dataset)}\")\n",
    "print(f\"\\nLabel mapping:\")\n",
    "for i, label in enumerate(label_encoder.classes_):\n",
    "    print(f\"{label}: {i}\")"
   ]
  },
  {
   "cell_type": "code",
   "execution_count": 25,
   "id": "a3f77605",
   "metadata": {},
   "outputs": [
    {
     "name": "stderr",
     "output_type": "stream",
     "text": [
      "Some weights of DistilBertForSequenceClassification were not initialized from the model checkpoint at distilbert-base-uncased and are newly initialized: ['classifier.bias', 'classifier.weight', 'pre_classifier.bias', 'pre_classifier.weight']\n",
      "You should probably TRAIN this model on a down-stream task to be able to use it for predictions and inference.\n"
     ]
    },
    {
     "data": {
      "application/vnd.jupyter.widget-view+json": {
       "model_id": "1e24a8b4baa84b4195210b1b8ac0ab14",
       "version_major": 2,
       "version_minor": 0
      },
      "text/plain": [
       "Map:   0%|          | 0/377 [00:00<?, ? examples/s]"
      ]
     },
     "metadata": {},
     "output_type": "display_data"
    },
    {
     "data": {
      "application/vnd.jupyter.widget-view+json": {
       "model_id": "0ee6596c1d7544b199e98e291764dcfa",
       "version_major": 2,
       "version_minor": 0
      },
      "text/plain": [
       "Map:   0%|          | 0/95 [00:00<?, ? examples/s]"
      ]
     },
     "metadata": {},
     "output_type": "display_data"
    }
   ],
   "source": [
    "# Initialize tokenizer and model\n",
    "tokenizer = DistilBertTokenizer.from_pretrained('distilbert-base-uncased')\n",
    "num_labels = len(label_encoder.classes_)\n",
    "model = DistilBertForSequenceClassification.from_pretrained('distilbert-base-uncased', num_labels=num_labels)\n",
    "\n",
    "# Tokenization function\n",
    "def tokenize_function(examples):\n",
    "    return tokenizer(examples['text'], padding='max_length', truncation=True, max_length=128)\n",
    "\n",
    "# Tokenize datasets\n",
    "train_dataset = train_dataset.map(tokenize_function, batched=True)\n",
    "val_dataset = val_dataset.map(tokenize_function, batched=True)\n",
    "\n",
    "# Rename label column to 'labels' for Trainer compatibility\n",
    "train_dataset = train_dataset.rename_column('label_encoded', 'labels')\n",
    "val_dataset = val_dataset.rename_column('label_encoded', 'labels')\n",
    "\n",
    "# Set format for PyTorch\n",
    "train_dataset.set_format('torch', columns=['input_ids', 'attention_mask', 'labels'])\n",
    "val_dataset.set_format('torch', columns=['input_ids', 'attention_mask', 'labels'])"
   ]
  },
  {
   "cell_type": "code",
   "execution_count": 26,
   "id": "d559dd51",
   "metadata": {},
   "outputs": [],
   "source": [
    "# Define metrics computation\n",
    "metric = evaluate.load(\"accuracy\")\n",
    "\n",
    "def compute_metrics(eval_pred):\n",
    "    predictions, labels = eval_pred\n",
    "    predictions = np.argmax(predictions, axis=1)\n",
    "    return metric.compute(predictions=predictions, references=labels)\n",
    "\n",
    "# Set up training arguments\n",
    "training_args = TrainingArguments(\n",
    "    output_dir='../models/distilbert-ticket-classifier',\n",
    "    num_train_epochs=3,\n",
    "    per_device_train_batch_size=16,\n",
    "    per_device_eval_batch_size=16,\n",
    "    warmup_steps=500,\n",
    "    weight_decay=0.01,\n",
    "    logging_dir='../logs',\n",
    "    logging_steps=10,\n",
    "    eval_strategy='epoch',\n",
    "    save_strategy='epoch',\n",
    "    load_best_model_at_end=True,\n",
    "  \n",
    ")\n",
    "\n",
    "# Initialize Trainer\n",
    "trainer = Trainer(\n",
    "    model=model,\n",
    "    args=training_args,\n",
    "    train_dataset=train_dataset,\n",
    "    eval_dataset=val_dataset,\n",
    "    compute_metrics=compute_metrics,\n",
    ")"
   ]
  },
  {
   "cell_type": "markdown",
   "id": "ba595e77",
   "metadata": {},
   "source": [
    "\n",
    "Evaluation metrics:\n",
    "eval_loss: 0.9946\n",
    "eval_accuracy: 0.8947\n",
    "eval_runtime: 82.7175\n",
    "eval_samples_per_second: 1.1480\n",
    "eval_steps_per_second: 0.0730\n",
    "epoch: 3.0000\n",
    "\n"
   ]
  },
  {
   "cell_type": "code",
   "execution_count": 27,
   "id": "8a7df2a8",
   "metadata": {},
   "outputs": [
    {
     "name": "stderr",
     "output_type": "stream",
     "text": [
      "c:\\Users\\USER\\AppData\\Local\\Programs\\Python\\Python313\\Lib\\site-packages\\torch\\utils\\data\\dataloader.py:665: UserWarning: 'pin_memory' argument is set as true but no accelerator is found, then device pinned memory won't be used.\n",
      "  warnings.warn(warn_msg)\n"
     ]
    },
    {
     "data": {
      "text/html": [
       "\n",
       "    <div>\n",
       "      \n",
       "      <progress value='72' max='72' style='width:300px; height:20px; vertical-align: middle;'></progress>\n",
       "      [72/72 59:30, Epoch 3/3]\n",
       "    </div>\n",
       "    <table border=\"1\" class=\"dataframe\">\n",
       "  <thead>\n",
       " <tr style=\"text-align: left;\">\n",
       "      <th>Epoch</th>\n",
       "      <th>Training Loss</th>\n",
       "      <th>Validation Loss</th>\n",
       "      <th>Accuracy</th>\n",
       "    </tr>\n",
       "  </thead>\n",
       "  <tbody>\n",
       "    <tr>\n",
       "      <td>1</td>\n",
       "      <td>1.375800</td>\n",
       "      <td>1.354704</td>\n",
       "      <td>0.547368</td>\n",
       "    </tr>\n",
       "    <tr>\n",
       "      <td>2</td>\n",
       "      <td>1.336000</td>\n",
       "      <td>1.268200</td>\n",
       "      <td>0.821053</td>\n",
       "    </tr>\n",
       "    <tr>\n",
       "      <td>3</td>\n",
       "      <td>1.117300</td>\n",
       "      <td>0.994592</td>\n",
       "      <td>0.894737</td>\n",
       "    </tr>\n",
       "  </tbody>\n",
       "</table><p>"
      ],
      "text/plain": [
       "<IPython.core.display.HTML object>"
      ]
     },
     "metadata": {},
     "output_type": "display_data"
    },
    {
     "name": "stderr",
     "output_type": "stream",
     "text": [
      "c:\\Users\\USER\\AppData\\Local\\Programs\\Python\\Python313\\Lib\\site-packages\\torch\\utils\\data\\dataloader.py:665: UserWarning: 'pin_memory' argument is set as true but no accelerator is found, then device pinned memory won't be used.\n",
      "  warnings.warn(warn_msg)\n",
      "c:\\Users\\USER\\AppData\\Local\\Programs\\Python\\Python313\\Lib\\site-packages\\torch\\utils\\data\\dataloader.py:665: UserWarning: 'pin_memory' argument is set as true but no accelerator is found, then device pinned memory won't be used.\n",
      "  warnings.warn(warn_msg)\n"
     ]
    },
    {
     "name": "stdout",
     "output_type": "stream",
     "text": [
      "\n",
      "Training metrics:\n",
      "Total training steps: 72\n",
      "Training loss: 1.2907\n"
     ]
    },
    {
     "name": "stderr",
     "output_type": "stream",
     "text": [
      "c:\\Users\\USER\\AppData\\Local\\Programs\\Python\\Python313\\Lib\\site-packages\\torch\\utils\\data\\dataloader.py:665: UserWarning: 'pin_memory' argument is set as true but no accelerator is found, then device pinned memory won't be used.\n",
      "  warnings.warn(warn_msg)\n"
     ]
    },
    {
     "data": {
      "text/html": [
       "\n",
       "    <div>\n",
       "      \n",
       "      <progress value='6' max='6' style='width:300px; height:20px; vertical-align: middle;'></progress>\n",
       "      [6/6 01:07]\n",
       "    </div>\n",
       "    "
      ],
      "text/plain": [
       "<IPython.core.display.HTML object>"
      ]
     },
     "metadata": {},
     "output_type": "display_data"
    },
    {
     "name": "stdout",
     "output_type": "stream",
     "text": [
      "\n",
      "Evaluation metrics:\n",
      "eval_loss: 0.9946\n",
      "eval_accuracy: 0.8947\n",
      "eval_runtime: 82.7175\n",
      "eval_samples_per_second: 1.1480\n",
      "eval_steps_per_second: 0.0730\n",
      "epoch: 3.0000\n"
     ]
    }
   ],
   "source": [
    "# Train the model\n",
    "train_results = trainer.train()\n",
    "\n",
    "# Print training metrics\n",
    "print(\"\\nTraining metrics:\")\n",
    "print(f\"Total training steps: {train_results.global_step}\")\n",
    "print(f\"Training loss: {train_results.training_loss:.4f}\")\n",
    "\n",
    "# Evaluate the model\n",
    "eval_results = trainer.evaluate()\n",
    "print(\"\\nEvaluation metrics:\")\n",
    "for key, value in eval_results.items():\n",
    "    print(f\"{key}: {value:.4f}\")"
   ]
  },
  {
   "cell_type": "code",
   "execution_count": 28,
   "id": "244c5c94",
   "metadata": {},
   "outputs": [
    {
     "name": "stdout",
     "output_type": "stream",
     "text": [
      "\n",
      "Model saved to: ../models/distilbert-ticket-classifier\n",
      "Label mapping saved to: label_mapping.json\n"
     ]
    }
   ],
   "source": [
    "# Save the model and tokenizer\n",
    "output_dir = '../models/distilbert-ticket-classifier'\n",
    "model.save_pretrained(output_dir)\n",
    "tokenizer.save_pretrained(output_dir)\n",
    "\n",
    "# Save label encoder classes\n",
    "import json\n",
    "label_classes = {i: label for i, label in enumerate(label_encoder.classes_)}\n",
    "with open(os.path.join(output_dir, 'label_mapping.json'), 'w') as f:\n",
    "    json.dump(label_classes, f)\n",
    "\n",
    "print(f\"\\nModel saved to: {output_dir}\")\n",
    "print(\"Label mapping saved to: label_mapping.json\")"
   ]
  }
 ],
 "metadata": {
  "kernelspec": {
   "display_name": "Python 3",
   "language": "python",
   "name": "python3"
  },
  "language_info": {
   "codemirror_mode": {
    "name": "ipython",
    "version": 3
   },
   "file_extension": ".py",
   "mimetype": "text/x-python",
   "name": "python",
   "nbconvert_exporter": "python",
   "pygments_lexer": "ipython3",
   "version": "3.13.5"
  }
 },
 "nbformat": 4,
 "nbformat_minor": 5
}
